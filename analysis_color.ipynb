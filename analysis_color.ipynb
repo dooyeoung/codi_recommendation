{
 "cells": [
  {
   "cell_type": "code",
   "execution_count": 15,
   "metadata": {
    "collapsed": true
   },
   "outputs": [],
   "source": [
    "import pandas as pd\n",
    "from ipywidgets import widgets"
   ]
  },
  {
   "cell_type": "code",
   "execution_count": 16,
   "metadata": {
    "collapsed": true
   },
   "outputs": [],
   "source": [
    "df_codis_info = pd.read_csv(\"data/codis_info.csv\")"
   ]
  },
  {
   "cell_type": "markdown",
   "metadata": {},
   "source": [
    "### RGB Color 확인(전체)"
   ]
  },
  {
   "cell_type": "code",
   "execution_count": 17,
   "metadata": {
    "collapsed": true
   },
   "outputs": [],
   "source": [
    "ar_codis_RGB = df_codis_info.filter(regex=\"[RGB]\").values"
   ]
  },
  {
   "cell_type": "code",
   "execution_count": 18,
   "metadata": {
    "collapsed": true
   },
   "outputs": [],
   "source": [
    "color_RGB = ar_codis_RGB.reshape(1116*3, 3) / 256"
   ]
  },
  {
   "cell_type": "code",
   "execution_count": 19,
   "metadata": {
    "collapsed": true
   },
   "outputs": [],
   "source": [
    "def plot_color(azim):\n",
    "    fig = plt.figure(figsize = (10, 10))\n",
    "    ax = fig.add_subplot(111, projection='3d');\n",
    "    ax.scatter(color_RGB[:,0], color_RGB[:,1], color_RGB[:,2], c=color_RGB, s=20, cmap=plt.cm.jet, alpha=1)\n",
    "    ax.view_init(20, azim)"
   ]
  },
  {
   "cell_type": "code",
   "execution_count": 20,
   "metadata": {},
   "outputs": [
    {
     "data": {
      "application/vnd.jupyter.widget-view+json": {
       "model_id": "1c4aff813eca49d18fd2e105cb7da3ad",
       "version_major": 2,
       "version_minor": 0
      },
      "text/html": [
       "<p>Failed to display Jupyter Widget of type <code>interactive</code>.</p>\n",
       "<p>\n",
       "  If you're reading this message in the Jupyter Notebook or JupyterLab Notebook, it may mean\n",
       "  that the widgets JavaScript is still loading. If this message persists, it\n",
       "  likely means that the widgets JavaScript library is either not installed or\n",
       "  not enabled. See the <a href=\"https://ipywidgets.readthedocs.io/en/stable/user_install.html\">Jupyter\n",
       "  Widgets Documentation</a> for setup instructions.\n",
       "</p>\n",
       "<p>\n",
       "  If you're reading this message in another frontend (for example, a static\n",
       "  rendering on GitHub or <a href=\"https://nbviewer.jupyter.org/\">NBViewer</a>),\n",
       "  it may mean that your frontend doesn't currently support widgets.\n",
       "</p>\n"
      ],
      "text/plain": [
       "interactive(children=(IntSlider(value=0, description='azim', max=180, step=10), Output()), _dom_classes=('widget-interact',))"
      ]
     },
     "metadata": {},
     "output_type": "display_data"
    }
   ],
   "source": [
    "widgets.interact(plot_color, azim=widgets.IntSlider(min=0,max=180,step=10,value=0));"
   ]
  },
  {
   "cell_type": "markdown",
   "metadata": {},
   "source": [
    "### HSV Color 확인(전체)"
   ]
  },
  {
   "cell_type": "code",
   "execution_count": 21,
   "metadata": {},
   "outputs": [
    {
     "data": {
      "text/plain": [
       "(1116, 9)"
      ]
     },
     "execution_count": 21,
     "metadata": {},
     "output_type": "execute_result"
    }
   ],
   "source": [
    "ar_codis_RGB.shape"
   ]
  },
  {
   "cell_type": "code",
   "execution_count": 22,
   "metadata": {},
   "outputs": [
    {
     "data": {
      "text/html": [
       "<div>\n",
       "<style>\n",
       "    .dataframe thead tr:only-child th {\n",
       "        text-align: right;\n",
       "    }\n",
       "\n",
       "    .dataframe thead th {\n",
       "        text-align: left;\n",
       "    }\n",
       "\n",
       "    .dataframe tbody tr th {\n",
       "        vertical-align: top;\n",
       "    }\n",
       "</style>\n",
       "<table border=\"1\" class=\"dataframe\">\n",
       "  <thead>\n",
       "    <tr style=\"text-align: right;\">\n",
       "      <th></th>\n",
       "    </tr>\n",
       "  </thead>\n",
       "  <tbody>\n",
       "    <tr>\n",
       "      <th>0</th>\n",
       "    </tr>\n",
       "    <tr>\n",
       "      <th>1</th>\n",
       "    </tr>\n",
       "    <tr>\n",
       "      <th>2</th>\n",
       "    </tr>\n",
       "    <tr>\n",
       "      <th>3</th>\n",
       "    </tr>\n",
       "    <tr>\n",
       "      <th>4</th>\n",
       "    </tr>\n",
       "    <tr>\n",
       "      <th>5</th>\n",
       "    </tr>\n",
       "    <tr>\n",
       "      <th>6</th>\n",
       "    </tr>\n",
       "    <tr>\n",
       "      <th>7</th>\n",
       "    </tr>\n",
       "    <tr>\n",
       "      <th>8</th>\n",
       "    </tr>\n",
       "    <tr>\n",
       "      <th>9</th>\n",
       "    </tr>\n",
       "    <tr>\n",
       "      <th>10</th>\n",
       "    </tr>\n",
       "    <tr>\n",
       "      <th>11</th>\n",
       "    </tr>\n",
       "    <tr>\n",
       "      <th>12</th>\n",
       "    </tr>\n",
       "    <tr>\n",
       "      <th>13</th>\n",
       "    </tr>\n",
       "    <tr>\n",
       "      <th>14</th>\n",
       "    </tr>\n",
       "    <tr>\n",
       "      <th>15</th>\n",
       "    </tr>\n",
       "    <tr>\n",
       "      <th>16</th>\n",
       "    </tr>\n",
       "    <tr>\n",
       "      <th>17</th>\n",
       "    </tr>\n",
       "    <tr>\n",
       "      <th>18</th>\n",
       "    </tr>\n",
       "    <tr>\n",
       "      <th>19</th>\n",
       "    </tr>\n",
       "    <tr>\n",
       "      <th>20</th>\n",
       "    </tr>\n",
       "    <tr>\n",
       "      <th>21</th>\n",
       "    </tr>\n",
       "    <tr>\n",
       "      <th>22</th>\n",
       "    </tr>\n",
       "    <tr>\n",
       "      <th>23</th>\n",
       "    </tr>\n",
       "    <tr>\n",
       "      <th>24</th>\n",
       "    </tr>\n",
       "    <tr>\n",
       "      <th>25</th>\n",
       "    </tr>\n",
       "    <tr>\n",
       "      <th>26</th>\n",
       "    </tr>\n",
       "    <tr>\n",
       "      <th>27</th>\n",
       "    </tr>\n",
       "    <tr>\n",
       "      <th>28</th>\n",
       "    </tr>\n",
       "    <tr>\n",
       "      <th>29</th>\n",
       "    </tr>\n",
       "    <tr>\n",
       "      <th>...</th>\n",
       "    </tr>\n",
       "    <tr>\n",
       "      <th>1086</th>\n",
       "    </tr>\n",
       "    <tr>\n",
       "      <th>1087</th>\n",
       "    </tr>\n",
       "    <tr>\n",
       "      <th>1088</th>\n",
       "    </tr>\n",
       "    <tr>\n",
       "      <th>1089</th>\n",
       "    </tr>\n",
       "    <tr>\n",
       "      <th>1090</th>\n",
       "    </tr>\n",
       "    <tr>\n",
       "      <th>1091</th>\n",
       "    </tr>\n",
       "    <tr>\n",
       "      <th>1092</th>\n",
       "    </tr>\n",
       "    <tr>\n",
       "      <th>1093</th>\n",
       "    </tr>\n",
       "    <tr>\n",
       "      <th>1094</th>\n",
       "    </tr>\n",
       "    <tr>\n",
       "      <th>1095</th>\n",
       "    </tr>\n",
       "    <tr>\n",
       "      <th>1096</th>\n",
       "    </tr>\n",
       "    <tr>\n",
       "      <th>1097</th>\n",
       "    </tr>\n",
       "    <tr>\n",
       "      <th>1098</th>\n",
       "    </tr>\n",
       "    <tr>\n",
       "      <th>1099</th>\n",
       "    </tr>\n",
       "    <tr>\n",
       "      <th>1100</th>\n",
       "    </tr>\n",
       "    <tr>\n",
       "      <th>1101</th>\n",
       "    </tr>\n",
       "    <tr>\n",
       "      <th>1102</th>\n",
       "    </tr>\n",
       "    <tr>\n",
       "      <th>1103</th>\n",
       "    </tr>\n",
       "    <tr>\n",
       "      <th>1104</th>\n",
       "    </tr>\n",
       "    <tr>\n",
       "      <th>1105</th>\n",
       "    </tr>\n",
       "    <tr>\n",
       "      <th>1106</th>\n",
       "    </tr>\n",
       "    <tr>\n",
       "      <th>1107</th>\n",
       "    </tr>\n",
       "    <tr>\n",
       "      <th>1108</th>\n",
       "    </tr>\n",
       "    <tr>\n",
       "      <th>1109</th>\n",
       "    </tr>\n",
       "    <tr>\n",
       "      <th>1110</th>\n",
       "    </tr>\n",
       "    <tr>\n",
       "      <th>1111</th>\n",
       "    </tr>\n",
       "    <tr>\n",
       "      <th>1112</th>\n",
       "    </tr>\n",
       "    <tr>\n",
       "      <th>1113</th>\n",
       "    </tr>\n",
       "    <tr>\n",
       "      <th>1114</th>\n",
       "    </tr>\n",
       "    <tr>\n",
       "      <th>1115</th>\n",
       "    </tr>\n",
       "  </tbody>\n",
       "</table>\n",
       "<p>1116 rows × 0 columns</p>\n",
       "</div>"
      ],
      "text/plain": [
       "Empty DataFrame\n",
       "Columns: []\n",
       "Index: [0, 1, 2, 3, 4, 5, 6, 7, 8, 9, 10, 11, 12, 13, 14, 15, 16, 17, 18, 19, 20, 21, 22, 23, 24, 25, 26, 27, 28, 29, 30, 31, 32, 33, 34, 35, 36, 37, 38, 39, 40, 41, 42, 43, 44, 45, 46, 47, 48, 49, 50, 51, 52, 53, 54, 55, 56, 57, 58, 59, 60, 61, 62, 63, 64, 65, 66, 67, 68, 69, 70, 71, 72, 73, 74, 75, 76, 77, 78, 79, 80, 81, 82, 83, 84, 85, 86, 87, 88, 89, 90, 91, 92, 93, 94, 95, 96, 97, 98, 99, ...]\n",
       "\n",
       "[1116 rows x 0 columns]"
      ]
     },
     "execution_count": 22,
     "metadata": {},
     "output_type": "execute_result"
    }
   ],
   "source": [
    "df_codis_info.filter(regex=\"[HSV]\")"
   ]
  },
  {
   "cell_type": "code",
   "execution_count": 12,
   "metadata": {},
   "outputs": [
    {
     "ename": "ValueError",
     "evalue": "cannot reshape array of size 0 into shape (3348,3)",
     "output_type": "error",
     "traceback": [
      "\u001b[1;31m---------------------------------------------------------------------------\u001b[0m",
      "\u001b[1;31mValueError\u001b[0m                                Traceback (most recent call last)",
      "\u001b[1;32m<ipython-input-12-d570d9659090>\u001b[0m in \u001b[0;36m<module>\u001b[1;34m()\u001b[0m\n\u001b[1;32m----> 1\u001b[1;33m \u001b[0mar_codis_HSV\u001b[0m \u001b[1;33m=\u001b[0m \u001b[0mdf_codis_info\u001b[0m\u001b[1;33m.\u001b[0m\u001b[0mfilter\u001b[0m\u001b[1;33m(\u001b[0m\u001b[0mregex\u001b[0m\u001b[1;33m=\u001b[0m\u001b[1;34m\"[HSV]\"\u001b[0m\u001b[1;33m)\u001b[0m\u001b[1;33m.\u001b[0m\u001b[0mvalues\u001b[0m\u001b[1;33m.\u001b[0m\u001b[0mreshape\u001b[0m\u001b[1;33m(\u001b[0m\u001b[1;36m1116\u001b[0m\u001b[1;33m*\u001b[0m\u001b[1;36m3\u001b[0m\u001b[1;33m,\u001b[0m \u001b[1;36m3\u001b[0m\u001b[1;33m)\u001b[0m\u001b[1;33m\u001b[0m\u001b[0m\n\u001b[0m",
      "\u001b[1;31mValueError\u001b[0m: cannot reshape array of size 0 into shape (3348,3)"
     ]
    }
   ],
   "source": [
    "ar_codis_HSV = df_codis_info.filter(regex=\"[HSV]\").values.reshape(1116*3, 3)"
   ]
  },
  {
   "cell_type": "code",
   "execution_count": 8,
   "metadata": {},
   "outputs": [
    {
     "data": {
      "application/vnd.jupyter.widget-view+json": {
       "model_id": "f0deaf0196ac4ce0a3fac2def4bead74",
       "version_major": 2,
       "version_minor": 0
      },
      "text/html": [
       "<p>Failed to display Jupyter Widget of type <code>interactive</code>.</p>\n",
       "<p>\n",
       "  If you're reading this message in the Jupyter Notebook or JupyterLab Notebook, it may mean\n",
       "  that the widgets JavaScript is still loading. If this message persists, it\n",
       "  likely means that the widgets JavaScript library is either not installed or\n",
       "  not enabled. See the <a href=\"https://ipywidgets.readthedocs.io/en/stable/user_install.html\">Jupyter\n",
       "  Widgets Documentation</a> for setup instructions.\n",
       "</p>\n",
       "<p>\n",
       "  If you're reading this message in another frontend (for example, a static\n",
       "  rendering on GitHub or <a href=\"https://nbviewer.jupyter.org/\">NBViewer</a>),\n",
       "  it may mean that your frontend doesn't currently support widgets.\n",
       "</p>\n"
      ],
      "text/plain": [
       "interactive(children=(IntSlider(value=0, description='azim', max=180, step=10), Output()), _dom_classes=('widget-interact',))"
      ]
     },
     "metadata": {},
     "output_type": "display_data"
    },
    {
     "data": {
      "image/png": "[encoded data removed]",
      "text/plain": [
       "<matplotlib.figure.Figure at 0x249d007c9e8>"
      ]
     },
     "metadata": {},
     "output_type": "display_data"
    }
   ],
   "source": [
    "def plot_color_HSV(azim):\n",
    "    fig = plt.figure(figsize = (10, 10))\n",
    "    ax = fig.add_subplot(111, projection='3d');\n",
    "    ax.scatter(ar_codis_HSV[:,0], ar_codis_HSV[:,1], ar_codis_HSV[:,2], c=color_RGB, s=20, cmap=plt.cm.jet, alpha=1)\n",
    "    ax.view_init(20, azim)\n",
    "widgets.interact(plot_color_HSV, azim=widgets.IntSlider(min=0,max=180,step=10,value=0));"
   ]
  },
  {
   "cell_type": "markdown",
   "metadata": {},
   "source": [
    "- 무채색 계통이 많이 검출된다."
   ]
  },
  {
   "cell_type": "markdown",
   "metadata": {},
   "source": [
    "### Main Color1 (RGB, HSV)"
   ]
  },
  {
   "cell_type": "code",
   "execution_count": 7,
   "metadata": {
    "collapsed": true
   },
   "outputs": [],
   "source": [
    "ar_color1_RGB = df_codis_info.filter(regex=\"color1_[RGB]\").values /256"
   ]
  },
  {
   "cell_type": "code",
   "execution_count": 8,
   "metadata": {},
   "outputs": [
    {
     "data": {
      "application/vnd.jupyter.widget-view+json": {
       "model_id": "2df50d11e7f54ebaab28e32e77129779",
       "version_major": 2,
       "version_minor": 0
      },
      "text/html": [
       "<p>Failed to display Jupyter Widget of type <code>interactive</code>.</p>\n",
       "<p>\n",
       "  If you're reading this message in the Jupyter Notebook or JupyterLab Notebook, it may mean\n",
       "  that the widgets JavaScript is still loading. If this message persists, it\n",
       "  likely means that the widgets JavaScript library is either not installed or\n",
       "  not enabled. See the <a href=\"https://ipywidgets.readthedocs.io/en/stable/user_install.html\">Jupyter\n",
       "  Widgets Documentation</a> for setup instructions.\n",
       "</p>\n",
       "<p>\n",
       "  If you're reading this message in another frontend (for example, a static\n",
       "  rendering on GitHub or <a href=\"https://nbviewer.jupyter.org/\">NBViewer</a>),\n",
       "  it may mean that your frontend doesn't currently support widgets.\n",
       "</p>\n"
      ],
      "text/plain": [
       "interactive(children=(IntSlider(value=0, description='azim', max=180, step=10), Output()), _dom_classes=('widget-interact',))"
      ]
     },
     "metadata": {},
     "output_type": "display_data"
    }
   ],
   "source": [
    "def plot_color1(azim):\n",
    "    fig = plt.figure(figsize = (10, 10))\n",
    "    ax = fig.add_subplot(111, projection='3d');\n",
    "    ax.scatter(ar_color1_RGB[:,0], ar_color1_RGB[:,1], ar_color1_RGB[:,2], c=ar_color1_RGB, s=20, cmap=plt.cm.jet, alpha=1)\n",
    "    ax.view_init(20, azim)\n",
    "    \n",
    "widgets.interact(plot_color1, azim=widgets.IntSlider(min=0,max=180,step=10,value=0));"
   ]
  },
  {
   "cell_type": "code",
   "execution_count": 9,
   "metadata": {
    "collapsed": true
   },
   "outputs": [],
   "source": [
    "ar_color1_HSV = df_codis_info.filter(regex=\"color1_[HSV]\").values"
   ]
  },
  {
   "cell_type": "code",
   "execution_count": 10,
   "metadata": {},
   "outputs": [
    {
     "data": {
      "application/vnd.jupyter.widget-view+json": {
       "model_id": "db1eff98cb0d43d69767b83d17d19b6b",
       "version_major": 2,
       "version_minor": 0
      },
      "text/html": [
       "<p>Failed to display Jupyter Widget of type <code>interactive</code>.</p>\n",
       "<p>\n",
       "  If you're reading this message in the Jupyter Notebook or JupyterLab Notebook, it may mean\n",
       "  that the widgets JavaScript is still loading. If this message persists, it\n",
       "  likely means that the widgets JavaScript library is either not installed or\n",
       "  not enabled. See the <a href=\"https://ipywidgets.readthedocs.io/en/stable/user_install.html\">Jupyter\n",
       "  Widgets Documentation</a> for setup instructions.\n",
       "</p>\n",
       "<p>\n",
       "  If you're reading this message in another frontend (for example, a static\n",
       "  rendering on GitHub or <a href=\"https://nbviewer.jupyter.org/\">NBViewer</a>),\n",
       "  it may mean that your frontend doesn't currently support widgets.\n",
       "</p>\n"
      ],
      "text/plain": [
       "interactive(children=(IntSlider(value=0, description='azim', max=180, step=10), Output()), _dom_classes=('widget-interact',))"
      ]
     },
     "metadata": {},
     "output_type": "display_data"
    },
    {
     "data": {
      "image/png": "[encoded data removed]",
      "text/plain": [
       "<matplotlib.figure.Figure at 0x1f84a864278>"
      ]
     },
     "metadata": {},
     "output_type": "display_data"
    }
   ],
   "source": [
    "def plot_color1_HSV(azim):\n",
    "    fig = plt.figure(figsize = (10, 10))\n",
    "    ax = fig.add_subplot(111, projection='3d');\n",
    "    ax.scatter(ar_color1_HSV[:,0], ar_color1_HSV[:,1], ar_color1_HSV[:,2], c=ar_color1_RGB, s=20, cmap=plt.cm.jet, alpha=1)\n",
    "    ax.view_init(20, azim)\n",
    "    \n",
    "widgets.interact(plot_color1_HSV, azim=widgets.IntSlider(min=0,max=180,step=10,value=0));"
   ]
  },
  {
   "cell_type": "markdown",
   "metadata": {},
   "source": [
    "- 검정과 흰색에 집중되어 있다.\n",
    "- 중간이 거의 없다."
   ]
  },
  {
   "cell_type": "markdown",
   "metadata": {},
   "source": [
    "### Main Color2 (RGB, HSV)"
   ]
  },
  {
   "cell_type": "code",
   "execution_count": 11,
   "metadata": {
    "collapsed": true
   },
   "outputs": [],
   "source": [
    "ar_color2_RGB = df_codis_info.filter(regex=\"color2_[RGB]\").values /256"
   ]
  },
  {
   "cell_type": "code",
   "execution_count": 12,
   "metadata": {},
   "outputs": [
    {
     "data": {
      "application/vnd.jupyter.widget-view+json": {
       "model_id": "5b69769810b84a45aa89d045b68dea03",
       "version_major": 2,
       "version_minor": 0
      },
      "text/html": [
       "<p>Failed to display Jupyter Widget of type <code>interactive</code>.</p>\n",
       "<p>\n",
       "  If you're reading this message in the Jupyter Notebook or JupyterLab Notebook, it may mean\n",
       "  that the widgets JavaScript is still loading. If this message persists, it\n",
       "  likely means that the widgets JavaScript library is either not installed or\n",
       "  not enabled. See the <a href=\"https://ipywidgets.readthedocs.io/en/stable/user_install.html\">Jupyter\n",
       "  Widgets Documentation</a> for setup instructions.\n",
       "</p>\n",
       "<p>\n",
       "  If you're reading this message in another frontend (for example, a static\n",
       "  rendering on GitHub or <a href=\"https://nbviewer.jupyter.org/\">NBViewer</a>),\n",
       "  it may mean that your frontend doesn't currently support widgets.\n",
       "</p>\n"
      ],
      "text/plain": [
       "interactive(children=(IntSlider(value=0, description='azim', max=180, step=10), Output()), _dom_classes=('widget-interact',))"
      ]
     },
     "metadata": {},
     "output_type": "display_data"
    }
   ],
   "source": [
    "def plot_color2(azim):\n",
    "    fig = plt.figure(figsize = (10, 10))\n",
    "    ax = fig.add_subplot(111, projection='3d');\n",
    "    ax.scatter(ar_color2_RGB[:,0], ar_color2_RGB[:,1], ar_color2_RGB[:,2], c=ar_color2_RGB, s=20, cmap=plt.cm.jet, alpha=1)\n",
    "    ax.view_init(20, azim)\n",
    "    \n",
    "widgets.interact(plot_color2, azim=widgets.IntSlider(min=0,max=180,step=10,value=0));"
   ]
  },
  {
   "cell_type": "code",
   "execution_count": 20,
   "metadata": {
    "collapsed": true
   },
   "outputs": [],
   "source": [
    "ar_color2_HSV = df_codis_info.filter(regex=\"color2_[HSV]\").values"
   ]
  },
  {
   "cell_type": "code",
   "execution_count": 21,
   "metadata": {},
   "outputs": [
    {
     "data": {
      "application/vnd.jupyter.widget-view+json": {
       "model_id": "ee0d403e42ee450e89449be826212191",
       "version_major": 2,
       "version_minor": 0
      },
      "text/html": [
       "<p>Failed to display Jupyter Widget of type <code>interactive</code>.</p>\n",
       "<p>\n",
       "  If you're reading this message in the Jupyter Notebook or JupyterLab Notebook, it may mean\n",
       "  that the widgets JavaScript is still loading. If this message persists, it\n",
       "  likely means that the widgets JavaScript library is either not installed or\n",
       "  not enabled. See the <a href=\"https://ipywidgets.readthedocs.io/en/stable/user_install.html\">Jupyter\n",
       "  Widgets Documentation</a> for setup instructions.\n",
       "</p>\n",
       "<p>\n",
       "  If you're reading this message in another frontend (for example, a static\n",
       "  rendering on GitHub or <a href=\"https://nbviewer.jupyter.org/\">NBViewer</a>),\n",
       "  it may mean that your frontend doesn't currently support widgets.\n",
       "</p>\n"
      ],
      "text/plain": [
       "interactive(children=(IntSlider(value=0, description='azim', max=180, step=10), Output()), _dom_classes=('widget-interact',))"
      ]
     },
     "metadata": {},
     "output_type": "display_data"
    }
   ],
   "source": [
    "def plot_color2_HSV(azim):\n",
    "    fig = plt.figure(figsize = (10, 10))\n",
    "    ax = fig.add_subplot(111, projection='3d');\n",
    "    ax.scatter(ar_color2_HSV[:,0], ar_color2_HSV[:,1], ar_color2_HSV[:,2], c=ar_color2_RGB, s=20, cmap=plt.cm.jet, alpha=1)\n",
    "    ax.view_init(20, azim)\n",
    "    \n",
    "widgets.interact(plot_color2_HSV, azim=widgets.IntSlider(min=0,max=180,step=10,value=0));"
   ]
  },
  {
   "cell_type": "markdown",
   "metadata": {},
   "source": [
    "### Main Color3 (RGB, HSV)"
   ]
  },
  {
   "cell_type": "code",
   "execution_count": 13,
   "metadata": {
    "collapsed": true
   },
   "outputs": [],
   "source": [
    "ar_color3_RGB = df_codis_info.filter(regex=\"color3_[RGB]\").values /256"
   ]
  },
  {
   "cell_type": "code",
   "execution_count": 14,
   "metadata": {},
   "outputs": [
    {
     "data": {
      "application/vnd.jupyter.widget-view+json": {
       "model_id": "5202fad6ca3d4facbe1966c29dd717e6",
       "version_major": 2,
       "version_minor": 0
      },
      "text/html": [
       "<p>Failed to display Jupyter Widget of type <code>interactive</code>.</p>\n",
       "<p>\n",
       "  If you're reading this message in the Jupyter Notebook or JupyterLab Notebook, it may mean\n",
       "  that the widgets JavaScript is still loading. If this message persists, it\n",
       "  likely means that the widgets JavaScript library is either not installed or\n",
       "  not enabled. See the <a href=\"https://ipywidgets.readthedocs.io/en/stable/user_install.html\">Jupyter\n",
       "  Widgets Documentation</a> for setup instructions.\n",
       "</p>\n",
       "<p>\n",
       "  If you're reading this message in another frontend (for example, a static\n",
       "  rendering on GitHub or <a href=\"https://nbviewer.jupyter.org/\">NBViewer</a>),\n",
       "  it may mean that your frontend doesn't currently support widgets.\n",
       "</p>\n"
      ],
      "text/plain": [
       "interactive(children=(IntSlider(value=0, description='azim', max=180, step=10), Output()), _dom_classes=('widget-interact',))"
      ]
     },
     "metadata": {},
     "output_type": "display_data"
    }
   ],
   "source": [
    "def plot_color3(azim):\n",
    "    fig = plt.figure(figsize = (10, 10))\n",
    "    ax = fig.add_subplot(111, projection='3d');\n",
    "    ax.scatter(ar_color2_RGB[:,0], ar_color3_RGB[:,1], ar_color3_RGB[:,2], c=ar_color3_RGB, s=20, cmap=plt.cm.jet, alpha=1)\n",
    "    ax.view_init(20, azim)\n",
    "    \n",
    "widgets.interact(plot_color3, azim=widgets.IntSlider(min=0,max=180,step=10,value=0));"
   ]
  },
  {
   "cell_type": "code",
   "execution_count": 24,
   "metadata": {
    "collapsed": true
   },
   "outputs": [],
   "source": [
    "ar_color3_HSV = df_codis_info.filter(regex=\"color3_[HSV]\").values"
   ]
  },
  {
   "cell_type": "code",
   "execution_count": 25,
   "metadata": {},
   "outputs": [
    {
     "data": {
      "application/vnd.jupyter.widget-view+json": {
       "model_id": "a4f3247c782445469cef22f99ae1baca",
       "version_major": 2,
       "version_minor": 0
      },
      "text/html": [
       "<p>Failed to display Jupyter Widget of type <code>interactive</code>.</p>\n",
       "<p>\n",
       "  If you're reading this message in the Jupyter Notebook or JupyterLab Notebook, it may mean\n",
       "  that the widgets JavaScript is still loading. If this message persists, it\n",
       "  likely means that the widgets JavaScript library is either not installed or\n",
       "  not enabled. See the <a href=\"https://ipywidgets.readthedocs.io/en/stable/user_install.html\">Jupyter\n",
       "  Widgets Documentation</a> for setup instructions.\n",
       "</p>\n",
       "<p>\n",
       "  If you're reading this message in another frontend (for example, a static\n",
       "  rendering on GitHub or <a href=\"https://nbviewer.jupyter.org/\">NBViewer</a>),\n",
       "  it may mean that your frontend doesn't currently support widgets.\n",
       "</p>\n"
      ],
      "text/plain": [
       "interactive(children=(IntSlider(value=0, description='azim', max=180, step=10), Output()), _dom_classes=('widget-interact',))"
      ]
     },
     "metadata": {},
     "output_type": "display_data"
    }
   ],
   "source": [
    "def plot_color3_HSV(azim):\n",
    "    fig = plt.figure(figsize = (10, 10))\n",
    "    ax = fig.add_subplot(111, projection='3d');\n",
    "    ax.scatter(ar_color3_HSV[:,0], ar_color3_HSV[:,1], ar_color3_HSV[:,2], c=ar_color3_RGB, s=20, cmap=plt.cm.jet, alpha=1)\n",
    "    ax.view_init(20, azim)\n",
    "    \n",
    "widgets.interact(plot_color3_HSV, azim=widgets.IntSlider(min=0,max=180,step=10,value=0));"
   ]
  },
  {
   "cell_type": "code",
   "execution_count": 26,
   "metadata": {},
   "outputs": [
    {
     "data": {
      "text/html": [
       "<div>\n",
       "<style>\n",
       "    .dataframe thead tr:only-child th {\n",
       "        text-align: right;\n",
       "    }\n",
       "\n",
       "    .dataframe thead th {\n",
       "        text-align: left;\n",
       "    }\n",
       "\n",
       "    .dataframe tbody tr th {\n",
       "        vertical-align: top;\n",
       "    }\n",
       "</style>\n",
       "<table border=\"1\" class=\"dataframe\">\n",
       "  <thead>\n",
       "    <tr style=\"text-align: right;\">\n",
       "      <th></th>\n",
       "      <th>name</th>\n",
       "      <th>color1_ratio</th>\n",
       "      <th>color1_R</th>\n",
       "      <th>color1_G</th>\n",
       "      <th>color1_B</th>\n",
       "      <th>color1_H</th>\n",
       "      <th>color1_S</th>\n",
       "      <th>color1_V</th>\n",
       "      <th>color2_ratio</th>\n",
       "      <th>color2_R</th>\n",
       "      <th>...</th>\n",
       "      <th>color2_H</th>\n",
       "      <th>color2_S</th>\n",
       "      <th>color2_V</th>\n",
       "      <th>color3_ratio</th>\n",
       "      <th>color3_R</th>\n",
       "      <th>color3_G</th>\n",
       "      <th>color3_B</th>\n",
       "      <th>color3_H</th>\n",
       "      <th>color3_S</th>\n",
       "      <th>color3_V</th>\n",
       "    </tr>\n",
       "  </thead>\n",
       "  <tbody>\n",
       "    <tr>\n",
       "      <th>1111</th>\n",
       "      <td>397005</td>\n",
       "      <td>0.415858</td>\n",
       "      <td>234.213846</td>\n",
       "      <td>233.892050</td>\n",
       "      <td>238.172338</td>\n",
       "      <td>0.679197</td>\n",
       "      <td>0.017971</td>\n",
       "      <td>238.172338</td>\n",
       "      <td>0.406465</td>\n",
       "      <td>21.035419</td>\n",
       "      <td>...</td>\n",
       "      <td>0.601469</td>\n",
       "      <td>0.268061</td>\n",
       "      <td>28.739307</td>\n",
       "      <td>0.177676</td>\n",
       "      <td>62.173644</td>\n",
       "      <td>79.293754</td>\n",
       "      <td>111.442347</td>\n",
       "      <td>0.608753</td>\n",
       "      <td>0.442100</td>\n",
       "      <td>111.442347</td>\n",
       "    </tr>\n",
       "    <tr>\n",
       "      <th>1112</th>\n",
       "      <td>397006</td>\n",
       "      <td>0.630130</td>\n",
       "      <td>23.776704</td>\n",
       "      <td>24.251325</td>\n",
       "      <td>24.764449</td>\n",
       "      <td>0.586582</td>\n",
       "      <td>0.039886</td>\n",
       "      <td>24.764449</td>\n",
       "      <td>0.344787</td>\n",
       "      <td>242.043845</td>\n",
       "      <td>...</td>\n",
       "      <td>0.692242</td>\n",
       "      <td>0.018193</td>\n",
       "      <td>245.829945</td>\n",
       "      <td>0.025083</td>\n",
       "      <td>126.014286</td>\n",
       "      <td>125.660204</td>\n",
       "      <td>126.563265</td>\n",
       "      <td>0.732015</td>\n",
       "      <td>0.007135</td>\n",
       "      <td>126.563265</td>\n",
       "    </tr>\n",
       "    <tr>\n",
       "      <th>1113</th>\n",
       "      <td>397007</td>\n",
       "      <td>0.633673</td>\n",
       "      <td>27.650401</td>\n",
       "      <td>26.307009</td>\n",
       "      <td>27.053562</td>\n",
       "      <td>0.907380</td>\n",
       "      <td>0.048585</td>\n",
       "      <td>27.650401</td>\n",
       "      <td>0.239583</td>\n",
       "      <td>75.057487</td>\n",
       "      <td>...</td>\n",
       "      <td>0.608694</td>\n",
       "      <td>0.420951</td>\n",
       "      <td>129.622040</td>\n",
       "      <td>0.126744</td>\n",
       "      <td>206.097693</td>\n",
       "      <td>210.852559</td>\n",
       "      <td>216.266042</td>\n",
       "      <td>0.588731</td>\n",
       "      <td>0.047018</td>\n",
       "      <td>216.266042</td>\n",
       "    </tr>\n",
       "    <tr>\n",
       "      <th>1114</th>\n",
       "      <td>397008</td>\n",
       "      <td>0.635646</td>\n",
       "      <td>33.647317</td>\n",
       "      <td>34.603687</td>\n",
       "      <td>35.937386</td>\n",
       "      <td>0.597064</td>\n",
       "      <td>0.063724</td>\n",
       "      <td>35.937386</td>\n",
       "      <td>0.295892</td>\n",
       "      <td>198.603922</td>\n",
       "      <td>...</td>\n",
       "      <td>0.994616</td>\n",
       "      <td>0.962808</td>\n",
       "      <td>198.603922</td>\n",
       "      <td>0.068461</td>\n",
       "      <td>233.768644</td>\n",
       "      <td>231.126271</td>\n",
       "      <td>231.515254</td>\n",
       "      <td>0.975465</td>\n",
       "      <td>0.011303</td>\n",
       "      <td>233.768644</td>\n",
       "    </tr>\n",
       "    <tr>\n",
       "      <th>1115</th>\n",
       "      <td>397009</td>\n",
       "      <td>0.873488</td>\n",
       "      <td>28.296150</td>\n",
       "      <td>29.347667</td>\n",
       "      <td>33.005055</td>\n",
       "      <td>0.629449</td>\n",
       "      <td>0.142672</td>\n",
       "      <td>33.005055</td>\n",
       "      <td>0.095912</td>\n",
       "      <td>240.303279</td>\n",
       "      <td>...</td>\n",
       "      <td>0.616352</td>\n",
       "      <td>0.005119</td>\n",
       "      <td>241.539723</td>\n",
       "      <td>0.030600</td>\n",
       "      <td>102.167323</td>\n",
       "      <td>103.881890</td>\n",
       "      <td>105.494094</td>\n",
       "      <td>0.580769</td>\n",
       "      <td>0.031535</td>\n",
       "      <td>105.494094</td>\n",
       "    </tr>\n",
       "  </tbody>\n",
       "</table>\n",
       "<p>5 rows × 22 columns</p>\n",
       "</div>"
      ],
      "text/plain": [
       "        name  color1_ratio    color1_R    color1_G    color1_B  color1_H  \\\n",
       "1111  397005      0.415858  234.213846  233.892050  238.172338  0.679197   \n",
       "1112  397006      0.630130   23.776704   24.251325   24.764449  0.586582   \n",
       "1113  397007      0.633673   27.650401   26.307009   27.053562  0.907380   \n",
       "1114  397008      0.635646   33.647317   34.603687   35.937386  0.597064   \n",
       "1115  397009      0.873488   28.296150   29.347667   33.005055  0.629449   \n",
       "\n",
       "      color1_S    color1_V  color2_ratio    color2_R     ...      color2_H  \\\n",
       "1111  0.017971  238.172338      0.406465   21.035419     ...      0.601469   \n",
       "1112  0.039886   24.764449      0.344787  242.043845     ...      0.692242   \n",
       "1113  0.048585   27.650401      0.239583   75.057487     ...      0.608694   \n",
       "1114  0.063724   35.937386      0.295892  198.603922     ...      0.994616   \n",
       "1115  0.142672   33.005055      0.095912  240.303279     ...      0.616352   \n",
       "\n",
       "      color2_S    color2_V  color3_ratio    color3_R    color3_G    color3_B  \\\n",
       "1111  0.268061   28.739307      0.177676   62.173644   79.293754  111.442347   \n",
       "1112  0.018193  245.829945      0.025083  126.014286  125.660204  126.563265   \n",
       "1113  0.420951  129.622040      0.126744  206.097693  210.852559  216.266042   \n",
       "1114  0.962808  198.603922      0.068461  233.768644  231.126271  231.515254   \n",
       "1115  0.005119  241.539723      0.030600  102.167323  103.881890  105.494094   \n",
       "\n",
       "      color3_H  color3_S    color3_V  \n",
       "1111  0.608753  0.442100  111.442347  \n",
       "1112  0.732015  0.007135  126.563265  \n",
       "1113  0.588731  0.047018  216.266042  \n",
       "1114  0.975465  0.011303  233.768644  \n",
       "1115  0.580769  0.031535  105.494094  \n",
       "\n",
       "[5 rows x 22 columns]"
      ]
     },
     "execution_count": 26,
     "metadata": {},
     "output_type": "execute_result"
    }
   ],
   "source": [
    "df_codis_info.tail()"
   ]
  },
  {
   "cell_type": "markdown",
   "metadata": {},
   "source": [
    "### 전체 분포 확인 (RGB)"
   ]
  },
  {
   "cell_type": "code",
   "execution_count": 32,
   "metadata": {
    "collapsed": true
   },
   "outputs": [],
   "source": [
    "from sklearn.decomposition import PCA"
   ]
  },
  {
   "cell_type": "code",
   "execution_count": 33,
   "metadata": {
    "collapsed": true
   },
   "outputs": [],
   "source": [
    "ar_codis_RGB = df_codis_info.filter(regex=\"[RGB]\").values\n",
    "clt = PCA(3)\n",
    "pca_RGB = clt.fit_transform(ar_codis_RGB)"
   ]
  },
  {
   "cell_type": "code",
   "execution_count": 36,
   "metadata": {
    "collapsed": true
   },
   "outputs": [],
   "source": [
    "from mpl_toolkits.mplot3d import Axes3D\n",
    "\n",
    "def plot_pca(azim):\n",
    "    fig = plt.figure(figsize = (10, 10))\n",
    "    ax = fig.add_subplot(111, projection='3d');\n",
    "    ax.scatter(pca_RGB[:,0], pca_RGB[:,1], pca_RGB[:,2], c=\"b\", s=20, cmap=plt.cm.jet, alpha=1)\n",
    "    ax.view_init(20, azim)"
   ]
  },
  {
   "cell_type": "code",
   "execution_count": 37,
   "metadata": {},
   "outputs": [
    {
     "data": {
      "application/vnd.jupyter.widget-view+json": {
       "model_id": "dad58b7d355b43d2abf38b2f02e3c4c9",
       "version_major": 2,
       "version_minor": 0
      },
      "text/html": [
       "<p>Failed to display Jupyter Widget of type <code>interactive</code>.</p>\n",
       "<p>\n",
       "  If you're reading this message in the Jupyter Notebook or JupyterLab Notebook, it may mean\n",
       "  that the widgets JavaScript is still loading. If this message persists, it\n",
       "  likely means that the widgets JavaScript library is either not installed or\n",
       "  not enabled. See the <a href=\"https://ipywidgets.readthedocs.io/en/stable/user_install.html\">Jupyter\n",
       "  Widgets Documentation</a> for setup instructions.\n",
       "</p>\n",
       "<p>\n",
       "  If you're reading this message in another frontend (for example, a static\n",
       "  rendering on GitHub or <a href=\"https://nbviewer.jupyter.org/\">NBViewer</a>),\n",
       "  it may mean that your frontend doesn't currently support widgets.\n",
       "</p>\n"
      ],
      "text/plain": [
       "interactive(children=(IntSlider(value=0, description='azim', max=180, step=10), Output()), _dom_classes=('widget-interact',))"
      ]
     },
     "metadata": {},
     "output_type": "display_data"
    }
   ],
   "source": [
    "widgets.interact(plot_pca, azim=widgets.IntSlider(min=0,max=180,step=10,value=0));"
   ]
  },
  {
   "cell_type": "markdown",
   "metadata": {},
   "source": [
    "### 전체 분포 확인 (HSV)"
   ]
  },
  {
   "cell_type": "code",
   "execution_count": 38,
   "metadata": {
    "collapsed": true
   },
   "outputs": [],
   "source": [
    "ar_codis_HSV = df_codis_info.filter(regex=\"[HSV]\").values\n",
    "clt = PCA(3)\n",
    "pca_HSV = clt.fit_transform(ar_codis_HSV)"
   ]
  },
  {
   "cell_type": "code",
   "execution_count": 45,
   "metadata": {},
   "outputs": [
    {
     "data": {
      "text/plain": [
       "array([ 39.09850169,  15.54352922,  -1.90232396, ..., -27.82467972,\n",
       "        28.11654791, -30.31398394])"
      ]
     },
     "execution_count": 45,
     "metadata": {},
     "output_type": "execute_result"
    }
   ],
   "source": [
    "pca_HSV[:,2]"
   ]
  },
  {
   "cell_type": "code",
   "execution_count": 47,
   "metadata": {},
   "outputs": [
    {
     "data": {
      "application/vnd.jupyter.widget-view+json": {
       "model_id": "00ea734c00d24fe29b69d4bd52a96668",
       "version_major": 2,
       "version_minor": 0
      },
      "text/html": [
       "<p>Failed to display Jupyter Widget of type <code>interactive</code>.</p>\n",
       "<p>\n",
       "  If you're reading this message in the Jupyter Notebook or JupyterLab Notebook, it may mean\n",
       "  that the widgets JavaScript is still loading. If this message persists, it\n",
       "  likely means that the widgets JavaScript library is either not installed or\n",
       "  not enabled. See the <a href=\"https://ipywidgets.readthedocs.io/en/stable/user_install.html\">Jupyter\n",
       "  Widgets Documentation</a> for setup instructions.\n",
       "</p>\n",
       "<p>\n",
       "  If you're reading this message in another frontend (for example, a static\n",
       "  rendering on GitHub or <a href=\"https://nbviewer.jupyter.org/\">NBViewer</a>),\n",
       "  it may mean that your frontend doesn't currently support widgets.\n",
       "</p>\n"
      ],
      "text/plain": [
       "interactive(children=(IntSlider(value=0, description='azim', max=180, step=10), Output()), _dom_classes=('widget-interact',))"
      ]
     },
     "metadata": {},
     "output_type": "display_data"
    }
   ],
   "source": [
    "def plot_pca_HSV(azim):\n",
    "    fig = plt.figure(figsize = (10, 10))\n",
    "    ax = fig.add_subplot(111, projection='3d');\n",
    "    ax.scatter(pca_HSV[:,0], pca_HSV[:,1], pca_HSV[:,2], s=20, cmap=plt.cm.jet, alpha=1)\n",
    "    ax.view_init(20, azim)\n",
    "    \n",
    "widgets.interact(plot_pca_HSV, azim=widgets.IntSlider(min=0,max=180,step=10,value=0));"
   ]
  },
  {
   "cell_type": "code",
   "execution_count": 48,
   "metadata": {},
   "outputs": [
    {
     "data": {
      "text/plain": [
       "array([[  5.55108328e-01,   8.10306626e-01,   1.01894009e+02, ...,\n",
       "          5.52371167e-01,   3.63470680e-02,   2.34056347e+02],\n",
       "       [  6.30643424e-01,   3.12704800e-02,   2.43467044e+02, ...,\n",
       "          5.42393505e-01,   1.71983780e-01,   1.34951698e+02],\n",
       "       [  5.59101369e-01,   1.27795209e-01,   3.42788892e+01, ...,\n",
       "          6.16143593e-01,   1.29380303e-02,   2.45629253e+02],\n",
       "       ..., \n",
       "       [  9.07379545e-01,   4.85848773e-02,   2.76504006e+01, ...,\n",
       "          5.88730930e-01,   4.70177790e-02,   2.16266042e+02],\n",
       "       [  5.97063903e-01,   6.37238717e-02,   3.59373859e+01, ...,\n",
       "          9.75465042e-01,   1.13033674e-02,   2.33768644e+02],\n",
       "       [  6.29449362e-01,   1.42672225e-01,   3.30050547e+01, ...,\n",
       "          5.80769231e-01,   3.15351458e-02,   1.05494094e+02]])"
      ]
     },
     "execution_count": 48,
     "metadata": {},
     "output_type": "execute_result"
    }
   ],
   "source": [
    "ar_codis_HSV"
   ]
  },
  {
   "cell_type": "code",
   "execution_count": 51,
   "metadata": {},
   "outputs": [
    {
     "data": {
      "text/html": [
       "<div>\n",
       "<style>\n",
       "    .dataframe thead tr:only-child th {\n",
       "        text-align: right;\n",
       "    }\n",
       "\n",
       "    .dataframe thead th {\n",
       "        text-align: left;\n",
       "    }\n",
       "\n",
       "    .dataframe tbody tr th {\n",
       "        vertical-align: top;\n",
       "    }\n",
       "</style>\n",
       "<table border=\"1\" class=\"dataframe\">\n",
       "  <thead>\n",
       "    <tr style=\"text-align: right;\">\n",
       "      <th></th>\n",
       "      <th>color1_H</th>\n",
       "      <th>color2_H</th>\n",
       "      <th>color3_H</th>\n",
       "    </tr>\n",
       "  </thead>\n",
       "  <tbody>\n",
       "    <tr>\n",
       "      <th>0</th>\n",
       "      <td>0.555108</td>\n",
       "      <td>0.595842</td>\n",
       "      <td>0.552371</td>\n",
       "    </tr>\n",
       "    <tr>\n",
       "      <th>1</th>\n",
       "      <td>0.630643</td>\n",
       "      <td>0.601466</td>\n",
       "      <td>0.542394</td>\n",
       "    </tr>\n",
       "    <tr>\n",
       "      <th>2</th>\n",
       "      <td>0.559101</td>\n",
       "      <td>0.579104</td>\n",
       "      <td>0.616144</td>\n",
       "    </tr>\n",
       "    <tr>\n",
       "      <th>3</th>\n",
       "      <td>0.109995</td>\n",
       "      <td>0.254081</td>\n",
       "      <td>0.164522</td>\n",
       "    </tr>\n",
       "    <tr>\n",
       "      <th>4</th>\n",
       "      <td>0.988919</td>\n",
       "      <td>0.805263</td>\n",
       "      <td>0.609767</td>\n",
       "    </tr>\n",
       "    <tr>\n",
       "      <th>5</th>\n",
       "      <td>0.110256</td>\n",
       "      <td>0.145104</td>\n",
       "      <td>0.623905</td>\n",
       "    </tr>\n",
       "    <tr>\n",
       "      <th>6</th>\n",
       "      <td>0.123371</td>\n",
       "      <td>0.120765</td>\n",
       "      <td>0.189478</td>\n",
       "    </tr>\n",
       "    <tr>\n",
       "      <th>7</th>\n",
       "      <td>0.212930</td>\n",
       "      <td>0.760064</td>\n",
       "      <td>0.126360</td>\n",
       "    </tr>\n",
       "    <tr>\n",
       "      <th>8</th>\n",
       "      <td>0.561898</td>\n",
       "      <td>0.240281</td>\n",
       "      <td>0.581603</td>\n",
       "    </tr>\n",
       "    <tr>\n",
       "      <th>9</th>\n",
       "      <td>0.532739</td>\n",
       "      <td>0.131000</td>\n",
       "      <td>0.705654</td>\n",
       "    </tr>\n",
       "    <tr>\n",
       "      <th>10</th>\n",
       "      <td>0.589071</td>\n",
       "      <td>0.595798</td>\n",
       "      <td>0.085818</td>\n",
       "    </tr>\n",
       "    <tr>\n",
       "      <th>11</th>\n",
       "      <td>0.085769</td>\n",
       "      <td>0.074722</td>\n",
       "      <td>0.112769</td>\n",
       "    </tr>\n",
       "    <tr>\n",
       "      <th>12</th>\n",
       "      <td>0.596483</td>\n",
       "      <td>0.633120</td>\n",
       "      <td>0.599782</td>\n",
       "    </tr>\n",
       "    <tr>\n",
       "      <th>13</th>\n",
       "      <td>0.652836</td>\n",
       "      <td>0.226716</td>\n",
       "      <td>0.651631</td>\n",
       "    </tr>\n",
       "    <tr>\n",
       "      <th>14</th>\n",
       "      <td>0.088468</td>\n",
       "      <td>0.044128</td>\n",
       "      <td>0.066720</td>\n",
       "    </tr>\n",
       "    <tr>\n",
       "      <th>15</th>\n",
       "      <td>0.121256</td>\n",
       "      <td>0.176832</td>\n",
       "      <td>0.145967</td>\n",
       "    </tr>\n",
       "    <tr>\n",
       "      <th>16</th>\n",
       "      <td>0.119703</td>\n",
       "      <td>0.127591</td>\n",
       "      <td>0.102950</td>\n",
       "    </tr>\n",
       "    <tr>\n",
       "      <th>17</th>\n",
       "      <td>0.540647</td>\n",
       "      <td>0.628881</td>\n",
       "      <td>0.463733</td>\n",
       "    </tr>\n",
       "    <tr>\n",
       "      <th>18</th>\n",
       "      <td>0.762978</td>\n",
       "      <td>0.683074</td>\n",
       "      <td>0.597109</td>\n",
       "    </tr>\n",
       "    <tr>\n",
       "      <th>19</th>\n",
       "      <td>0.104225</td>\n",
       "      <td>0.129855</td>\n",
       "      <td>0.051609</td>\n",
       "    </tr>\n",
       "    <tr>\n",
       "      <th>20</th>\n",
       "      <td>0.864119</td>\n",
       "      <td>0.591262</td>\n",
       "      <td>0.210598</td>\n",
       "    </tr>\n",
       "    <tr>\n",
       "      <th>21</th>\n",
       "      <td>0.627683</td>\n",
       "      <td>0.518139</td>\n",
       "      <td>0.674380</td>\n",
       "    </tr>\n",
       "    <tr>\n",
       "      <th>22</th>\n",
       "      <td>0.634194</td>\n",
       "      <td>0.615466</td>\n",
       "      <td>0.559690</td>\n",
       "    </tr>\n",
       "    <tr>\n",
       "      <th>23</th>\n",
       "      <td>0.144693</td>\n",
       "      <td>0.609028</td>\n",
       "      <td>0.607378</td>\n",
       "    </tr>\n",
       "    <tr>\n",
       "      <th>24</th>\n",
       "      <td>0.606680</td>\n",
       "      <td>0.582878</td>\n",
       "      <td>0.572117</td>\n",
       "    </tr>\n",
       "    <tr>\n",
       "      <th>25</th>\n",
       "      <td>0.058467</td>\n",
       "      <td>0.889268</td>\n",
       "      <td>0.115481</td>\n",
       "    </tr>\n",
       "    <tr>\n",
       "      <th>26</th>\n",
       "      <td>0.559994</td>\n",
       "      <td>0.575106</td>\n",
       "      <td>0.551025</td>\n",
       "    </tr>\n",
       "    <tr>\n",
       "      <th>27</th>\n",
       "      <td>0.580772</td>\n",
       "      <td>0.577689</td>\n",
       "      <td>0.605408</td>\n",
       "    </tr>\n",
       "    <tr>\n",
       "      <th>28</th>\n",
       "      <td>0.585134</td>\n",
       "      <td>0.582058</td>\n",
       "      <td>0.614258</td>\n",
       "    </tr>\n",
       "    <tr>\n",
       "      <th>29</th>\n",
       "      <td>0.648859</td>\n",
       "      <td>0.354499</td>\n",
       "      <td>0.566471</td>\n",
       "    </tr>\n",
       "    <tr>\n",
       "      <th>...</th>\n",
       "      <td>...</td>\n",
       "      <td>...</td>\n",
       "      <td>...</td>\n",
       "    </tr>\n",
       "    <tr>\n",
       "      <th>1086</th>\n",
       "      <td>0.426364</td>\n",
       "      <td>0.576710</td>\n",
       "      <td>0.563573</td>\n",
       "    </tr>\n",
       "    <tr>\n",
       "      <th>1087</th>\n",
       "      <td>0.072026</td>\n",
       "      <td>0.731842</td>\n",
       "      <td>0.005538</td>\n",
       "    </tr>\n",
       "    <tr>\n",
       "      <th>1088</th>\n",
       "      <td>0.568644</td>\n",
       "      <td>0.534961</td>\n",
       "      <td>0.753987</td>\n",
       "    </tr>\n",
       "    <tr>\n",
       "      <th>1089</th>\n",
       "      <td>0.613693</td>\n",
       "      <td>0.598941</td>\n",
       "      <td>0.777261</td>\n",
       "    </tr>\n",
       "    <tr>\n",
       "      <th>1090</th>\n",
       "      <td>0.119708</td>\n",
       "      <td>0.106335</td>\n",
       "      <td>0.400643</td>\n",
       "    </tr>\n",
       "    <tr>\n",
       "      <th>1091</th>\n",
       "      <td>0.616251</td>\n",
       "      <td>0.564533</td>\n",
       "      <td>0.544253</td>\n",
       "    </tr>\n",
       "    <tr>\n",
       "      <th>1092</th>\n",
       "      <td>0.602793</td>\n",
       "      <td>0.608207</td>\n",
       "      <td>0.060824</td>\n",
       "    </tr>\n",
       "    <tr>\n",
       "      <th>1093</th>\n",
       "      <td>0.091995</td>\n",
       "      <td>0.071009</td>\n",
       "      <td>0.086999</td>\n",
       "    </tr>\n",
       "    <tr>\n",
       "      <th>1094</th>\n",
       "      <td>0.685437</td>\n",
       "      <td>0.593240</td>\n",
       "      <td>0.644251</td>\n",
       "    </tr>\n",
       "    <tr>\n",
       "      <th>1095</th>\n",
       "      <td>0.700404</td>\n",
       "      <td>0.602750</td>\n",
       "      <td>0.995234</td>\n",
       "    </tr>\n",
       "    <tr>\n",
       "      <th>1096</th>\n",
       "      <td>0.082728</td>\n",
       "      <td>0.624406</td>\n",
       "      <td>0.628613</td>\n",
       "    </tr>\n",
       "    <tr>\n",
       "      <th>1097</th>\n",
       "      <td>0.697251</td>\n",
       "      <td>0.532851</td>\n",
       "      <td>0.600157</td>\n",
       "    </tr>\n",
       "    <tr>\n",
       "      <th>1098</th>\n",
       "      <td>0.106069</td>\n",
       "      <td>0.325056</td>\n",
       "      <td>0.188543</td>\n",
       "    </tr>\n",
       "    <tr>\n",
       "      <th>1099</th>\n",
       "      <td>0.943563</td>\n",
       "      <td>0.061582</td>\n",
       "      <td>0.070382</td>\n",
       "    </tr>\n",
       "    <tr>\n",
       "      <th>1100</th>\n",
       "      <td>0.214460</td>\n",
       "      <td>0.101277</td>\n",
       "      <td>0.118444</td>\n",
       "    </tr>\n",
       "    <tr>\n",
       "      <th>1101</th>\n",
       "      <td>0.650292</td>\n",
       "      <td>0.606852</td>\n",
       "      <td>0.153885</td>\n",
       "    </tr>\n",
       "    <tr>\n",
       "      <th>1102</th>\n",
       "      <td>0.621475</td>\n",
       "      <td>0.592805</td>\n",
       "      <td>0.637535</td>\n",
       "    </tr>\n",
       "    <tr>\n",
       "      <th>1103</th>\n",
       "      <td>0.689413</td>\n",
       "      <td>0.103713</td>\n",
       "      <td>0.602165</td>\n",
       "    </tr>\n",
       "    <tr>\n",
       "      <th>1104</th>\n",
       "      <td>0.128252</td>\n",
       "      <td>0.595690</td>\n",
       "      <td>0.640235</td>\n",
       "    </tr>\n",
       "    <tr>\n",
       "      <th>1105</th>\n",
       "      <td>0.456670</td>\n",
       "      <td>0.089411</td>\n",
       "      <td>0.188482</td>\n",
       "    </tr>\n",
       "    <tr>\n",
       "      <th>1106</th>\n",
       "      <td>0.707327</td>\n",
       "      <td>0.617990</td>\n",
       "      <td>0.000349</td>\n",
       "    </tr>\n",
       "    <tr>\n",
       "      <th>1107</th>\n",
       "      <td>0.599738</td>\n",
       "      <td>0.981944</td>\n",
       "      <td>0.739120</td>\n",
       "    </tr>\n",
       "    <tr>\n",
       "      <th>1108</th>\n",
       "      <td>0.110210</td>\n",
       "      <td>0.612001</td>\n",
       "      <td>0.630806</td>\n",
       "    </tr>\n",
       "    <tr>\n",
       "      <th>1109</th>\n",
       "      <td>0.014065</td>\n",
       "      <td>0.096129</td>\n",
       "      <td>0.009474</td>\n",
       "    </tr>\n",
       "    <tr>\n",
       "      <th>1110</th>\n",
       "      <td>0.620867</td>\n",
       "      <td>0.072613</td>\n",
       "      <td>0.483010</td>\n",
       "    </tr>\n",
       "    <tr>\n",
       "      <th>1111</th>\n",
       "      <td>0.679197</td>\n",
       "      <td>0.601469</td>\n",
       "      <td>0.608753</td>\n",
       "    </tr>\n",
       "    <tr>\n",
       "      <th>1112</th>\n",
       "      <td>0.586582</td>\n",
       "      <td>0.692242</td>\n",
       "      <td>0.732015</td>\n",
       "    </tr>\n",
       "    <tr>\n",
       "      <th>1113</th>\n",
       "      <td>0.907380</td>\n",
       "      <td>0.608694</td>\n",
       "      <td>0.588731</td>\n",
       "    </tr>\n",
       "    <tr>\n",
       "      <th>1114</th>\n",
       "      <td>0.597064</td>\n",
       "      <td>0.994616</td>\n",
       "      <td>0.975465</td>\n",
       "    </tr>\n",
       "    <tr>\n",
       "      <th>1115</th>\n",
       "      <td>0.629449</td>\n",
       "      <td>0.616352</td>\n",
       "      <td>0.580769</td>\n",
       "    </tr>\n",
       "  </tbody>\n",
       "</table>\n",
       "<p>1116 rows × 3 columns</p>\n",
       "</div>"
      ],
      "text/plain": [
       "      color1_H  color2_H  color3_H\n",
       "0     0.555108  0.595842  0.552371\n",
       "1     0.630643  0.601466  0.542394\n",
       "2     0.559101  0.579104  0.616144\n",
       "3     0.109995  0.254081  0.164522\n",
       "4     0.988919  0.805263  0.609767\n",
       "5     0.110256  0.145104  0.623905\n",
       "6     0.123371  0.120765  0.189478\n",
       "7     0.212930  0.760064  0.126360\n",
       "8     0.561898  0.240281  0.581603\n",
       "9     0.532739  0.131000  0.705654\n",
       "10    0.589071  0.595798  0.085818\n",
       "11    0.085769  0.074722  0.112769\n",
       "12    0.596483  0.633120  0.599782\n",
       "13    0.652836  0.226716  0.651631\n",
       "14    0.088468  0.044128  0.066720\n",
       "15    0.121256  0.176832  0.145967\n",
       "16    0.119703  0.127591  0.102950\n",
       "17    0.540647  0.628881  0.463733\n",
       "18    0.762978  0.683074  0.597109\n",
       "19    0.104225  0.129855  0.051609\n",
       "20    0.864119  0.591262  0.210598\n",
       "21    0.627683  0.518139  0.674380\n",
       "22    0.634194  0.615466  0.559690\n",
       "23    0.144693  0.609028  0.607378\n",
       "24    0.606680  0.582878  0.572117\n",
       "25    0.058467  0.889268  0.115481\n",
       "26    0.559994  0.575106  0.551025\n",
       "27    0.580772  0.577689  0.605408\n",
       "28    0.585134  0.582058  0.614258\n",
       "29    0.648859  0.354499  0.566471\n",
       "...        ...       ...       ...\n",
       "1086  0.426364  0.576710  0.563573\n",
       "1087  0.072026  0.731842  0.005538\n",
       "1088  0.568644  0.534961  0.753987\n",
       "1089  0.613693  0.598941  0.777261\n",
       "1090  0.119708  0.106335  0.400643\n",
       "1091  0.616251  0.564533  0.544253\n",
       "1092  0.602793  0.608207  0.060824\n",
       "1093  0.091995  0.071009  0.086999\n",
       "1094  0.685437  0.593240  0.644251\n",
       "1095  0.700404  0.602750  0.995234\n",
       "1096  0.082728  0.624406  0.628613\n",
       "1097  0.697251  0.532851  0.600157\n",
       "1098  0.106069  0.325056  0.188543\n",
       "1099  0.943563  0.061582  0.070382\n",
       "1100  0.214460  0.101277  0.118444\n",
       "1101  0.650292  0.606852  0.153885\n",
       "1102  0.621475  0.592805  0.637535\n",
       "1103  0.689413  0.103713  0.602165\n",
       "1104  0.128252  0.595690  0.640235\n",
       "1105  0.456670  0.089411  0.188482\n",
       "1106  0.707327  0.617990  0.000349\n",
       "1107  0.599738  0.981944  0.739120\n",
       "1108  0.110210  0.612001  0.630806\n",
       "1109  0.014065  0.096129  0.009474\n",
       "1110  0.620867  0.072613  0.483010\n",
       "1111  0.679197  0.601469  0.608753\n",
       "1112  0.586582  0.692242  0.732015\n",
       "1113  0.907380  0.608694  0.588731\n",
       "1114  0.597064  0.994616  0.975465\n",
       "1115  0.629449  0.616352  0.580769\n",
       "\n",
       "[1116 rows x 3 columns]"
      ]
     },
     "execution_count": 51,
     "metadata": {},
     "output_type": "execute_result"
    }
   ],
   "source": [
    " df_codis_info.filter(regex=\"color._H\")"
   ]
  },
  {
   "cell_type": "code",
   "execution_count": null,
   "metadata": {
    "collapsed": true
   },
   "outputs": [],
   "source": []
  }
 ],
 "metadata": {
  "kernelspec": {
   "display_name": "Python 3",
   "language": "python",
   "name": "python3"
  }
 },
 "nbformat": 4,
 "nbformat_minor": 2
}
