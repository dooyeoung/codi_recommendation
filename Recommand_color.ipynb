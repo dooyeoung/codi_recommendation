{
 "cells": [
  {
   "cell_type": "code",
   "execution_count": 1,
   "metadata": {
    "collapsed": true
   },
   "outputs": [],
   "source": [
    "import pandas as pd\n",
    "import numpy as np\n",
    "from utils.imageprocessing import *\n",
    "from sklearn.model_selection import train_test_split"
   ]
  },
  {
   "cell_type": "markdown",
   "metadata": {},
   "source": [
    "### Load data"
   ]
  },
  {
   "cell_type": "code",
   "execution_count": 2,
   "metadata": {
    "collapsed": true
   },
   "outputs": [],
   "source": [
    "df_codis_color_info =  pd.read_csv(\"data/codis_info.csv\")"
   ]
  },
  {
   "cell_type": "markdown",
   "metadata": {},
   "source": [
    "### Preprocessing"
   ]
  },
  {
   "cell_type": "code",
   "execution_count": 3,
   "metadata": {},
   "outputs": [],
   "source": [
    "color1 = df_codis_color_info.filter(regex = \"color1_[RGB]\").values\n",
    "color2 = df_codis_color_info.filter(regex = \"color2_[RGB]\").values\n",
    "color3 = df_codis_color_info.filter(regex = \"color3_[RGB]\").values"
   ]
  },
  {
   "cell_type": "code",
   "execution_count": 4,
   "metadata": {},
   "outputs": [],
   "source": [
    "X0 = np.concatenate([color1, color2], axis = 1)\n",
    "y = color3"
   ]
  },
  {
   "cell_type": "code",
   "execution_count": 5,
   "metadata": {
    "collapsed": true
   },
   "outputs": [],
   "source": [
    "X0_train, X0_test, y_train, y_test = train_test_split(X0, y, test_size = 0.001)"
   ]
  },
  {
   "cell_type": "code",
   "execution_count": 6,
   "metadata": {},
   "outputs": [
    {
     "data": {
      "text/plain": [
       "((1114, 6), (2, 6), (1114, 3), (2, 3))"
      ]
     },
     "execution_count": 6,
     "metadata": {},
     "output_type": "execute_result"
    }
   ],
   "source": [
    "X0_train.shape, X0_test.shape, y_train.shape, y_test.shape"
   ]
  },
  {
   "cell_type": "code",
   "execution_count": 7,
   "metadata": {},
   "outputs": [],
   "source": [
    "### change form (sample, timesteps, input_dim)\n",
    "X_train = X0_train.reshape((X0_train.shape[0], 2, 3)) /256\n",
    "X_test = X0_test.reshape((X0_test.shape[0], 2, 3)) /256"
   ]
  },
  {
   "cell_type": "code",
   "execution_count": 8,
   "metadata": {},
   "outputs": [],
   "source": [
    "### change form (sample, timesteps, input_dim)\n",
    "X = X0.reshape((X0.shape[0], 2, 3)) /256\n",
    "y = y"
   ]
  },
  {
   "cell_type": "markdown",
   "metadata": {},
   "source": [
    "### Modeling(RNN)"
   ]
  },
  {
   "cell_type": "code",
   "execution_count": 15,
   "metadata": {},
   "outputs": [
    {
     "name": "stderr",
     "output_type": "stream",
     "text": [
      "Using TensorFlow backend.\n"
     ]
    }
   ],
   "source": [
    "from keras.models import Sequential\n",
    "from keras.layers import SimpleRNN, Dense\n",
    "from keras.layers import TimeDistributed\n",
    "from keras.optimizers import SGD"
   ]
  },
  {
   "cell_type": "code",
   "execution_count": 9,
   "metadata": {},
   "outputs": [],
   "source": [
    "# np.random.rand(0)\n",
    "# model = Sequential()\n",
    "# model.add(SimpleRNN(10, input_shape=(2,3)))\n",
    "# model.add(Dense(10, activation=\"relu\"))\n",
    "# model.add(Dense(3, activation=\"linear\"))\n",
    "# model.compile(loss=\"mse\", optimizer=\"adam\")"
   ]
  },
  {
   "cell_type": "code",
   "execution_count": 10,
   "metadata": {},
   "outputs": [],
   "source": [
    "# history = model.fit(X, y, epochs=100, verbose=0)"
   ]
  },
  {
   "cell_type": "code",
   "execution_count": 11,
   "metadata": {},
   "outputs": [],
   "source": [
    "# plt.plot(history.history[\"loss\"])\n",
    "# plt.title(\"Loss\")\n",
    "# plt.show()"
   ]
  },
  {
   "cell_type": "markdown",
   "metadata": {},
   "source": [
    "### 확인"
   ]
  },
  {
   "cell_type": "code",
   "execution_count": 13,
   "metadata": {},
   "outputs": [
    {
     "name": "stdout",
     "output_type": "stream",
     "text": [
      "[ 225.54908553  231.38313609  234.0563475 ]\n",
      "[ 146.84451294  145.24127197  148.03347778]\n"
     ]
    },
    {
     "data": {
      "image/png": "[encoded data removed]",
      "text/plain": [
       "<matplotlib.figure.Figure at 0x1ef17436828>"
      ]
     },
     "metadata": {},
     "output_type": "display_data"
    },
    {
     "name": "stdout",
     "output_type": "stream",
     "text": [
      "[ 111.74219517  129.04810524  134.95169841]\n",
      "[ 146.84451294  145.24127197  148.03347778]\n"
     ]
    },
    {
     "data": {
      "image/png": "[encoded data removed]",
      "text/plain": [
       "<matplotlib.figure.Figure at 0x1ef1837e048>"
      ]
     },
     "metadata": {},
     "output_type": "display_data"
    },
    {
     "name": "stdout",
     "output_type": "stream",
     "text": [
      "[ 242.45129398  243.41465542  245.62925269]\n",
      "[ 146.84451294  145.24127197  148.03347778]\n"
     ]
    },
    {
     "data": {
      "image/png": "[encoded data removed]",
      "text/plain": [
       "<matplotlib.figure.Figure at 0x1ef183f97f0>"
      ]
     },
     "metadata": {},
     "output_type": "display_data"
    },
    {
     "name": "stdout",
     "output_type": "stream",
     "text": [
      "[ 98.89863867  98.49581762  67.59914712]\n",
      "[ 146.84449768  145.24125671  148.03347778]\n"
     ]
    },
    {
     "data": {
      "image/png": "[encoded data removed]",
      "text/plain": [
       "<matplotlib.figure.Figure at 0x1ef18306978>"
      ]
     },
     "metadata": {},
     "output_type": "display_data"
    },
    {
     "name": "stdout",
     "output_type": "stream",
     "text": [
      "[ 228.9212612   229.31030324  230.06082012]\n",
      "[ 146.84451294  145.24127197  148.03347778]\n"
     ]
    },
    {
     "data": {
      "image/png": "[encoded data removed]",
      "text/plain": [
       "<matplotlib.figure.Figure at 0x1ef18491198>"
      ]
     },
     "metadata": {},
     "output_type": "display_data"
    },
    {
     "name": "stdout",
     "output_type": "stream",
     "text": [
      "[ 27.72964417  28.16867165  29.4408003 ]\n",
      "[ 146.84451294  145.24127197  148.03347778]\n"
     ]
    },
    {
     "data": {
      "image/png": "[encoded data removed]",
      "text/plain": [
       "<matplotlib.figure.Figure at 0x1ef1951f400>"
      ]
     },
     "metadata": {},
     "output_type": "display_data"
    },
    {
     "name": "stdout",
     "output_type": "stream",
     "text": [
      "[ 102.09026727  105.15330308   82.77357539]\n",
      "[ 146.84451294  145.24127197  148.03347778]\n"
     ]
    },
    {
     "data": {
      "image/png": "[encoded data removed]",
      "text/plain": [
       "<matplotlib.figure.Figure at 0x1ef195abdd8>"
      ]
     },
     "metadata": {},
     "output_type": "display_data"
    },
    {
     "name": "stdout",
     "output_type": "stream",
     "text": [
      "[ 213.24451349  212.95847512  212.06174483]\n",
      "[ 146.84451294  145.24127197  148.03347778]\n"
     ]
    },
    {
     "data": {
      "image/png": "[encoded data removed]",
      "text/plain": [
       "<matplotlib.figure.Figure at 0x1ef1963d240>"
      ]
     },
     "metadata": {},
     "output_type": "display_data"
    },
    {
     "name": "stdout",
     "output_type": "stream",
     "text": [
      "[ 44.62516146  60.91035908  76.53293723]\n",
      "[ 146.84451294  145.24127197  148.03347778]\n"
     ]
    },
    {
     "data": {
      "image/png": "[encoded data removed]",
      "text/plain": [
       "<matplotlib.figure.Figure at 0x1ef19629198>"
      ]
     },
     "metadata": {},
     "output_type": "display_data"
    },
    {
     "name": "stdout",
     "output_type": "stream",
     "text": [
      "[ 223.19782214  221.73756806  227.9800363 ]\n",
      "[ 118.03396606  117.28910065  119.64029694]\n"
     ]
    },
    {
     "data": {
      "image/png": "[encoded data removed]",
      "text/plain": [
       "<matplotlib.figure.Figure at 0x1ef18402b00>"
      ]
     },
     "metadata": {},
     "output_type": "display_data"
    },
    {
     "name": "stdout",
     "output_type": "stream",
     "text": [
      "[ 219.14476807  207.72847896  195.61035599]\n",
      "[ 146.84451294  145.24127197  148.03347778]\n"
     ]
    },
    {
     "data": {
      "image/png": "[encoded data removed]",
      "text/plain": [
       "<matplotlib.figure.Figure at 0x1ef181e8748>"
      ]
     },
     "metadata": {},
     "output_type": "display_data"
    },
    {
     "name": "stdout",
     "output_type": "stream",
     "text": [
      "[ 240.16676185  236.29868646  228.2055968 ]\n",
      "[ 118.03396606  117.28910065  119.64029694]\n"
     ]
    },
    {
     "data": {
      "image/png": "[encoded data removed]",
      "text/plain": [
       "<matplotlib.figure.Figure at 0x1ef18122390>"
      ]
     },
     "metadata": {},
     "output_type": "display_data"
    },
    {
     "name": "stdout",
     "output_type": "stream",
     "text": [
      "[ 210.01039919  213.8024153   219.45957732]\n",
      "[ 146.84451294  145.24127197  148.03347778]\n"
     ]
    },
    {
     "data": {
      "image/png": "[encoded data removed]",
      "text/plain": [
       "<matplotlib.figure.Figure at 0x1ef1810aac8>"
      ]
     },
     "metadata": {},
     "output_type": "display_data"
    },
    {
     "name": "stdout",
     "output_type": "stream",
     "text": [
      "[ 171.63467132  171.71727749  172.55031995]\n",
      "[ 146.84451294  145.24127197  148.03347778]\n"
     ]
    },
    {
     "data": {
      "image/png": "[encoded data removed]",
      "text/plain": [
       "<matplotlib.figure.Figure at 0x1ef18380630>"
      ]
     },
     "metadata": {},
     "output_type": "display_data"
    },
    {
     "name": "stdout",
     "output_type": "stream",
     "text": [
      "[ 79.96018203  64.6894198   54.49544937]\n",
      "[ 118.03396606  117.28910065  119.64029694]\n"
     ]
    },
    {
     "data": {
      "image/png": "[encoded data removed]",
      "text/plain": [
       "<matplotlib.figure.Figure at 0x1ef195a9e48>"
      ]
     },
     "metadata": {},
     "output_type": "display_data"
    },
    {
     "name": "stdout",
     "output_type": "stream",
     "text": [
      "[ 252.63177493  252.50393049  251.60239967]\n",
      "[ 146.84449768  145.24125671  148.03344727]\n"
     ]
    },
    {
     "data": {
      "image/png": "[encoded data removed]",
      "text/plain": [
       "<matplotlib.figure.Figure at 0x1ef182ad5f8>"
      ]
     },
     "metadata": {},
     "output_type": "display_data"
    },
    {
     "name": "stdout",
     "output_type": "stream",
     "text": [
      "[ 34.16685309  32.52647278  29.87602535]\n",
      "[ 146.84451294  145.24125671  148.03347778]\n"
     ]
    },
    {
     "data": {
      "image/png": "[encoded data removed]",
      "text/plain": [
       "<matplotlib.figure.Figure at 0x1ef18376630>"
      ]
     },
     "metadata": {},
     "output_type": "display_data"
    },
    {
     "name": "stdout",
     "output_type": "stream",
     "text": [
      "[ 127.41901408  130.33978873  129.70422535]\n",
      "[ 146.84451294  145.24127197  148.03347778]\n"
     ]
    },
    {
     "data": {
      "image/png": "[encoded data removed]",
      "text/plain": [
       "<matplotlib.figure.Figure at 0x1ef196a2c18>"
      ]
     },
     "metadata": {},
     "output_type": "display_data"
    },
    {
     "name": "stdout",
     "output_type": "stream",
     "text": [
      "[ 117.07059938  135.94195688  162.28784648]\n",
      "[ 146.84451294  145.24127197  148.03347778]\n"
     ]
    },
    {
     "data": {
      "image/png": "[encoded data removed]",
      "text/plain": [
       "<matplotlib.figure.Figure at 0x1ef197344a8>"
      ]
     },
     "metadata": {},
     "output_type": "display_data"
    },
    {
     "name": "stdout",
     "output_type": "stream",
     "text": [
      "[ 220.6615991   105.96114865   54.51295045]\n",
      "[ 146.84451294  145.24127197  148.03347778]\n"
     ]
    },
    {
     "data": {
      "image/png": "[encoded data removed]",
      "text/plain": [
       "<matplotlib.figure.Figure at 0x1ef197bc320>"
      ]
     },
     "metadata": {},
     "output_type": "display_data"
    },
    {
     "name": "stdout",
     "output_type": "stream",
     "text": [
      "[ 225.46568332  226.30794702  223.11258278]\n",
      "[ 146.84451294  145.24127197  148.03347778]\n"
     ]
    },
    {
     "data": {
      "image/png": "[encoded data removed]",
      "text/plain": [
       "<matplotlib.figure.Figure at 0x1ef19858630>"
      ]
     },
     "metadata": {},
     "output_type": "display_data"
    },
    {
     "name": "stdout",
     "output_type": "stream",
     "text": [
      "[ 163.55474453  163.35036496  167.76642336]\n",
      "[ 146.84451294  145.24127197  148.03347778]\n"
     ]
    },
    {
     "data": {
      "image/png": "[encoded data removed]",
      "text/plain": [
       "<matplotlib.figure.Figure at 0x1ef198c95c0>"
      ]
     },
     "metadata": {},
     "output_type": "display_data"
    },
    {
     "name": "stdout",
     "output_type": "stream",
     "text": [
      "[ 242.74365704  243.50568679  243.93088364]\n",
      "[ 146.84451294  145.24127197  148.03347778]\n"
     ]
    },
    {
     "data": {
      "image/png": "[encoded data removed]",
      "text/plain": [
       "<matplotlib.figure.Figure at 0x1ef1a945240>"
      ]
     },
     "metadata": {},
     "output_type": "display_data"
    },
    {
     "name": "stdout",
     "output_type": "stream",
     "text": [
      "[ 158.52694851  159.99499098  162.6537768 ]\n",
      "[ 146.84451294  145.24127197  148.03347778]\n"
     ]
    },
    {
     "data": {
      "image/png": "[encoded data removed]",
      "text/plain": [
       "<matplotlib.figure.Figure at 0x1ef1a9c0518>"
      ]
     },
     "metadata": {},
     "output_type": "display_data"
    },
    {
     "name": "stdout",
     "output_type": "stream",
     "text": [
      "[ 237.52037915  239.45402844  240.92890995]\n",
      "[ 146.84451294  145.24127197  148.03347778]\n"
     ]
    },
    {
     "data": {
      "image/png": "[encoded data removed]",
      "text/plain": [
       "<matplotlib.figure.Figure at 0x1ef1aa4d668>"
      ]
     },
     "metadata": {},
     "output_type": "display_data"
    },
    {
     "name": "stdout",
     "output_type": "stream",
     "text": [
      "[ 242.96136457  241.75297986  239.02671599]\n",
      "[ 146.84451294  145.24127197  148.03347778]\n"
     ]
    },
    {
     "data": {
      "image/png": "[encoded data removed]",
      "text/plain": [
       "<matplotlib.figure.Figure at 0x1ef1aabdd68>"
      ]
     },
     "metadata": {},
     "output_type": "display_data"
    },
    {
     "name": "stdout",
     "output_type": "stream",
     "text": [
      "[ 229.68225806  231.31989247  232.04247312]\n",
      "[ 146.84451294  145.24127197  148.03347778]\n"
     ]
    },
    {
     "data": {
      "image/png": "[encoded data removed]",
      "text/plain": [
       "<matplotlib.figure.Figure at 0x1ef1ab4e4a8>"
      ]
     },
     "metadata": {},
     "output_type": "display_data"
    },
    {
     "name": "stdout",
     "output_type": "stream",
     "text": [
      "[ 219.30563936  224.40914365  233.19076352]\n",
      "[ 146.84451294  145.24127197  148.03347778]\n"
     ]
    },
    {
     "data": {
      "image/png": "[encoded data removed]",
      "text/plain": [
       "<matplotlib.figure.Figure at 0x1ef1abd7208>"
      ]
     },
     "metadata": {},
     "output_type": "display_data"
    },
    {
     "name": "stdout",
     "output_type": "stream",
     "text": [
      "[ 205.15995029  211.48943724  225.28865613]\n",
      "[ 146.84451294  145.24127197  148.03347778]\n"
     ]
    },
    {
     "data": {
      "image/png": "[encoded data removed]",
      "text/plain": [
       "<matplotlib.figure.Figure at 0x1ef1ac73630>"
      ]
     },
     "metadata": {},
     "output_type": "display_data"
    },
    {
     "name": "stdout",
     "output_type": "stream",
     "text": [
      "[ 236.1466285   237.09160305  237.71851145]\n",
      "[ 146.84451294  145.24127197  148.03347778]\n"
     ]
    },
    {
     "data": {
      "image/png": "[encoded data removed]",
      "text/plain": [
       "<matplotlib.figure.Figure at 0x1ef1acf7710>"
      ]
     },
     "metadata": {},
     "output_type": "display_data"
    }
   ],
   "source": [
    "# for idx in range(30):\n",
    "#     input_color = np.vstack([color1[idx], color2[idx]])[np.newaxis, :, :]\n",
    "#     color_3_pre = model.predict(input_color)[0]\n",
    "\n",
    "#     true = [color1[idx], color2[idx], color3[idx]]\n",
    "#     predict = [color1[idx], color2[idx], color_3_pre]\n",
    "#     print(color3[idx])\n",
    "#     print(color_3_pre)\n",
    "#     bar_true = plot_colors([0.33, 0.33, 0.33], true, h=50, w=300)\n",
    "#     bar_predict = plot_colors([0.33, 0.33, 0.33], predict, h=50, w=300)\n",
    "    \n",
    "#     plt.figure(figsize = (5, 1))  \n",
    "\n",
    "#     plt.subplot(1, 2, 1)\n",
    "#     plt.imshow(bar_true)\n",
    "#     plt.axis('off')\n",
    "#     plt.subplot(1, 2, 2)\n",
    "#     plt.imshow(bar_predict)\n",
    "#     plt.axis('off')\n",
    "#     plt.show()"
   ]
  },
  {
   "cell_type": "markdown",
   "metadata": {},
   "source": [
    "### Modeling(NN)"
   ]
  },
  {
   "cell_type": "code",
   "execution_count": 16,
   "metadata": {},
   "outputs": [
    {
     "data": {
      "text/plain": [
       "((1116, 6), (1116, 3))"
      ]
     },
     "execution_count": 16,
     "metadata": {},
     "output_type": "execute_result"
    }
   ],
   "source": [
    "# change form\n",
    "X0.shape, y.shape"
   ]
  },
  {
   "cell_type": "code",
   "execution_count": 17,
   "metadata": {},
   "outputs": [],
   "source": [
    "np.random.rand(0)\n",
    "model1 = Sequential()\n",
    "model1.add(Dense(5, input_dim=6, activation = \"relu\"))\n",
    "model1.add(Dense(3, activation = \"linear\"))\n",
    "model1.compile(loss=\"mse\", optimizer=\"adam\")"
   ]
  },
  {
   "cell_type": "code",
   "execution_count": 18,
   "metadata": {},
   "outputs": [],
   "source": [
    "X = X0/256"
   ]
  },
  {
   "cell_type": "code",
   "execution_count": 19,
   "metadata": {},
   "outputs": [],
   "source": [
    "history = model1.fit(X, y, epochs=5000, verbose=0)"
   ]
  },
  {
   "cell_type": "code",
   "execution_count": 25,
   "metadata": {},
   "outputs": [],
   "source": [
    "model1.save('model1_dnn_normal.hdf5')"
   ]
  },
  {
   "cell_type": "code",
   "execution_count": 26,
   "metadata": {},
   "outputs": [
    {
     "data": {
      "image/png": "[encoded data removed]",
      "text/plain": [
       "<matplotlib.figure.Figure at 0x218ba6c9860>"
      ]
     },
     "metadata": {},
     "output_type": "display_data"
    }
   ],
   "source": [
    "plt.plot(history.history[\"loss\"])\n",
    "plt.title(\"Loss\")\n",
    "plt.show()"
   ]
  },
  {
   "cell_type": "markdown",
   "metadata": {},
   "source": [
    "### 확인"
   ]
  },
  {
   "cell_type": "code",
   "execution_count": 55,
   "metadata": {},
   "outputs": [
    {
     "data": {
      "image/png": "[encoded data removed]",
      "text/plain": [
       "<matplotlib.figure.Figure at 0x218bc2bbe10>"
      ]
     },
     "metadata": {},
     "output_type": "display_data"
    },
    {
     "data": {
      "image/png": "[encoded data removed]",
      "text/plain": [
       "<matplotlib.figure.Figure at 0x218bd4b6400>"
      ]
     },
     "metadata": {},
     "output_type": "display_data"
    },
    {
     "data": {
      "image/png": "[encoded data removed]",
      "text/plain": [
       "<matplotlib.figure.Figure at 0x218bbde06a0>"
      ]
     },
     "metadata": {},
     "output_type": "display_data"
    },
    {
     "data": {
      "image/png": "[encoded data removed]",
      "text/plain": [
       "<matplotlib.figure.Figure at 0x218bbedbe80>"
      ]
     },
     "metadata": {},
     "output_type": "display_data"
    },
    {
     "data": {
      "image/png": "[encoded data removed]",
      "text/plain": [
       "<matplotlib.figure.Figure at 0x218ba83c550>"
      ]
     },
     "metadata": {},
     "output_type": "display_data"
    },
    {
     "data": {
      "image/png": "[encoded data removed]",
      "text/plain": [
       "<matplotlib.figure.Figure at 0x218bc33e710>"
      ]
     },
     "metadata": {},
     "output_type": "display_data"
    },
    {
     "data": {
      "image/png": "[encoded data removed]",
      "text/plain": [
       "<matplotlib.figure.Figure at 0x218bc1db128>"
      ]
     },
     "metadata": {},
     "output_type": "display_data"
    },
    {
     "data": {
      "image/png": "[encoded data removed]",
      "text/plain": [
       "<matplotlib.figure.Figure at 0x218bbd873c8>"
      ]
     },
     "metadata": {},
     "output_type": "display_data"
    },
    {
     "data": {
      "image/png": "[encoded data removed]",
      "text/plain": [
       "<matplotlib.figure.Figure at 0x218bbf6ab38>"
      ]
     },
     "metadata": {},
     "output_type": "display_data"
    },
    {
     "data": {
      "image/png": "[encoded data removed]",
      "text/plain": [
       "<matplotlib.figure.Figure at 0x218bc33e080>"
      ]
     },
     "metadata": {},
     "output_type": "display_data"
    },
    {
     "data": {
      "image/png": "[encoded data removed]",
      "text/plain": [
       "<matplotlib.figure.Figure at 0x218bc4ac8d0>"
      ]
     },
     "metadata": {},
     "output_type": "display_data"
    },
    {
     "data": {
      "image/png": "[encoded data removed]",
      "text/plain": [
       "<matplotlib.figure.Figure at 0x218bc3ca2b0>"
      ]
     },
     "metadata": {},
     "output_type": "display_data"
    },
    {
     "data": {
      "image/png": "[encoded data removed]",
      "text/plain": [
       "<matplotlib.figure.Figure at 0x218bc2cbdd8>"
      ]
     },
     "metadata": {},
     "output_type": "display_data"
    },
    {
     "data": {
      "image/png": "[encoded data removed]",
      "text/plain": [
       "<matplotlib.figure.Figure at 0x218bbba9438>"
      ]
     },
     "metadata": {},
     "output_type": "display_data"
    },
    {
     "data": {
      "image/png": "[encoded data removed]",
      "text/plain": [
       "<matplotlib.figure.Figure at 0x218bc499ba8>"
      ]
     },
     "metadata": {},
     "output_type": "display_data"
    },
    {
     "data": {
      "image/png": "[encoded data removed]",
      "text/plain": [
       "<matplotlib.figure.Figure at 0x218bc30e2e8>"
      ]
     },
     "metadata": {},
     "output_type": "display_data"
    },
    {
     "data": {
      "image/png": "[encoded data removed]",
      "text/plain": [
       "<matplotlib.figure.Figure at 0x218bc427080>"
      ]
     },
     "metadata": {},
     "output_type": "display_data"
    },
    {
     "data": {
      "image/png": "[encoded data removed]",
      "text/plain": [
       "<matplotlib.figure.Figure at 0x218bc307eb8>"
      ]
     },
     "metadata": {},
     "output_type": "display_data"
    },
    {
     "data": {
      "image/png": "[encoded data removed]",
      "text/plain": [
       "<matplotlib.figure.Figure at 0x218bc38a1d0>"
      ]
     },
     "metadata": {},
     "output_type": "display_data"
    },
    {
     "data": {
      "image/png": "[encoded data removed]",
      "text/plain": [
       "<matplotlib.figure.Figure at 0x218ba695e48>"
      ]
     },
     "metadata": {},
     "output_type": "display_data"
    }
   ],
   "source": [
    "for idx in range(20):\n",
    "    input_color = np.hstack([color1[idx], color2[idx]]).reshape(1,6) /256\n",
    "    color_3_pre = model1.predict(input_color)[0]\n",
    "\n",
    "    true = [color1[idx], color2[idx], color3[idx]]\n",
    "    predict = [color1[idx], color2[idx], color_3_pre]\n",
    "    \n",
    "    bar_true = plot_colors([0.33, 0.33, 0.33], true, h=50, w=300)\n",
    "    bar_predict = plot_colors([0.33, 0.33, 0.33], predict, h=50, w=300)\n",
    "    \n",
    "    plt.figure(figsize = (2, 1))  \n",
    "\n",
    "    plt.subplot(1, 2, 1)\n",
    "    plt.imshow(bar_true)\n",
    "    plt.axis('off')\n",
    "    plt.subplot(1, 2, 2)\n",
    "    plt.imshow(bar_predict)\n",
    "    plt.axis('off')\n",
    "    plt.show()"
   ]
  },
  {
   "cell_type": "markdown",
   "metadata": {},
   "source": [
    "### ColorMind 사용"
   ]
  },
  {
   "cell_type": "code",
   "execution_count": 22,
   "metadata": {},
   "outputs": [],
   "source": [
    "import requests\n",
    "import json"
   ]
  },
  {
   "cell_type": "code",
   "execution_count": 23,
   "metadata": {},
   "outputs": [],
   "source": [
    "url = \"http://colormind.io/api/\"\n",
    "data = {\n",
    "    'model' : \"default\",\n",
    "    'input' : [[44, 43, 44], [90, 83, 82], \"N\"]\n",
    "}"
   ]
  },
  {
   "cell_type": "code",
   "execution_count": 85,
   "metadata": {},
   "outputs": [
    {
     "data": {
      "image/png": "[encoded data removed]",
      "text/plain": [
       "<matplotlib.figure.Figure at 0x1ef1968e780>"
      ]
     },
     "metadata": {},
     "output_type": "display_data"
    },
    {
     "data": {
      "image/png": "[encoded data removed]",
      "text/plain": [
       "<matplotlib.figure.Figure at 0x1ef1b5ac630>"
      ]
     },
     "metadata": {},
     "output_type": "display_data"
    },
    {
     "data": {
      "image/png": "[encoded data removed]",
      "text/plain": [
       "<matplotlib.figure.Figure at 0x1ef1b0023c8>"
      ]
     },
     "metadata": {},
     "output_type": "display_data"
    },
    {
     "data": {
      "image/png": "[encoded data removed]",
      "text/plain": [
       "<matplotlib.figure.Figure at 0x1ef1b0ee2e8>"
      ]
     },
     "metadata": {},
     "output_type": "display_data"
    },
    {
     "data": {
      "image/png": "[encoded data removed]",
      "text/plain": [
       "<matplotlib.figure.Figure at 0x1ef195c47b8>"
      ]
     },
     "metadata": {},
     "output_type": "display_data"
    }
   ],
   "source": [
    "for idx in range(5):\n",
    "    input_color = [color1[idx].tolist(), color2[idx].tolist(), \"N\"]\n",
    "    data = {\n",
    "    'model' : \"default\",\n",
    "    'input' : input_color}\n",
    "    \n",
    "    plt.figure(figsize = (10, 1)) \n",
    "    \n",
    "    \n",
    "    true = [color1[idx], color2[idx], color3[idx]]\n",
    "    bar_true = plot_colors([0.33, 0.33, 0.33], true, h=50, w=300)\n",
    "    plt.subplot(1, 6, 1)\n",
    "    plt.imshow(bar_true)\n",
    "    plt.axis('off')\n",
    "\n",
    "    for rand_idx in range(5):\n",
    "        response = requests.post(url, data = json.dumps(data))\n",
    "        color_3_pre = np.array(response.json()[\"result\"][2])\n",
    "        predict = [color1[idx], color2[idx], color_3_pre]\n",
    "        bar_predict = plot_colors([0.33, 0.33, 0.33], predict, h=50, w=300)\n",
    "\n",
    "        plt.subplot(1, 6, 2 + rand_idx)\n",
    "        plt.imshow(bar_predict)\n",
    "        plt.axis('off')\n",
    "    plt.show()\n",
    "    "
   ]
  },
  {
   "cell_type": "markdown",
   "metadata": {},
   "source": [
    "### 색깔 추천 (컬러마인드에서 예측한 값과 가까운 값 , 예측한 값, 컬러마인드 나머지1)"
   ]
  },
  {
   "cell_type": "code",
   "execution_count": 60,
   "metadata": {},
   "outputs": [
    {
     "name": "stdout",
     "output_type": "stream",
     "text": [
      "[array([  19.32861825,   74.59376488,  101.89400857]), array([ 118.23544433,  136.80332436,  161.93016993]), array([ 225.54908553,  231.38313609,  234.0563475 ])]\n",
      "[array([250, 184, 149]), array([ 166.87835693,  165.21559143,  167.00437927], dtype=float32), array([253, 221, 166])]\n"
     ]
    },
    {
     "data": {
      "image/png": "[encoded data removed]",
      "text/plain": [
       "<matplotlib.figure.Figure at 0x218bc066198>"
      ]
     },
     "metadata": {},
     "output_type": "display_data"
    }
   ],
   "source": [
    "idx =0\n",
    "input_color = np.hstack([color1[idx], color2[idx]]).reshape(1,6)\n",
    "\n",
    "li_color_3_recom = []\n",
    "\n",
    "# true color values\n",
    "true = [color1[idx], color2[idx], color3[idx]]\n",
    "bar_true = plot_colors([0.33, 0.33, 0.33], true, h=50, w=300)\n",
    "\n",
    "# predict color values using dnn\n",
    "color_3_pre = model1.predict(input_color/256)[0]\n",
    "# get color values using colormind\n",
    "li_color_3_colormind = []\n",
    "request_color = [color1[idx].tolist(), color2[idx].tolist(), \"N\"]\n",
    "data = {\n",
    "'model' : \"default\",\n",
    "'input' : request_color}\n",
    "\n",
    "li_similar = []\n",
    "li_color_3_colormind = []\n",
    "for _ in range(3):\n",
    "    response = requests.post(url, data = json.dumps(data))\n",
    "    color_3_colormind = np.array(response.json()[\"result\"][2])\n",
    "    li_similar.append(np.linalg.norm(color_3_pre - color_3_colormind))\n",
    "    li_color_3_colormind.append(color_3_colormind)\n",
    "    \n",
    "li_idx = np.argsort(np.array(li_similar))\n",
    "# recommend color1\n",
    "li_color_3_recom.append(li_color_3_colormind[li_idx[0]])\n",
    "# recommend color2\n",
    "li_color_3_recom.append(color_3_pre)\n",
    "# recommend color3\n",
    "li_color_3_recom.append(li_color_3_colormind[li_idx[1]])\n",
    "\n",
    "# draw color bar\n",
    "plt.subplot(1, 4, 1)\n",
    "plt.imshow(bar_true)\n",
    "plt.axis('off')\n",
    "bar_true = plot_colors([0.33, 0.33, 0.33], true, h=50, w=300)\n",
    "for recom_idx in range(3):\n",
    "    recom = [color1[idx], color2[idx],  li_color_3_recom[recom_idx]]\n",
    "    bar_recom = plot_colors([0.33, 0.33, 0.33], recom, h=50, w=300)\n",
    "    plt.subplot(1, 4, 2+recom_idx)\n",
    "    plt.imshow(bar_recom)\n",
    "    plt.axis('off')\n",
    "\n",
    "print(true)\n",
    "print(li_color_3_recom)\n",
    "\n",
    "\n",
    "# predict = [color1[idx], color2[idx], color_3_pre]\n",
    "# bar_predict = plot_colors([0.33, 0.33, 0.33], predict, h=50, w=300)"
   ]
  },
  {
   "cell_type": "code",
   "execution_count": 57,
   "metadata": {},
   "outputs": [],
   "source": [
    "from keras.models import load_model\n",
    "import pandas as pd\n",
    "import numpy as np"
   ]
  },
  {
   "cell_type": "code",
   "execution_count": 63,
   "metadata": {},
   "outputs": [],
   "source": [
    "def recommand_color(color1, color2):\n",
    "    '''\n",
    "    recommand 3 colors\n",
    "    input : main color1(RGB), sub color2(RGB)\n",
    "    output : recommand color1(RGB, nearest colormind from predict), recommand color2(RGB, predict), recommand color3(RGB, second colormind from predict)\n",
    "    '''\n",
    "    input_color = np.hstack([color1, color2]).reshape(1,6)\n",
    "\n",
    "    li_color_3_recom = []\n",
    "    # predict color values using dnn\n",
    "    model = load_model(\"model1_dnn_normal.hdf5\")\n",
    "    color_3_pre = model.predict(input_color/256)[0]\n",
    "    \n",
    "    # get color values using colormind\n",
    "    li_color_3_colormind = []\n",
    "    request_color = [color1, color2, \"N\"]\n",
    "    data = {\n",
    "    'model' : \"default\",\n",
    "    'input' : request_color}\n",
    "\n",
    "    li_similar = []\n",
    "    li_color_3_colormind = []\n",
    "    \n",
    "    for _ in range(3):\n",
    "        response = requests.post(url, data = json.dumps(data))\n",
    "        color_3_colormind = np.array(response.json()[\"result\"][2])\n",
    "        li_similar.append(np.linalg.norm(color_3_pre - color_3_colormind))\n",
    "        li_color_3_colormind.append(color_3_colormind)\n",
    "\n",
    "    li_idx = np.argsort(np.array(li_similar))\n",
    "    # recommend color1\n",
    "    li_color_3_recom.append(li_color_3_colormind[li_idx[0]])\n",
    "    # recommend color2\n",
    "    li_color_3_recom.append(color_3_pre)\n",
    "    # recommend color3\n",
    "    li_color_3_recom.append(li_color_3_colormind[li_idx[1]])\n",
    "    \n",
    "    return(li_color_3_recom)\n",
    "\n",
    "# predict = [color1[idx], color2[idx], color_3_pre]\n",
    "# bar_predict = plot_colors([0.33, 0.33, 0.33], predict, h=50, w=300)"
   ]
  },
  {
   "cell_type": "code",
   "execution_count": 64,
   "metadata": {},
   "outputs": [
    {
     "data": {
      "text/plain": [
       "[array([250, 184, 149]),\n",
       " array([ 166.87835693,  165.21559143,  167.00437927], dtype=float32),\n",
       " array([253, 221, 166])]"
      ]
     },
     "execution_count": 64,
     "metadata": {},
     "output_type": "execute_result"
    }
   ],
   "source": [
    "recommand_color([19.32861825, 74.59376488, 101.89400857], [118.23544433, 136.80332436, 161.93016993])"
   ]
  },
  {
   "cell_type": "code",
   "execution_count": null,
   "metadata": {},
   "outputs": [],
   "source": []
  }
 ],
 "metadata": {
  "kernelspec": {
   "display_name": "Python 3",
   "language": "python",
   "name": "python3"
  },
  "language_info": {
   "codemirror_mode": {
    "name": "ipython",
    "version": 3
   },
   "file_extension": ".py",
   "mimetype": "text/x-python",
   "name": "python",
   "nbconvert_exporter": "python",
   "pygments_lexer": "ipython3",
   "version": "3.6.3"
  }
 },
 "nbformat": 4,
 "nbformat_minor": 2
}
