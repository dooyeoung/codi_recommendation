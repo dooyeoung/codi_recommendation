{
 "cells": [
  {
   "cell_type": "code",
   "execution_count": 346,
   "metadata": {},
   "outputs": [],
   "source": [
    "codis_info= pd.read_csv('data/codis_info.csv')"
   ]
  },
  {
   "cell_type": "code",
   "execution_count": 347,
   "metadata": {},
   "outputs": [],
   "source": [
    "%matplotlib inline"
   ]
  },
  {
   "cell_type": "code",
   "execution_count": 348,
   "metadata": {},
   "outputs": [],
   "source": [
    "import jsonify, json\n",
    "import urllib"
   ]
  },
  {
   "cell_type": "code",
   "execution_count": null,
   "metadata": {},
   "outputs": [],
   "source": []
  },
  {
   "cell_type": "code",
   "execution_count": 349,
   "metadata": {},
   "outputs": [],
   "source": [
    "import pickle\n",
    "import numpy as np\n",
    "from sklearn.discriminant_analysis import QuadraticDiscriminantAnalysis"
   ]
  },
  {
   "cell_type": "code",
   "execution_count": 350,
   "metadata": {},
   "outputs": [],
   "source": [
    "def qda_goodbad(color1, color2, color3):\n",
    "    '''\n",
    "    Predict Good/Bad codis using qda\n",
    "    input :  color1(RGB), color2(RGB), color3(RGB)\n",
    "    output : good probabilities\n",
    "    '''\n",
    "    \n",
    "    # load model\n",
    "    with open(\"model/qda_goodbad.p\", \"rb\") as f:\n",
    "        qda = pickle.load(f)\n",
    "    \n",
    "    # change color\n",
    "    color1 = np.array(color1)\n",
    "    color2 = np.array(color2)\n",
    "    color3 = np.array(color3)\n",
    "    color = np.hstack([color1, color2, color3])\n",
    "    \n",
    "    # predict\n",
    "    prob_good = qda.predict_proba(color.reshape(1, 9))[0]\n",
    "    \n",
    "    return prob_good[1]"
   ]
  },
  {
   "cell_type": "code",
   "execution_count": 307,
   "metadata": {},
   "outputs": [],
   "source": [
    "import MySQLdb\n",
    "with open('pw.pw', 'rb') as f:\n",
    "    pw = pickle.load(f)\n",
    "\n",
    "db = MySQLdb.connect(\n",
    "\"127.0.0.1\",\n",
    "\"root\",\n",
    "pw,\n",
    "\"codi\",\n",
    "charset='utf8',\n",
    ") \n",
    "\n",
    "def get_codi_by_id(id_codi):\n",
    "    \n",
    "    SQL_QUERY = \"\"\"\n",
    "        select img from codis\n",
    "        where codis.id_codi = {} limit 1;\n",
    "    \"\"\".format(id_codi)\n",
    "      \n",
    "    curs = db.cursor()\n",
    "    count = curs.execute(SQL_QUERY)\n",
    "    rows = curs.fetchall()\n",
    "    return rows"
   ]
  },
  {
   "cell_type": "code",
   "execution_count": 332,
   "metadata": {},
   "outputs": [],
   "source": [
    "from PIL import Image, ImageDraw \n",
    "def view_color(c1, c2, c3):\n",
    "    w, h = 5, 1\n",
    "      \n",
    "    plt.grid(False)\n",
    "    plt.subplot(1, 3, 1)\n",
    "    plt.imshow(Image.new('RGB',(w,h), c1))\n",
    "    plt.xticks([])\n",
    "    plt.yticks([])\n",
    "    \n",
    "    plt.grid(False)\n",
    "    plt.subplot(1, 3, 2)\n",
    "    plt.imshow(Image.new('RGB',(w,h), c2))\n",
    "    plt.xticks([])\n",
    "    plt.yticks([])\n",
    "    \n",
    "    plt.grid(False)\n",
    "    plt.subplot(1, 3, 3)\n",
    "    plt.imshow(Image.new('RGB',(w,h), c3))\n",
    "    plt.xticks([])\n",
    "    plt.yticks([])\n",
    "    plt.show()"
   ]
  },
  {
   "cell_type": "code",
   "execution_count": 395,
   "metadata": {},
   "outputs": [],
   "source": [
    "def get_similarity(c1, c2, c3, cnt):\n",
    "    \n",
    "    print(cnt)\n",
    "    rc1 = 1\n",
    "    cs = 1\n",
    "    if cnt == 1:\n",
    "        cs = c1\n",
    "        rc1 = codis_info.filter(['color1_R', 'color1_G', 'color1_B']).values\n",
    "    elif cnt == 2:\n",
    "        cs = np.concatenate((c1, c2))\n",
    "        rc1 = codis_info.filter(['color1_R', 'color1_G', 'color1_B',\n",
    "                        'color2_R', 'color2_G', 'color2_B']).values\n",
    "    elif cnt == 3:\n",
    "        cs = np.concatenate((c1, c2, c3)) \n",
    "        rc1 = codis_info.filter(['color1_R', 'color1_G', 'color1_B',\n",
    "                            'color2_R', 'color2_G', 'color2_B',\n",
    "                            'color3_R', 'color3_G', 'color3_B']).values\n",
    "    \n",
    "    res = np.sqrt(np.sum((rc1-cs)**2, axis=1))\n",
    "    \n",
    "    sort_idx = np.argsort(res)\n",
    "    res = codis_info['name'][sort_idx]\n",
    "     \n",
    "    return res\n",
    "\n",
    "def get_similarity2(c1, c2, c3):\n",
    "    \n",
    "    c1 = np.concatenate((c1, c2, c3))\n",
    "    \n",
    "    rc1 = codis_info.filter(['color1_R', 'color1_G', 'color1_B',\n",
    "                        'color2_R', 'color2_G', 'color2_B',\n",
    "                        'color3_R', 'color3_G', 'color3_B']).values\n",
    "    \n",
    "    res = np.linalg.norm(rc1 - c1, axis=1)\n",
    "    \n",
    "    sort_idx = np.argsort(res)\n",
    "    res = codis_info['name'][sort_idx]\n",
    "     \n",
    "    return res"
   ]
  },
  {
   "cell_type": "code",
   "execution_count": 396,
   "metadata": {},
   "outputs": [],
   "source": [
    "# rgb(0, 0, 0), rgb(0, 188, 212), rgb(242, 205, 136)"
   ]
  },
  {
   "cell_type": "code",
   "execution_count": null,
   "metadata": {},
   "outputs": [],
   "source": []
  },
  {
   "cell_type": "code",
   "execution_count": null,
   "metadata": {},
   "outputs": [],
   "source": []
  },
  {
   "cell_type": "code",
   "execution_count": 376,
   "metadata": {
    "scrolled": true
   },
   "outputs": [],
   "source": [
    "c1= (0, 0, 0)\n",
    "c2= (0, 188, 212)\n",
    "c3 = (242, 205, 136)\n",
    "\n",
    "c1= (0, 0, 0)\n",
    "c2=(233, 30, 99)\n",
    "c3=(250, 166, 155)\n",
    "\n",
    "c1 = (0, 0, 0)\n",
    "c2 = (233, 30, 99)\n",
    "c3 = (233, 30, 99)\n",
    "\n",
    "c1=(0, 0, 0)\n",
    "c2=(0, 150, 136)\n",
    "c3=(244, 227, 83)\n",
    "\n",
    "codilis = get_similarity(c1, c2, c3).values[:10]\n",
    "#view_color((c1),(c2),(c3))"
   ]
  },
  {
   "cell_type": "code",
   "execution_count": 397,
   "metadata": {
    "scrolled": true
   },
   "outputs": [
    {
     "name": "stdout",
     "output_type": "stream",
     "text": [
      "3\n"
     ]
    },
    {
     "data": {
      "text/plain": [
       "array([396928, 395850, 396029, 397000, 396275, 395652, 395761, 395940,\n",
       "       395711, 396162])"
      ]
     },
     "execution_count": 397,
     "metadata": {},
     "output_type": "execute_result"
    }
   ],
   "source": [
    "codilis = get_similarity(c1, c2, c3, 3).values[:10]\n",
    "codilis"
   ]
  },
  {
   "cell_type": "code",
   "execution_count": 399,
   "metadata": {},
   "outputs": [
    {
     "name": "stdout",
     "output_type": "stream",
     "text": [
      "1\n"
     ]
    },
    {
     "data": {
      "text/plain": [
       "array([396928, 396768, 395744, 395850, 396228, 395854, 395577, 396675,\n",
       "       396600, 396618])"
      ]
     },
     "execution_count": 399,
     "metadata": {},
     "output_type": "execute_result"
    }
   ],
   "source": [
    "codilis = get_similarity(c1, c2, c3, 1).values[:10]\n",
    "codilis"
   ]
  },
  {
   "cell_type": "code",
   "execution_count": null,
   "metadata": {},
   "outputs": [],
   "source": []
  },
  {
   "cell_type": "code",
   "execution_count": null,
   "metadata": {},
   "outputs": [],
   "source": []
  },
  {
   "cell_type": "code",
   "execution_count": 359,
   "metadata": {},
   "outputs": [],
   "source": [
    "search1 = codis_info[codis_info['name'].isin(codilis)]"
   ]
  },
  {
   "cell_type": "code",
   "execution_count": 388,
   "metadata": {
    "scrolled": false
   },
   "outputs": [
    {
     "data": {
      "image/png": "[encoded data removed]",
      "text/plain": [
       "<Figure size 432x288 with 3 Axes>"
      ]
     },
     "metadata": {},
     "output_type": "display_data"
    },
    {
     "name": "stdout",
     "output_type": "stream",
     "text": [
      "0.6997164420767672 (0.4751288659793814, 0.35940721649484536, 0.1654639175257732)\n"
     ]
    },
    {
     "data": {
      "image/png": "[encoded data removed]",
      "text/plain": [
       "<Figure size 432x288 with 3 Axes>"
      ]
     },
     "metadata": {},
     "output_type": "display_data"
    },
    {
     "name": "stdout",
     "output_type": "stream",
     "text": [
      "0.9915328999885488 (0.5897679387500742, 0.20517538132826876, 0.20505667992165708)\n"
     ]
    },
    {
     "data": {
      "image/png": "[encoded data removed]",
      "text/plain": [
       "<Figure size 432x288 with 3 Axes>"
      ]
     },
     "metadata": {},
     "output_type": "display_data"
    },
    {
     "name": "stdout",
     "output_type": "stream",
     "text": [
      "0.9652385256611037 (0.43561998446803, 0.3568211234791613, 0.2075588920528087)\n"
     ]
    },
    {
     "data": {
      "image/png": "[encoded data removed]",
      "text/plain": [
       "<Figure size 432x288 with 3 Axes>"
      ]
     },
     "metadata": {},
     "output_type": "display_data"
    },
    {
     "name": "stdout",
     "output_type": "stream",
     "text": [
      "0.9826911767051617 (0.4505909589374924, 0.28816863652979163, 0.261240404532716)\n"
     ]
    },
    {
     "data": {
      "image/png": "[encoded data removed]",
      "text/plain": [
       "<Figure size 432x288 with 3 Axes>"
      ]
     },
     "metadata": {},
     "output_type": "display_data"
    },
    {
     "name": "stdout",
     "output_type": "stream",
     "text": [
      "0.9999125403778619 (0.4961169483782549, 0.29511192325262675, 0.20877112836911832)\n"
     ]
    },
    {
     "data": {
      "image/png": "[encoded data removed]",
      "text/plain": [
       "<Figure size 432x288 with 3 Axes>"
      ]
     },
     "metadata": {},
     "output_type": "display_data"
    },
    {
     "name": "stdout",
     "output_type": "stream",
     "text": [
      "0.4085869917658921 (0.3772206541590569, 0.3262217056837678, 0.2965576401571753)\n"
     ]
    },
    {
     "data": {
      "image/png": "[encoded data removed]",
      "text/plain": [
       "<Figure size 432x288 with 3 Axes>"
      ]
     },
     "metadata": {},
     "output_type": "display_data"
    },
    {
     "name": "stdout",
     "output_type": "stream",
     "text": [
      "0.9996596140182387 (0.52143174848421, 0.28693494393332863, 0.1916333075824613)\n"
     ]
    },
    {
     "data": {
      "image/png": "[encoded data removed]",
      "text/plain": [
       "<Figure size 432x288 with 3 Axes>"
      ]
     },
     "metadata": {},
     "output_type": "display_data"
    },
    {
     "name": "stdout",
     "output_type": "stream",
     "text": [
      "0.9790541293685409 (0.40526776068727816, 0.3366428314213694, 0.25808940789135243)\n"
     ]
    },
    {
     "data": {
      "image/png": "[encoded data removed]",
      "text/plain": [
       "<Figure size 432x288 with 3 Axes>"
      ]
     },
     "metadata": {},
     "output_type": "display_data"
    },
    {
     "name": "stdout",
     "output_type": "stream",
     "text": [
      "0.007636121524236227 (0.4887009112827429, 0.4813044011278657, 0.029994687589391524)\n"
     ]
    },
    {
     "data": {
      "image/png": "[encoded data removed]",
      "text/plain": [
       "<Figure size 432x288 with 3 Axes>"
      ]
     },
     "metadata": {},
     "output_type": "display_data"
    },
    {
     "name": "stdout",
     "output_type": "stream",
     "text": [
      "3.9831602128037595e-07 (0.4808706810512808, 0.454398555201749, 0.0647307637469702)\n"
     ]
    }
   ],
   "source": [
    "results = []\n",
    "for idx in range(len(search1)):\n",
    "    row = search1.iloc[idx]\n",
    "    c1 = tuple(row[['color1_R', 'color1_G', 'color1_B']].values.astype(int))\n",
    "    c2 = tuple(row[['color2_R', 'color2_G', 'color2_B']].values.astype(int))\n",
    "    c3 = tuple(row[['color3_R', 'color3_G', 'color3_B']].values.astype(int))\n",
    "    \n",
    "    ratio = tuple(row[['color1_ratio', 'color2_ratio', 'color3_ratio']].values.tolist())\n",
    " \n",
    "    id_codi = row['name']\n",
    "    \n",
    "    img = get_codi_by_id(id_codi)[0][0]\n",
    "  \n",
    "    view_color((c1),(c2),(c3))\n",
    "    #print(id_codi)\n",
    "    \n",
    "    gb = qda_goodbad(c1, c2, c3)\n",
    "    print(gb, ratio)\n",
    "    results.append([id_codi, gb, ratio, c1, c2, c3])\n"
   ]
  },
  {
   "cell_type": "code",
   "execution_count": null,
   "metadata": {},
   "outputs": [],
   "source": []
  },
  {
   "cell_type": "code",
   "execution_count": null,
   "metadata": {},
   "outputs": [],
   "source": []
  },
  {
   "cell_type": "code",
   "execution_count": null,
   "metadata": {},
   "outputs": [],
   "source": []
  }
 ],
 "metadata": {
  "kernelspec": {
   "display_name": "Python 3",
   "language": "python",
   "name": "python3"
  },
  "language_info": {
   "codemirror_mode": {
    "name": "ipython",
    "version": 3
   },
   "file_extension": ".py",
   "mimetype": "text/x-python",
   "name": "python",
   "nbconvert_exporter": "python",
   "pygments_lexer": "ipython3",
   "version": "3.6.5"
  }
 },
 "nbformat": 4,
 "nbformat_minor": 2
}
