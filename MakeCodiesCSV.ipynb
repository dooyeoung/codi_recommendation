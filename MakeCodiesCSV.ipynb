{
 "cells": [
  {
   "cell_type": "code",
   "execution_count": 1,
   "metadata": {},
   "outputs": [],
   "source": [
    "import pandas as pd\n",
    "import os\n",
    "import cv2"
   ]
  },
  {
   "cell_type": "code",
   "execution_count": 2,
   "metadata": {},
   "outputs": [],
   "source": [
    "from tqdm import tqdm_notebook"
   ]
  },
  {
   "cell_type": "code",
   "execution_count": 3,
   "metadata": {},
   "outputs": [],
   "source": [
    "from utils.imageprocessing import extract_color"
   ]
  },
  {
   "cell_type": "code",
   "execution_count": 11,
   "metadata": {},
   "outputs": [],
   "source": [
    "file_list = os.listdir(\"data/codis\")"
   ]
  },
  {
   "cell_type": "code",
   "execution_count": 12,
   "metadata": {},
   "outputs": [],
   "source": [
    "li_codis_info = [\"name\", \\\n",
    "                 \"color1_ratio\", \"color1_R\", \"color1_G\", \"color1_B\", \\\n",
    "                 \"color2_ratio\", \"color2_R\", \"color2_G\", \"color2_B\", \\\n",
    "                 \"color3_ratio\", \"color3_R\", \"color3_G\", \"color3_B\"]"
   ]
  },
  {
   "cell_type": "code",
   "execution_count": 13,
   "metadata": {},
   "outputs": [],
   "source": [
    "df_codis_info = pd.DataFrame(columns = li_codis_info)"
   ]
  },
  {
   "cell_type": "code",
   "execution_count": 14,
   "metadata": {},
   "outputs": [
    {
     "data": {
      "application/vnd.jupyter.widget-view+json": {
       "model_id": "cb27dfd5cb5d4c2b92cdb60f4b08a88c",
       "version_major": 2,
       "version_minor": 0
      },
      "text/html": [
       "<p>Failed to display Jupyter Widget of type <code>HBox</code>.</p>\n",
       "<p>\n",
       "  If you're reading this message in the Jupyter Notebook or JupyterLab Notebook, it may mean\n",
       "  that the widgets JavaScript is still loading. If this message persists, it\n",
       "  likely means that the widgets JavaScript library is either not installed or\n",
       "  not enabled. See the <a href=\"https://ipywidgets.readthedocs.io/en/stable/user_install.html\">Jupyter\n",
       "  Widgets Documentation</a> for setup instructions.\n",
       "</p>\n",
       "<p>\n",
       "  If you're reading this message in another frontend (for example, a static\n",
       "  rendering on GitHub or <a href=\"https://nbviewer.jupyter.org/\">NBViewer</a>),\n",
       "  it may mean that your frontend doesn't currently support widgets.\n",
       "</p>\n"
      ],
      "text/plain": [
       "HBox(children=(IntProgress(value=0, max=1116), HTML(value='')))"
      ]
     },
     "metadata": {},
     "output_type": "display_data"
    },
    {
     "name": "stdout",
     "output_type": "stream",
     "text": [
      "\n"
     ]
    }
   ],
   "source": [
    "for path in tqdm_notebook(file_list):\n",
    "    image_path = \"data/codis/\" + path\n",
    "    \n",
    "    image = cv2.imread(image_path)\n",
    "    image = cv2.cvtColor(image, cv2.COLOR_BGR2RGB)\n",
    "    image = cv2.resize(image, None, fx=1/4, fy=1/4, interpolation = cv2.INTER_CUBIC)\n",
    "    \n",
    "    info = extract_color(image)\n",
    "    \n",
    "    name = path.split(\".\")[0]\n",
    "    color1_ratio = info[0][0]\n",
    "    color2_ratio = info[0][1]\n",
    "    color3_ratio = info[0][2]\n",
    "    color1_R = info[1][0][0]\n",
    "    color1_G = info[1][0][1]\n",
    "    color1_B = info[1][0][2]\n",
    "    color2_R = info[1][1][0]\n",
    "    color2_G = info[1][1][1]\n",
    "    color2_B = info[1][1][2]\n",
    "    color3_R = info[1][2][0]\n",
    "    color3_G = info[1][2][1]\n",
    "    color3_B = info[1][2][2]\n",
    "    \n",
    "    df_codis_info.loc[len(df_codis_info)] = {\"name\" : name, \\\n",
    "                 \"color1_ratio\" : color1_ratio, \"color1_R\" : color1_R, \"color1_G\" : color1_G, \"color1_B\" : color1_B, \\\n",
    "                 \"color2_ratio\" : color2_ratio, \"color2_R\" : color2_R, \"color2_G\" : color2_G, \"color2_B\" : color2_B, \\\n",
    "                 \"color3_ratio\" : color3_ratio, \"color3_R\" : color3_R, \"color3_G\" : color3_G, \"color3_B\" : color3_B}"
   ]
  },
  {
   "cell_type": "code",
   "execution_count": 15,
   "metadata": {},
   "outputs": [],
   "source": [
    "df_codis_info.to_csv(\"data/codis_info.csv\", index=False)"
   ]
  },
  {
   "cell_type": "code",
   "execution_count": 16,
   "metadata": {},
   "outputs": [
    {
     "data": {
      "text/html": [
       "<div>\n",
       "<style>\n",
       "    .dataframe thead tr:only-child th {\n",
       "        text-align: right;\n",
       "    }\n",
       "\n",
       "    .dataframe thead th {\n",
       "        text-align: left;\n",
       "    }\n",
       "\n",
       "    .dataframe tbody tr th {\n",
       "        vertical-align: top;\n",
       "    }\n",
       "</style>\n",
       "<table border=\"1\" class=\"dataframe\">\n",
       "  <thead>\n",
       "    <tr style=\"text-align: right;\">\n",
       "      <th></th>\n",
       "      <th>name</th>\n",
       "      <th>color1_ratio</th>\n",
       "      <th>color1_R</th>\n",
       "      <th>color1_G</th>\n",
       "      <th>color1_B</th>\n",
       "      <th>color2_ratio</th>\n",
       "      <th>color2_R</th>\n",
       "      <th>color2_G</th>\n",
       "      <th>color2_B</th>\n",
       "      <th>color3_ratio</th>\n",
       "      <th>color3_R</th>\n",
       "      <th>color3_G</th>\n",
       "      <th>color3_B</th>\n",
       "    </tr>\n",
       "  </thead>\n",
       "  <tbody>\n",
       "    <tr>\n",
       "      <th>1111</th>\n",
       "      <td>397005</td>\n",
       "      <td>0.415858</td>\n",
       "      <td>234.213846</td>\n",
       "      <td>233.892050</td>\n",
       "      <td>238.172338</td>\n",
       "      <td>0.406404</td>\n",
       "      <td>21.023577</td>\n",
       "      <td>24.031536</td>\n",
       "      <td>28.714972</td>\n",
       "      <td>0.177737</td>\n",
       "      <td>62.144277</td>\n",
       "      <td>79.258053</td>\n",
       "      <td>111.384510</td>\n",
       "    </tr>\n",
       "    <tr>\n",
       "      <th>1112</th>\n",
       "      <td>397006</td>\n",
       "      <td>0.630105</td>\n",
       "      <td>23.764715</td>\n",
       "      <td>24.239371</td>\n",
       "      <td>24.751244</td>\n",
       "      <td>0.344838</td>\n",
       "      <td>242.026831</td>\n",
       "      <td>241.340823</td>\n",
       "      <td>245.811664</td>\n",
       "      <td>0.025057</td>\n",
       "      <td>125.453157</td>\n",
       "      <td>125.100815</td>\n",
       "      <td>126.039715</td>\n",
       "    </tr>\n",
       "    <tr>\n",
       "      <th>1113</th>\n",
       "      <td>397007</td>\n",
       "      <td>0.633673</td>\n",
       "      <td>27.650401</td>\n",
       "      <td>26.307009</td>\n",
       "      <td>27.053562</td>\n",
       "      <td>0.239583</td>\n",
       "      <td>75.057487</td>\n",
       "      <td>94.037051</td>\n",
       "      <td>129.622040</td>\n",
       "      <td>0.126744</td>\n",
       "      <td>206.097693</td>\n",
       "      <td>210.852559</td>\n",
       "      <td>216.266042</td>\n",
       "    </tr>\n",
       "    <tr>\n",
       "      <th>1114</th>\n",
       "      <td>397008</td>\n",
       "      <td>0.635646</td>\n",
       "      <td>33.647317</td>\n",
       "      <td>34.603687</td>\n",
       "      <td>35.937386</td>\n",
       "      <td>0.295892</td>\n",
       "      <td>198.603922</td>\n",
       "      <td>7.386471</td>\n",
       "      <td>13.563333</td>\n",
       "      <td>0.068461</td>\n",
       "      <td>233.768644</td>\n",
       "      <td>231.126271</td>\n",
       "      <td>231.515254</td>\n",
       "    </tr>\n",
       "    <tr>\n",
       "      <th>1115</th>\n",
       "      <td>397009</td>\n",
       "      <td>0.873307</td>\n",
       "      <td>28.293539</td>\n",
       "      <td>29.345128</td>\n",
       "      <td>33.002562</td>\n",
       "      <td>0.095912</td>\n",
       "      <td>240.303279</td>\n",
       "      <td>240.676545</td>\n",
       "      <td>241.539723</td>\n",
       "      <td>0.030781</td>\n",
       "      <td>102.096267</td>\n",
       "      <td>103.807466</td>\n",
       "      <td>105.422397</td>\n",
       "    </tr>\n",
       "  </tbody>\n",
       "</table>\n",
       "</div>"
      ],
      "text/plain": [
       "        name  color1_ratio    color1_R    color1_G    color1_B  color2_ratio  \\\n",
       "1111  397005      0.415858  234.213846  233.892050  238.172338      0.406404   \n",
       "1112  397006      0.630105   23.764715   24.239371   24.751244      0.344838   \n",
       "1113  397007      0.633673   27.650401   26.307009   27.053562      0.239583   \n",
       "1114  397008      0.635646   33.647317   34.603687   35.937386      0.295892   \n",
       "1115  397009      0.873307   28.293539   29.345128   33.002562      0.095912   \n",
       "\n",
       "        color2_R    color2_G    color2_B  color3_ratio    color3_R  \\\n",
       "1111   21.023577   24.031536   28.714972      0.177737   62.144277   \n",
       "1112  242.026831  241.340823  245.811664      0.025057  125.453157   \n",
       "1113   75.057487   94.037051  129.622040      0.126744  206.097693   \n",
       "1114  198.603922    7.386471   13.563333      0.068461  233.768644   \n",
       "1115  240.303279  240.676545  241.539723      0.030781  102.096267   \n",
       "\n",
       "        color3_G    color3_B  \n",
       "1111   79.258053  111.384510  \n",
       "1112  125.100815  126.039715  \n",
       "1113  210.852559  216.266042  \n",
       "1114  231.126271  231.515254  \n",
       "1115  103.807466  105.422397  "
      ]
     },
     "execution_count": 16,
     "metadata": {},
     "output_type": "execute_result"
    }
   ],
   "source": [
    "df_codis_info.tail()"
   ]
  },
  {
   "cell_type": "code",
   "execution_count": null,
   "metadata": {},
   "outputs": [],
   "source": []
  }
 ],
 "metadata": {
  "kernelspec": {
   "display_name": "Python 3",
   "language": "python",
   "name": "python3"
  },
  "language_info": {
   "codemirror_mode": {
    "name": "ipython",
    "version": 3
   },
   "file_extension": ".py",
   "mimetype": "text/x-python",
   "name": "python",
   "nbconvert_exporter": "python",
   "pygments_lexer": "ipython3",
   "version": "3.6.3"
  }
 },
 "nbformat": 4,
 "nbformat_minor": 2
}
