{
 "cells": [
  {
   "cell_type": "code",
   "execution_count": 20,
   "metadata": {},
   "outputs": [],
   "source": [
    "import pandas as pd\n",
    "import os\n",
    "import cv2\n",
    "import colorsys"
   ]
  },
  {
   "cell_type": "code",
   "execution_count": 6,
   "metadata": {},
   "outputs": [],
   "source": [
    "from tqdm import tqdm_notebook"
   ]
  },
  {
   "cell_type": "code",
   "execution_count": 7,
   "metadata": {},
   "outputs": [],
   "source": [
    "from utils.imageprocessing import extract_color"
   ]
  },
  {
   "cell_type": "code",
   "execution_count": 8,
   "metadata": {},
   "outputs": [],
   "source": [
    "file_list = os.listdir(\"data/codis\")"
   ]
  },
  {
   "cell_type": "code",
   "execution_count": 9,
   "metadata": {},
   "outputs": [],
   "source": [
    "li_codis_info = [\"name\", \\\n",
    "                 \"color1_ratio\", \"color1_R\", \"color1_G\", \"color1_B\", \\\n",
    "                 \"color1_H\", \"color1_S\", \"color1_V\", \\\n",
    "                 \"color2_ratio\", \"color2_R\", \"color2_G\", \"color2_B\", \\\n",
    "                 \"color2_H\", \"color2_S\", \"color2_V\", \\\n",
    "                 \"color3_ratio\", \"color3_R\", \"color3_G\", \"color3_B\", \\\n",
    "                 \"color3_H\", \"color3_S\", \"color3_V\"]"
   ]
  },
  {
   "cell_type": "code",
   "execution_count": 10,
   "metadata": {},
   "outputs": [],
   "source": [
    "df_codis_info = pd.DataFrame(columns = li_codis_info)"
   ]
  },
  {
   "cell_type": "code",
   "execution_count": 15,
   "metadata": {},
   "outputs": [],
   "source": [
    "image = cv2.imread(\"data/codis/397005.jpg\")\n",
    "image = cv2.cvtColor(image, cv2.COLOR_BGR2RGB)\n",
    "image = cv2.resize(image, None, fx=1/4, fy=1/4, interpolation = cv2.INTER_CUBIC)\n",
    "info = extract_color(image)"
   ]
  },
  {
   "cell_type": "code",
   "execution_count": 21,
   "metadata": {},
   "outputs": [
    {
     "data": {
      "text/plain": [
       "234.21384570256382"
      ]
     },
     "execution_count": 21,
     "metadata": {},
     "output_type": "execute_result"
    }
   ],
   "source": [
    "info[1][0][0]"
   ]
  },
  {
   "cell_type": "code",
   "execution_count": 22,
   "metadata": {},
   "outputs": [
    {
     "data": {
      "text/plain": [
       "(0.67919679265352695, 0.017971387909852581, 238.17233792900328)"
      ]
     },
     "execution_count": 22,
     "metadata": {},
     "output_type": "execute_result"
    }
   ],
   "source": [
    "colorsys.rgb_to_hsv(info[1][0][0], info[1][0][1], info[1][0][2])"
   ]
  },
  {
   "cell_type": "code",
   "execution_count": 18,
   "metadata": {},
   "outputs": [
    {
     "ename": "error",
     "evalue": "OpenCV(3.4.1) C:\\bld\\opencv_1520732670222\\work\\opencv-3.4.1\\modules\\imgproc\\src\\color.cpp:11109: error: (-215) depth == 0 || depth == 2 || depth == 5 in function cv::cvtColor\n",
     "output_type": "error",
     "traceback": [
      "\u001b[1;31m---------------------------------------------------------------------------\u001b[0m",
      "\u001b[1;31merror\u001b[0m                                     Traceback (most recent call last)",
      "\u001b[1;32m<ipython-input-18-b6448f20bb79>\u001b[0m in \u001b[0;36m<module>\u001b[1;34m()\u001b[0m\n\u001b[1;32m----> 1\u001b[1;33m \u001b[0mcv2\u001b[0m\u001b[1;33m.\u001b[0m\u001b[0mcvtColor\u001b[0m\u001b[1;33m(\u001b[0m\u001b[0minfo\u001b[0m\u001b[1;33m[\u001b[0m\u001b[1;36m1\u001b[0m\u001b[1;33m]\u001b[0m\u001b[1;33m[\u001b[0m\u001b[1;36m0\u001b[0m\u001b[1;33m]\u001b[0m\u001b[1;33m,\u001b[0m \u001b[0mcv2\u001b[0m\u001b[1;33m.\u001b[0m\u001b[0mCOLOR_RGB2HSV\u001b[0m\u001b[1;33m)\u001b[0m\u001b[1;33m\u001b[0m\u001b[0m\n\u001b[0m",
      "\u001b[1;31merror\u001b[0m: OpenCV(3.4.1) C:\\bld\\opencv_1520732670222\\work\\opencv-3.4.1\\modules\\imgproc\\src\\color.cpp:11109: error: (-215) depth == 0 || depth == 2 || depth == 5 in function cv::cvtColor\n"
     ]
    }
   ],
   "source": [
    "cv2.cvtColor(info[1][0], cv2.COLOR_RGB2HSV)"
   ]
  },
  {
   "cell_type": "code",
   "execution_count": 23,
   "metadata": {},
   "outputs": [
    {
     "data": {
      "application/vnd.jupyter.widget-view+json": {
       "model_id": "da885bb808414ed8afb06730e3ce1a96",
       "version_major": 2,
       "version_minor": 0
      },
      "text/html": [
       "<p>Failed to display Jupyter Widget of type <code>HBox</code>.</p>\n",
       "<p>\n",
       "  If you're reading this message in the Jupyter Notebook or JupyterLab Notebook, it may mean\n",
       "  that the widgets JavaScript is still loading. If this message persists, it\n",
       "  likely means that the widgets JavaScript library is either not installed or\n",
       "  not enabled. See the <a href=\"https://ipywidgets.readthedocs.io/en/stable/user_install.html\">Jupyter\n",
       "  Widgets Documentation</a> for setup instructions.\n",
       "</p>\n",
       "<p>\n",
       "  If you're reading this message in another frontend (for example, a static\n",
       "  rendering on GitHub or <a href=\"https://nbviewer.jupyter.org/\">NBViewer</a>),\n",
       "  it may mean that your frontend doesn't currently support widgets.\n",
       "</p>\n"
      ],
      "text/plain": [
       "HBox(children=(IntProgress(value=0, max=1116), HTML(value='')))"
      ]
     },
     "metadata": {},
     "output_type": "display_data"
    },
    {
     "name": "stdout",
     "output_type": "stream",
     "text": [
      "\n"
     ]
    }
   ],
   "source": [
    "for path in tqdm_notebook(file_list):\n",
    "    image_path = \"data/codis/\" + path\n",
    "    \n",
    "    image = cv2.imread(image_path)\n",
    "    image = cv2.cvtColor(image, cv2.COLOR_BGR2RGB)\n",
    "    image = cv2.resize(image, None, fx=1/4, fy=1/4, interpolation = cv2.INTER_CUBIC)\n",
    "    \n",
    "    info = extract_color(image)\n",
    "    \n",
    "    name = path.split(\".\")[0]\n",
    "    color1_ratio = info[0][0]\n",
    "    color2_ratio = info[0][1]\n",
    "    color3_ratio = info[0][2]\n",
    "    color1_R = info[1][0][0]\n",
    "    color1_G = info[1][0][1]\n",
    "    color1_B = info[1][0][2]\n",
    "    color2_R = info[1][1][0]\n",
    "    color2_G = info[1][1][1]\n",
    "    color2_B = info[1][1][2]\n",
    "    color3_R = info[1][2][0]\n",
    "    color3_G = info[1][2][1]\n",
    "    color3_B = info[1][2][2]\n",
    "    \n",
    "    color1_H, color1_S, color1_V = colorsys.rgb_to_hsv(color1_R, color1_G, color1_B)\n",
    "    color2_H, color2_S, color2_V = colorsys.rgb_to_hsv(color2_R, color2_G, color2_B)\n",
    "    color3_H, color3_S, color3_V = colorsys.rgb_to_hsv(color3_R, color3_G, color3_B)\n",
    "    \n",
    "    df_codis_info.loc[len(df_codis_info)] = {\"name\" : name, \\\n",
    "                 \"color1_ratio\" : color1_ratio, \"color1_R\" : color1_R, \"color1_G\" : color1_G, \"color1_B\" : color1_B, \\\n",
    "                 \"color2_ratio\" : color2_ratio, \"color2_R\" : color2_R, \"color2_G\" : color2_G, \"color2_B\" : color2_B, \\\n",
    "                 \"color3_ratio\" : color3_ratio, \"color3_R\" : color3_R, \"color3_G\" : color3_G, \"color3_B\" : color3_B, \\\n",
    "                 \"color1_H\" : color1_H, \"color1_S\" : color1_S, \"color1_V\" : color1_V, \\\n",
    "                 \"color2_H\" : color2_H, \"color2_S\" : color2_S, \"color2_V\" : color2_V, \\\n",
    "                 \"color3_H\" : color3_H, \"color3_S\" : color3_S, \"color3_V\" : color3_V}\n",
    "                "
   ]
  },
  {
   "cell_type": "code",
   "execution_count": 24,
   "metadata": {},
   "outputs": [],
   "source": [
    "df_codis_info.to_csv(\"data/codis_info.csv\", index=False)"
   ]
  },
  {
   "cell_type": "code",
   "execution_count": 25,
   "metadata": {},
   "outputs": [
    {
     "data": {
      "text/html": [
       "<div>\n",
       "<style>\n",
       "    .dataframe thead tr:only-child th {\n",
       "        text-align: right;\n",
       "    }\n",
       "\n",
       "    .dataframe thead th {\n",
       "        text-align: left;\n",
       "    }\n",
       "\n",
       "    .dataframe tbody tr th {\n",
       "        vertical-align: top;\n",
       "    }\n",
       "</style>\n",
       "<table border=\"1\" class=\"dataframe\">\n",
       "  <thead>\n",
       "    <tr style=\"text-align: right;\">\n",
       "      <th></th>\n",
       "      <th>name</th>\n",
       "      <th>color1_ratio</th>\n",
       "      <th>color1_R</th>\n",
       "      <th>color1_G</th>\n",
       "      <th>color1_B</th>\n",
       "      <th>color1_H</th>\n",
       "      <th>color1_S</th>\n",
       "      <th>color1_V</th>\n",
       "      <th>color2_ratio</th>\n",
       "      <th>color2_R</th>\n",
       "      <th>...</th>\n",
       "      <th>color2_H</th>\n",
       "      <th>color2_S</th>\n",
       "      <th>color2_V</th>\n",
       "      <th>color3_ratio</th>\n",
       "      <th>color3_R</th>\n",
       "      <th>color3_G</th>\n",
       "      <th>color3_B</th>\n",
       "      <th>color3_H</th>\n",
       "      <th>color3_S</th>\n",
       "      <th>color3_V</th>\n",
       "    </tr>\n",
       "  </thead>\n",
       "  <tbody>\n",
       "    <tr>\n",
       "      <th>1111</th>\n",
       "      <td>397005</td>\n",
       "      <td>0.415858</td>\n",
       "      <td>234.213846</td>\n",
       "      <td>233.892050</td>\n",
       "      <td>238.172338</td>\n",
       "      <td>0.679197</td>\n",
       "      <td>0.017971</td>\n",
       "      <td>238.172338</td>\n",
       "      <td>0.406465</td>\n",
       "      <td>21.035419</td>\n",
       "      <td>...</td>\n",
       "      <td>0.601469</td>\n",
       "      <td>0.268061</td>\n",
       "      <td>28.739307</td>\n",
       "      <td>0.177676</td>\n",
       "      <td>62.173644</td>\n",
       "      <td>79.293754</td>\n",
       "      <td>111.442347</td>\n",
       "      <td>0.608753</td>\n",
       "      <td>0.442100</td>\n",
       "      <td>111.442347</td>\n",
       "    </tr>\n",
       "    <tr>\n",
       "      <th>1112</th>\n",
       "      <td>397006</td>\n",
       "      <td>0.630130</td>\n",
       "      <td>23.776704</td>\n",
       "      <td>24.251325</td>\n",
       "      <td>24.764449</td>\n",
       "      <td>0.586582</td>\n",
       "      <td>0.039886</td>\n",
       "      <td>24.764449</td>\n",
       "      <td>0.344787</td>\n",
       "      <td>242.043845</td>\n",
       "      <td>...</td>\n",
       "      <td>0.692242</td>\n",
       "      <td>0.018193</td>\n",
       "      <td>245.829945</td>\n",
       "      <td>0.025083</td>\n",
       "      <td>126.014286</td>\n",
       "      <td>125.660204</td>\n",
       "      <td>126.563265</td>\n",
       "      <td>0.732015</td>\n",
       "      <td>0.007135</td>\n",
       "      <td>126.563265</td>\n",
       "    </tr>\n",
       "    <tr>\n",
       "      <th>1113</th>\n",
       "      <td>397007</td>\n",
       "      <td>0.633673</td>\n",
       "      <td>27.650401</td>\n",
       "      <td>26.307009</td>\n",
       "      <td>27.053562</td>\n",
       "      <td>0.907380</td>\n",
       "      <td>0.048585</td>\n",
       "      <td>27.650401</td>\n",
       "      <td>0.239583</td>\n",
       "      <td>75.057487</td>\n",
       "      <td>...</td>\n",
       "      <td>0.608694</td>\n",
       "      <td>0.420951</td>\n",
       "      <td>129.622040</td>\n",
       "      <td>0.126744</td>\n",
       "      <td>206.097693</td>\n",
       "      <td>210.852559</td>\n",
       "      <td>216.266042</td>\n",
       "      <td>0.588731</td>\n",
       "      <td>0.047018</td>\n",
       "      <td>216.266042</td>\n",
       "    </tr>\n",
       "    <tr>\n",
       "      <th>1114</th>\n",
       "      <td>397008</td>\n",
       "      <td>0.635646</td>\n",
       "      <td>33.647317</td>\n",
       "      <td>34.603687</td>\n",
       "      <td>35.937386</td>\n",
       "      <td>0.597064</td>\n",
       "      <td>0.063724</td>\n",
       "      <td>35.937386</td>\n",
       "      <td>0.295892</td>\n",
       "      <td>198.603922</td>\n",
       "      <td>...</td>\n",
       "      <td>0.994616</td>\n",
       "      <td>0.962808</td>\n",
       "      <td>198.603922</td>\n",
       "      <td>0.068461</td>\n",
       "      <td>233.768644</td>\n",
       "      <td>231.126271</td>\n",
       "      <td>231.515254</td>\n",
       "      <td>0.975465</td>\n",
       "      <td>0.011303</td>\n",
       "      <td>233.768644</td>\n",
       "    </tr>\n",
       "    <tr>\n",
       "      <th>1115</th>\n",
       "      <td>397009</td>\n",
       "      <td>0.873488</td>\n",
       "      <td>28.296150</td>\n",
       "      <td>29.347667</td>\n",
       "      <td>33.005055</td>\n",
       "      <td>0.629449</td>\n",
       "      <td>0.142672</td>\n",
       "      <td>33.005055</td>\n",
       "      <td>0.095912</td>\n",
       "      <td>240.303279</td>\n",
       "      <td>...</td>\n",
       "      <td>0.616352</td>\n",
       "      <td>0.005119</td>\n",
       "      <td>241.539723</td>\n",
       "      <td>0.030600</td>\n",
       "      <td>102.167323</td>\n",
       "      <td>103.881890</td>\n",
       "      <td>105.494094</td>\n",
       "      <td>0.580769</td>\n",
       "      <td>0.031535</td>\n",
       "      <td>105.494094</td>\n",
       "    </tr>\n",
       "  </tbody>\n",
       "</table>\n",
       "<p>5 rows × 22 columns</p>\n",
       "</div>"
      ],
      "text/plain": [
       "        name  color1_ratio    color1_R    color1_G    color1_B  color1_H  \\\n",
       "1111  397005      0.415858  234.213846  233.892050  238.172338  0.679197   \n",
       "1112  397006      0.630130   23.776704   24.251325   24.764449  0.586582   \n",
       "1113  397007      0.633673   27.650401   26.307009   27.053562  0.907380   \n",
       "1114  397008      0.635646   33.647317   34.603687   35.937386  0.597064   \n",
       "1115  397009      0.873488   28.296150   29.347667   33.005055  0.629449   \n",
       "\n",
       "      color1_S    color1_V  color2_ratio    color2_R     ...      color2_H  \\\n",
       "1111  0.017971  238.172338      0.406465   21.035419     ...      0.601469   \n",
       "1112  0.039886   24.764449      0.344787  242.043845     ...      0.692242   \n",
       "1113  0.048585   27.650401      0.239583   75.057487     ...      0.608694   \n",
       "1114  0.063724   35.937386      0.295892  198.603922     ...      0.994616   \n",
       "1115  0.142672   33.005055      0.095912  240.303279     ...      0.616352   \n",
       "\n",
       "      color2_S    color2_V  color3_ratio    color3_R    color3_G    color3_B  \\\n",
       "1111  0.268061   28.739307      0.177676   62.173644   79.293754  111.442347   \n",
       "1112  0.018193  245.829945      0.025083  126.014286  125.660204  126.563265   \n",
       "1113  0.420951  129.622040      0.126744  206.097693  210.852559  216.266042   \n",
       "1114  0.962808  198.603922      0.068461  233.768644  231.126271  231.515254   \n",
       "1115  0.005119  241.539723      0.030600  102.167323  103.881890  105.494094   \n",
       "\n",
       "      color3_H  color3_S    color3_V  \n",
       "1111  0.608753  0.442100  111.442347  \n",
       "1112  0.732015  0.007135  126.563265  \n",
       "1113  0.588731  0.047018  216.266042  \n",
       "1114  0.975465  0.011303  233.768644  \n",
       "1115  0.580769  0.031535  105.494094  \n",
       "\n",
       "[5 rows x 22 columns]"
      ]
     },
     "execution_count": 25,
     "metadata": {},
     "output_type": "execute_result"
    }
   ],
   "source": [
    "df_codis_info.tail()"
   ]
  },
  {
   "cell_type": "code",
   "execution_count": null,
   "metadata": {},
   "outputs": [],
   "source": []
  }
 ],
 "metadata": {
  "kernelspec": {
   "display_name": "Python 3",
   "language": "python",
   "name": "python3"
  },
  "language_info": {
   "codemirror_mode": {
    "name": "ipython",
    "version": 3
   },
   "file_extension": ".py",
   "mimetype": "text/x-python",
   "name": "python",
   "nbconvert_exporter": "python",
   "pygments_lexer": "ipython3",
   "version": "3.6.5"
  }
 },
 "nbformat": 4,
 "nbformat_minor": 2
}
