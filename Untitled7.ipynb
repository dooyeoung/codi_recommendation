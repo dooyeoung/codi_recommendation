{
 "cells": [
  {
   "cell_type": "code",
   "execution_count": 1,
   "metadata": {},
   "outputs": [],
   "source": [
    "from selenium import webdriver\n",
    "from time import sleep"
   ]
  },
  {
   "cell_type": "markdown",
   "metadata": {},
   "source": [
    "sudo pip3 install opencv-python"
   ]
  },
  {
   "cell_type": "code",
   "execution_count": 1,
   "metadata": {},
   "outputs": [],
   "source": [
    "%matplotlib inline"
   ]
  },
  {
   "cell_type": "code",
   "execution_count": 2,
   "metadata": {},
   "outputs": [
    {
     "name": "stdout",
     "output_type": "stream",
     "text": [
      "No matching processes belonging to you were found\n"
     ]
    }
   ],
   "source": [
    "!killall phantomjs"
   ]
  },
  {
   "cell_type": "code",
   "execution_count": 6,
   "metadata": {
    "scrolled": false
   },
   "outputs": [
    {
     "name": "stdout",
     "output_type": "stream",
     "text": [
      "[['#봄#코디#평범하게#남친룩\\n평범하게'], ['편안한 감성의 2018SS 아메카지 추천 코디입니다 #아메카지 #아메카지코디 #아메카지룩 #워크웨어 #워크웨어코디 #워크웨어룩 #남자아메카지 #남사친룩 #남친룩 #데이트룩 #여자들이좋아하는 #훈훈 #모던룩 #대학생 #대학생룩 #회사원 #직장인 #봄코디 #간절디코디 #2018ss #톤온톤 #커플룩 #커플아메카지 #아메카지모자 #아메카지구두 #아메카지신발 #숏비니 #숏비니코디 #자켓코디 #퍼티그팬츠 #치노팬츠 #와치캡 #브래디백 #스카프\\n#민정513'], ['#봄코디 #남친룩 #데일리룩 #데이트룩 #심쿵 #캐쥬얼 #남사친 #연하남 #벚꽃놀이 #주말 #체크셔츠 #남방 #청바지 #스니커즈 #쑤 #추천코디 #추천노래 세븐틴 - 사랑쪽지\\n쑤'], ['#맨투맨 #시계 #슬랙스 #페이크삭스 #스니커즈 #봄 #남친룩?\\n빤스어센틱'], ['#캐주얼#조끼니트#체크셔츠#스니커즈\\n쌈자를몰라'], ['#캐주얼#대학생\\n쌈자를몰라'], ['#봄코디 #벚꽃 #데이트룩 #데일리룩 #남친룩 #심플룩 #캐쥬얼 #댄디 #수트 #스니커즈 #연상남 #개강 #추천코디 #쑤 #옛백사메 #고딩 #노래 SF9 - 오솔레미오\\n쑤'], ['#봄코디 #남친룩 #남사친 #데일리룩 #데이트룩 #심플룩 #연하남 #입학 #개강룩 #선배 #니트조끼 #셔츠 #스니커즈 #블루 #옛백사메 #쑤 #추천노래 #추천코디 Day 6 - 좋아합니다\\n쑤'], ['#남친룩 오랜만입니다.\\n남친']]\n"
     ]
    }
   ],
   "source": [
    "article_list = []\n",
    "\n",
    "def get_codi(page): \n",
    "    driver =  webdriver.PhantomJS()\n",
    "    driver.get(\"http://www.mapssi.com/mapssi_web/codi.php\")\n",
    "\n",
    "    driver.execute_script('goPage({})'.format(page))\n",
    "   \n",
    "    lis = driver.find_elements_by_css_selector('.favorite_sub li')\n",
    "    \n",
    "    #pages = driver.find_elements_by_css_selector('#pager li')\n",
    " \n",
    "    idx = 0\n",
    "    rows = []\n",
    "    while(True):\n",
    "        try:\n",
    "            li = lis[idx]\n",
    "            #link = article.find_element_by_css_selector('dt:not(.photo) > a').text\n",
    "            link = li.find_element_by_css_selector('a').get_attribute(\"href\")\n",
    "            codino = li.find_element_by_css_selector('a').get_attribute('onclick')\n",
    "            codino = codino.replace('javascript:goCodi(','')\n",
    "            codino = codino.replace(')','').strip()\n",
    "            \n",
    "            \n",
    "            tag = li.find_element_by_css_selector('a').text\n",
    "            img = li.find_element_by_css_selector('a div.mc img:nth-child(2)').get_attribute('src')\n",
    "            \n",
    "            #result.append([tag, img])\n",
    "            rows.append([tag])\n",
    "         \n",
    "            # 종료\n",
    "            idx = idx + 1\n",
    "            if idx == len(lis):\n",
    "                break\n",
    "        except Exception as e:\n",
    "            del rows[:]\n",
    "            rows = [] \n",
    "            sleep(1) \n",
    "            lis = driver.find_elements_by_css_selector('.favorite_sub li')\n",
    "            idx = 0 \n",
    "            #print(e)\n",
    "            pass\n",
    "         \n",
    "    print(rows)\n",
    "     \n",
    "    driver.close()\n",
    "     \n",
    "get_codi(1)"
   ]
  },
  {
   "cell_type": "code",
   "execution_count": 111,
   "metadata": {},
   "outputs": [
    {
     "data": {
      "text/html": [
       "<div>\n",
       "<style scoped>\n",
       "    .dataframe tbody tr th:only-of-type {\n",
       "        vertical-align: middle;\n",
       "    }\n",
       "\n",
       "    .dataframe tbody tr th {\n",
       "        vertical-align: top;\n",
       "    }\n",
       "\n",
       "    .dataframe thead th {\n",
       "        text-align: right;\n",
       "    }\n",
       "</style>\n",
       "<table border=\"1\" class=\"dataframe\">\n",
       "  <thead>\n",
       "    <tr style=\"text-align: right;\">\n",
       "      <th></th>\n",
       "      <th>0</th>\n",
       "      <th>1</th>\n",
       "      <th>2</th>\n",
       "      <th>3</th>\n",
       "      <th>4</th>\n",
       "      <th>5</th>\n",
       "    </tr>\n",
       "  </thead>\n",
       "  <tbody>\n",
       "    <tr>\n",
       "      <th>0</th>\n",
       "      <td>70294</td>\n",
       "      <td>395660</td>\n",
       "      <td>화이트 스니커즈_SFWOZ25NSW</td>\n",
       "      <td>STCO</td>\n",
       "      <td>79000</td>\n",
       "      <td>http://img.mapssi.com/newItem/STCO/%ED%99%94%E...</td>\n",
       "    </tr>\n",
       "    <tr>\n",
       "      <th>1</th>\n",
       "      <td>71922</td>\n",
       "      <td>395660</td>\n",
       "      <td>SKYLARK (BLACK)</td>\n",
       "      <td>TATASOCKS</td>\n",
       "      <td>7000</td>\n",
       "      <td>http://img.mapssi.com/newItem/TATASOCKS/SKYLAR...</td>\n",
       "    </tr>\n",
       "    <tr>\n",
       "      <th>2</th>\n",
       "      <td>72020</td>\n",
       "      <td>395660</td>\n",
       "      <td>밴웍스 데미지 워싱 연청진 (VNAGDP401)</td>\n",
       "      <td>vannworks</td>\n",
       "      <td>59000</td>\n",
       "      <td>http://img.mapssi.com/newItem/vannworks/%EB%B0...</td>\n",
       "    </tr>\n",
       "    <tr>\n",
       "      <th>3</th>\n",
       "      <td>73738</td>\n",
       "      <td>395660</td>\n",
       "      <td>드로 스트라이프 셔츠 [WHITE]</td>\n",
       "      <td>WHAT9</td>\n",
       "      <td>39000</td>\n",
       "      <td>http://img.mapssi.com/newItem/WHAT9/%EB%93%9C%...</td>\n",
       "    </tr>\n",
       "    <tr>\n",
       "      <th>4</th>\n",
       "      <td>81827</td>\n",
       "      <td>395660</td>\n",
       "      <td>아이보리 프레피 스타일 브이넥 베스트</td>\n",
       "      <td>STCO</td>\n",
       "      <td>24900</td>\n",
       "      <td>http://img.mapssi.com/newItem/STCO/%EC%95%84%E...</td>\n",
       "    </tr>\n",
       "  </tbody>\n",
       "</table>\n",
       "</div>"
      ],
      "text/plain": [
       "       0       1                           2          3      4  \\\n",
       "0  70294  395660         화이트 스니커즈_SFWOZ25NSW       STCO  79000   \n",
       "1  71922  395660             SKYLARK (BLACK)  TATASOCKS   7000   \n",
       "2  72020  395660  밴웍스 데미지 워싱 연청진 (VNAGDP401)  vannworks  59000   \n",
       "3  73738  395660         드로 스트라이프 셔츠 [WHITE]      WHAT9  39000   \n",
       "4  81827  395660        아이보리 프레피 스타일 브이넥 베스트       STCO  24900   \n",
       "\n",
       "                                                   5  \n",
       "0  http://img.mapssi.com/newItem/STCO/%ED%99%94%E...  \n",
       "1  http://img.mapssi.com/newItem/TATASOCKS/SKYLAR...  \n",
       "2  http://img.mapssi.com/newItem/vannworks/%EB%B0...  \n",
       "3  http://img.mapssi.com/newItem/WHAT9/%EB%93%9C%...  \n",
       "4  http://img.mapssi.com/newItem/STCO/%EC%95%84%E...  "
      ]
     },
     "execution_count": 111,
     "metadata": {},
     "output_type": "execute_result"
    }
   ],
   "source": [
    "def get_detail(url):\n",
    "    driver = webdriver.PhantomJS()\n",
    "    driver.get(url)\n",
    "    \n",
    "    lis = driver.find_elements_by_css_selector('#codi_item_li li')\n",
    "    \n",
    "    rows = []\n",
    "    try:\n",
    "        for li in lis:\n",
    "            item = li.find_element_by_css_selector('a').get_attribute('onclick')\n",
    "            item = item.replace('javascript:goItem(', '')\n",
    "            item = item.replace(')', '')\n",
    "            iteminfo = item.split(',')\n",
    "            itemno = iteminfo[0].strip()\n",
    "            codino = iteminfo[1].strip()\n",
    "            \n",
    "            img = li.find_element_by_css_selector('span.img img:nth-child(2)').get_attribute('src')\n",
    "            name = li.find_element_by_css_selector('.tit a').text\n",
    "            brand = li.find_element_by_css_selector('p.brand').text\n",
    "            price = li.find_element_by_css_selector('p.price').text\n",
    "            price = price.replace('원', '')\n",
    "            price = price.replace(',', '')\n",
    "            \n",
    "            \n",
    "            rows.append([itemno, codino, name, brand, price, img])\n",
    "        \n",
    "    except Exception as e:\n",
    "        print(e)\n",
    "        pass\n",
    "    \n",
    "    driver.quit()\n",
    "    \n",
    "    return pd.DataFrame(rows)\n",
    "\n",
    "get_detail('http://www.mapssi.com/mapssi_web/codi_detail.php?codiNo=395660')"
   ]
  },
  {
   "cell_type": "code",
   "execution_count": null,
   "metadata": {},
   "outputs": [],
   "source": []
  },
  {
   "cell_type": "code",
   "execution_count": 3,
   "metadata": {},
   "outputs": [],
   "source": [
    "import cv2\n",
    "from sklearn.cluster import KMeans"
   ]
  },
  {
   "cell_type": "code",
   "execution_count": 21,
   "metadata": {},
   "outputs": [],
   "source": [
    "def centroid_histogram(clt):\n",
    "    # grab the number of different clusters and create a histogram\n",
    "    # based on the number of pixels assigned to each cluster\n",
    "    numLabels = np.arange(0, len(np.unique(clt.labels_)) + 1)\n",
    "    (hist, _) = np.histogram(clt.labels_, bins=numLabels)\n",
    "\n",
    "    # normalize the histogram, such that it sums to one\n",
    "    hist = hist.astype(\"float\")\n",
    "    hist /= hist.sum()\n",
    "\n",
    "    # return the histogram\n",
    "    return hist\n",
    "\n",
    "def plot_colors(hist, centroids):\n",
    "    # initialize the bar chart representing the relative frequency\n",
    "    # of each of the colors\n",
    "    bar = np.zeros((50, 300, 3), dtype=\"uint8\")\n",
    "    startX = 0\n",
    "\n",
    "    # loop over the percentage of each cluster and the color of\n",
    "    # each cluster\n",
    "    for (percent, color) in zip(hist, centroids):\n",
    "        # plot the relative percentage of each cluster\n",
    "        endX = startX + (percent * 300)\n",
    "        cv2.rectangle(bar, (int(startX), 0), (int(endX), 50),\n",
    "                      color.astype(\"uint8\").tolist(), -1)\n",
    "        startX = endX\n",
    "\n",
    "    # return the bar chart\n",
    "    return bar"
   ]
  },
  {
   "cell_type": "code",
   "execution_count": 22,
   "metadata": {},
   "outputs": [],
   "source": [
    "def image_color_cluster(image_path, k = 5):\n",
    "    image = cv2.imread(image_path)\n",
    "    image = cv2.cvtColor(image, cv2.COLOR_BGR2RGB)\n",
    "    image = image.reshape((image.shape[0] * image.shape[1], 3))\n",
    "    \n",
    "    clt = KMeans(n_clusters = k)\n",
    "    clt.fit(image)\n",
    "\n",
    "    hist = centroid_histogram(clt)\n",
    "    bar = plot_colors(hist, clt.cluster_centers_)\n",
    "    \n",
    "    plt.figure()\n",
    "    plt.axis(\"off\")\n",
    "    plt.imshow(bar)\n",
    "    plt.show()"
   ]
  },
  {
   "cell_type": "code",
   "execution_count": 27,
   "metadata": {},
   "outputs": [
    {
     "data": {
      "text/plain": [
       "<matplotlib.image.AxesImage at 0x105625320>"
      ]
     },
     "execution_count": 27,
     "metadata": {},
     "output_type": "execute_result"
    },
    {
     "data": {
      "image/png": "[encoded data removed]",
      "text/plain": [
       "<Figure size 432x288 with 1 Axes>"
      ]
     },
     "metadata": {},
     "output_type": "display_data"
    }
   ],
   "source": [
    "image_path = \"1.jpeg\"\n",
    "\n",
    "#preview image\n",
    "image = cv2.imread(image_path) \n",
    "image = cv2.cvtColor(image, cv2.COLOR_BGR2RGB)\n",
    "plt.imshow(image)\n",
    "\n",
    "image = image.reshape((image.shape[0] * image.shape[1], 3)) # height, width 통합\n",
    "\n",
    "image_color_cluster(image_path)\n"
   ]
  },
  {
   "cell_type": "code",
   "execution_count": 6,
   "metadata": {},
   "outputs": [
    {
     "data": {
      "text/plain": [
       "numpy.ndarray"
      ]
     },
     "execution_count": 6,
     "metadata": {},
     "output_type": "execute_result"
    }
   ],
   "source": [
    "image_path = \"1.jpeg\"\n",
    "\n",
    "#preview image\n",
    "image = cv2.imread(image_path) \n",
    "image = cv2.cvtColor(image, cv2.COLOR_BGR2RGB)\n",
    "\n",
    "type(image)"
   ]
  },
  {
   "cell_type": "code",
   "execution_count": 24,
   "metadata": {
    "scrolled": true
   },
   "outputs": [
    {
     "data": {
      "text/plain": [
       "<matplotlib.image.AxesImage at 0x114219d68>"
      ]
     },
     "execution_count": 24,
     "metadata": {},
     "output_type": "execute_result"
    },
    {
     "data": {
      "image/png": "[encoded data removed]",
      "text/plain": [
       "<Figure size 432x288 with 1 Axes>"
      ]
     },
     "metadata": {},
     "output_type": "display_data"
    }
   ],
   "source": [
    "# to aid the thresholding step\n",
    "im = cv2.imread('1.jpeg') \n",
    "imgray = cv2.cvtColor(im,cv2.COLOR_BGR2GRAY)\n",
    "imgray = cv2.Canny(imgray, 100, 200, 3)\n",
    "\n",
    "ret,thresh = cv2.threshold(imgray,200,255,cv2.THRESH_BINARY_INV)\n",
    "\n",
    "im2, contours, hierarchy = cv2.findContours(thresh,cv2.RETR_TREE,cv2.CHAIN_APPROX_SIMPLE)\n",
    "cv2.drawContours(imgray, contours, 1, (0,255,0))\n",
    "\n",
    "plt.imshow( imgray)"
   ]
  },
  {
   "cell_type": "code",
   "execution_count": null,
   "metadata": {},
   "outputs": [],
   "source": []
  }
 ],
 "metadata": {
  "kernelspec": {
   "display_name": "Python 3",
   "language": "python",
   "name": "python3"
  },
  "language_info": {
   "codemirror_mode": {
    "name": "ipython",
    "version": 3
   },
   "file_extension": ".py",
   "mimetype": "text/x-python",
   "name": "python",
   "nbconvert_exporter": "python",
   "pygments_lexer": "ipython3",
   "version": "3.6.3"
  }
 },
 "nbformat": 4,
 "nbformat_minor": 2
}
