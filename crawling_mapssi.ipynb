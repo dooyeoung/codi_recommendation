{
 "cells": [
  {
   "cell_type": "code",
   "execution_count": 43,
   "metadata": {},
   "outputs": [],
   "source": [
    "from selenium import webdriver\n",
    "from time import sleep\n",
    "import threading"
   ]
  },
  {
   "cell_type": "markdown",
   "metadata": {},
   "source": [
    "sudo pip3 install opencv-python"
   ]
  },
  {
   "cell_type": "code",
   "execution_count": 27,
   "metadata": {},
   "outputs": [],
   "source": [
    "%matplotlib inline"
   ]
  },
  {
   "cell_type": "code",
   "execution_count": null,
   "metadata": {},
   "outputs": [],
   "source": []
  },
  {
   "cell_type": "code",
   "execution_count": 84,
   "metadata": {
    "scrolled": true
   },
   "outputs": [],
   "source": [
    "def get_codi(page, driver): \n",
    "    driver.get(\"http://www.mapssi.com/mapssi_web/codi.php\")\n",
    "\n",
    "    driver.execute_script('goPage({})'.format(page))\n",
    "    sleep(0.5)\n",
    "\n",
    "    lis = driver.find_elements_by_css_selector('.favorite_sub li') \n",
    "    \n",
    "    idx = 0\n",
    "    rows = []\n",
    "    while(True):\n",
    "        try:\n",
    "            li = lis[idx]\n",
    "            #link = article.find_element_by_css_selector('dt:not(.photo) > a').text\n",
    "            link = li.find_element_by_css_selector('a').get_attribute(\"href\")\n",
    "            codino = li.find_element_by_css_selector('a').get_attribute('onclick')\n",
    "            codino = codino.replace('javascript:goCodi(','').replace(')','').strip()\n",
    "            \n",
    "            tag = li.find_element_by_css_selector('a').text\n",
    "            img = li.find_element_by_css_selector('a div.mc img:nth-child(2)').get_attribute('src')\n",
    "            \n",
    "\n",
    "            rank = (page-1) * 9 + idx + 1 \n",
    "            rows.append([rank, codino, img, link, tag])\n",
    "         \n",
    "            # 종료\n",
    "            idx = idx + 1\n",
    "            if idx == len(lis):\n",
    "                break\n",
    "        except Exception as e:\n",
    "            # 실패시 처음부터 다시 분석\n",
    "            del rows[:]\n",
    "            rows = [] \n",
    "            sleep(1) \n",
    "            \n",
    "            lis = driver.find_elements_by_css_selector('.favorite_sub li')\n",
    "            idx = 0 \n",
    "            \n",
    "            pass \n",
    "    return rows\n",
    "    \n",
    "\n",
    "def get_page(start, end):\n",
    "    \n",
    "    driver =  webdriver.PhantomJS()\n",
    "    for page in range(start, end):\n",
    "        codi_data = get_codi(page, driver)\n",
    "        codi_all.extend(codi_data)\n",
    "        \n",
    "    driver.close() \n"
   ]
  },
  {
   "cell_type": "code",
   "execution_count": 329,
   "metadata": {},
   "outputs": [
    {
     "name": "stdout",
     "output_type": "stream",
     "text": [
      "No matching processes belonging to you were found\r\n"
     ]
    }
   ],
   "source": [
    "!killall phantomjs"
   ]
  },
  {
   "cell_type": "code",
   "execution_count": 705,
   "metadata": {},
   "outputs": [
    {
     "data": {
      "text/plain": [
       "1485"
      ]
     },
     "execution_count": 705,
     "metadata": {},
     "output_type": "execute_result"
    }
   ],
   "source": [
    "# 맵시 페이지 현재 165개의 페이지에 9개 아이템이 있다.\n",
    "# 이를 스레드 16개를 이용하여 크롤링을 진행한다\n",
    "# 총 코디 개수\n",
    "9 * 11 * 15"
   ]
  },
  {
   "cell_type": "code",
   "execution_count": 330,
   "metadata": {},
   "outputs": [],
   "source": [
    "codi_all = []\n",
    "for cnt in range(1, 16): \n",
    "    start = 11 * (cnt-1)+1\n",
    "    end = 11 * cnt+1\n",
    "    th = threading.Thread(target=get_page, args=(start, end))\n",
    "    th.start()"
   ]
  },
  {
   "cell_type": "code",
   "execution_count": null,
   "metadata": {
    "scrolled": true
   },
   "outputs": [],
   "source": [
    "# 30초마다 개수 확인하여 크롤링 상황 체크\n",
    "while True:\n",
    "    tmp = len(codi_all)\n",
    "    print(tmp)\n",
    "    if 1485 == tmp:\n",
    "        break\n",
    "    sleep(30)"
   ]
  },
  {
   "cell_type": "code",
   "execution_count": 344,
   "metadata": {},
   "outputs": [],
   "source": [
    "df = pd.DataFrame(codi_all, columns=['rank','id_codi','img','link','tag'])"
   ]
  },
  {
   "cell_type": "code",
   "execution_count": 346,
   "metadata": {},
   "outputs": [],
   "source": [
    "df.to_csv('codi.csv', index=False)"
   ]
  },
  {
   "cell_type": "code",
   "execution_count": 709,
   "metadata": {
    "scrolled": true
   },
   "outputs": [
    {
     "data": {
      "text/plain": [
       "(1485, 1116)"
      ]
     },
     "execution_count": 709,
     "metadata": {},
     "output_type": "execute_result"
    }
   ],
   "source": [
    "# 중복 되는 코디 확인\n",
    "len(df), len(set(df['id_codi']))"
   ]
  },
  {
   "cell_type": "code",
   "execution_count": null,
   "metadata": {},
   "outputs": [],
   "source": []
  },
  {
   "cell_type": "code",
   "execution_count": null,
   "metadata": {},
   "outputs": [],
   "source": []
  },
  {
   "cell_type": "code",
   "execution_count": 644,
   "metadata": {},
   "outputs": [],
   "source": [
    "def get_detail(codino, driver): \n",
    "    \n",
    "    # 상세페이지 크롤링 시작\n",
    "    # 코디넘버를 받아 클로링\n",
    "    \n",
    "    url = 'http://www.mapssi.com/mapssi_web/codi_detail.php?codiNo={}'.format(codino)\n",
    "    driver.get(url)\n",
    "    \n",
    "    # 에러를 최소화 하기위해 인터블을 둔다.\n",
    "    sleep(1)\n",
    "    \n",
    "    lis = driver.find_elements_by_css_selector('#codi_item_li li')\n",
    "    \n",
    "    rows = []\n",
    "    try:\n",
    "        for li in lis:\n",
    "            item = li.find_element_by_css_selector('a').get_attribute('onclick')\n",
    "            item = item.replace('javascript:goItem(', '')\n",
    "            item = item.replace(')', '')\n",
    "            iteminfo = item.split(',')\n",
    "            itemno = iteminfo[0].strip()\n",
    "            codino = iteminfo[1].strip()\n",
    "            \n",
    "            img = li.find_element_by_css_selector('span.img img:nth-child(2)').get_attribute('src')\n",
    "            name = li.find_element_by_css_selector('.tit a').text\n",
    "            brand = li.find_element_by_css_selector('p.brand').text\n",
    "            price = li.find_element_by_css_selector('p.price').text\n",
    "            price = price.replace('원', '')\n",
    "            price = price.replace(',', '')\n",
    "            \n",
    "     \n",
    "            rows.append([itemno, codino, name, brand, price, img])\n",
    "        \n",
    "    except Exception as e:\n",
    "        print(codino, e)\n",
    "        pass\n",
    "     \n",
    "    return rows\n",
    "\n",
    " \n",
    "def get_detail_page(ids): \n",
    "    driver =  webdriver.PhantomJS() \n",
    "    for coid in ids:\n",
    "        #print(coid)\n",
    "        codi_data = get_detail(coid, driver)\n",
    "        codi_all.extend(codi_data) \n",
    "        \n",
    "    driver.close() "
   ]
  },
  {
   "cell_type": "code",
   "execution_count": 711,
   "metadata": {},
   "outputs": [
    {
     "data": {
      "text/plain": [
       "186.0"
      ]
     },
     "execution_count": 711,
     "metadata": {},
     "output_type": "execute_result"
    }
   ],
   "source": [
    "# 확인해야 할 codi 1116개, 상세페이지 크롤링\n",
    "# 스레드 6개를 이용하여 크롤링\n",
    "1116 / 6"
   ]
  },
  {
   "cell_type": "code",
   "execution_count": 638,
   "metadata": {},
   "outputs": [],
   "source": [
    "# 크롤링 할 고유 코디 넘버\n",
    "unique_codino = list(set(df['id_codi'].values))"
   ]
  },
  {
   "cell_type": "code",
   "execution_count": 701,
   "metadata": {},
   "outputs": [],
   "source": [
    "!killall phantomjs"
   ]
  },
  {
   "cell_type": "code",
   "execution_count": 646,
   "metadata": {
    "scrolled": true
   },
   "outputs": [],
   "source": [
    "codi_all = []\n",
    "for cnt in range(1, 7): \n",
    "    start = 186 * (cnt-1)\n",
    "    end = 186 * cnt\n",
    "    ids = unique_codino[start : end]\n",
    "    \n",
    "    #print(start, end-1)\n",
    "    #print(coid[0], coid[-1])\n",
    "    #print('==') \n",
    "    #get_detail_page(ids)\n",
    "    th = threading.Thread(target=get_detail_page, args=(ids,))\n",
    "    th.start()"
   ]
  },
  {
   "cell_type": "code",
   "execution_count": 688,
   "metadata": {
    "scrolled": false
   },
   "outputs": [
    {
     "data": {
      "text/plain": [
       "367"
      ]
     },
     "execution_count": 688,
     "metadata": {},
     "output_type": "execute_result"
    }
   ],
   "source": [
    "len(codi_all)"
   ]
  },
  {
   "cell_type": "code",
   "execution_count": 689,
   "metadata": {
    "scrolled": true
   },
   "outputs": [
    {
     "data": {
      "text/plain": [
       "64"
      ]
     },
     "execution_count": 689,
     "metadata": {},
     "output_type": "execute_result"
    }
   ],
   "source": [
    "len(set(pd.DataFrame(codi_all)[1]))"
   ]
  },
  {
   "cell_type": "code",
   "execution_count": null,
   "metadata": {},
   "outputs": [],
   "source": []
  },
  {
   "cell_type": "code",
   "execution_count": 690,
   "metadata": {},
   "outputs": [],
   "source": [
    "# 1차 크롤링 완료\n",
    "cdata = pd.DataFrame(codi_all, columns=['id_item','id_codi','name','brand','price','img'])\n",
    "cdata.to_csv('items_1.csv', index=False)"
   ]
  },
  {
   "cell_type": "code",
   "execution_count": 686,
   "metadata": {},
   "outputs": [],
   "source": [
    "# 1차 크롤링에서 누락된 코디넘버 체크하여 다시 크롤링 \n",
    "ctid = list(set(cdata[1]))\n",
    "ucid = list(set(df['id_codi']))\n",
    "errors = []\n",
    "for uci in ucid:\n",
    "    if uci not in ctid:\n",
    "        errors.append(uci)\n",
    "        \n",
    "codi_all = []\n",
    "get_detail_page(errors)"
   ]
  },
  {
   "cell_type": "code",
   "execution_count": null,
   "metadata": {},
   "outputs": [],
   "source": [
    "cdata = pd.DataFrame(codi_all, columns=['id_item','id_codi','name','brand','price','img'])\n",
    "cdata.to_csv('items_2.csv', index=False)"
   ]
  },
  {
   "cell_type": "code",
   "execution_count": null,
   "metadata": {},
   "outputs": [],
   "source": []
  },
  {
   "cell_type": "code",
   "execution_count": 693,
   "metadata": {},
   "outputs": [],
   "source": [
    "# 1차 2차 크롤링 데이터 합치기\n",
    "item1 = pd.read_csv('items_1.csv')\n",
    "item2 = pd.read_csv('items_2.csv')\n",
    "itemsdf = pd.concat([item1, item2])\n",
    "itemsdf.to_csv('items.csv', index=False)"
   ]
  },
  {
   "cell_type": "code",
   "execution_count": null,
   "metadata": {},
   "outputs": [],
   "source": []
  },
  {
   "cell_type": "code",
   "execution_count": null,
   "metadata": {},
   "outputs": [],
   "source": []
  },
  {
   "cell_type": "code",
   "execution_count": null,
   "metadata": {},
   "outputs": [],
   "source": []
  },
  {
   "cell_type": "code",
   "execution_count": null,
   "metadata": {},
   "outputs": [],
   "source": []
  }
 ],
 "metadata": {
  "kernelspec": {
   "display_name": "Python 3",
   "language": "python",
   "name": "python3"
  },
  "language_info": {
   "codemirror_mode": {
    "name": "ipython",
    "version": 3
   },
   "file_extension": ".py",
   "mimetype": "text/x-python",
   "name": "python",
   "nbconvert_exporter": "python",
   "pygments_lexer": "ipython3",
   "version": "3.6.5"
  }
 },
 "nbformat": 4,
 "nbformat_minor": 2
}
