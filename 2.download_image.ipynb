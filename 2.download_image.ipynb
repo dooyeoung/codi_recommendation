{
 "cells": [
  {
   "cell_type": "code",
   "execution_count": 1,
   "metadata": {},
   "outputs": [],
   "source": [
    "codis = pd.read_csv('data/codi.csv')\n",
    "items = pd.read_csv('data/items.csv')"
   ]
  },
  {
   "cell_type": "code",
   "execution_count": 4,
   "metadata": {
    "scrolled": true
   },
   "outputs": [
    {
     "data": {
      "text/plain": [
       "array(['http://img.mapssi.com/codi/vys6426@naver_com1521887849005.jpg',\n",
       "       'http://img.mapssi.com/codi/qkralswjd3o3@gmail_com1522039852555.jpg',\n",
       "       'http://img.mapssi.com/codi/15343074235665181523087235588.jpg',\n",
       "       ..., 'http://img.mapssi.com/codi/6139543422740291522853919850.jpg',\n",
       "       'http://img.mapssi.com/codi/yjh6782@naver_com1523379408897.jpg',\n",
       "       'http://img.mapssi.com/codi/gyrfyu@naver_com1523728518099.jpg'],\n",
       "      dtype=object)"
      ]
     },
     "execution_count": 4,
     "metadata": {},
     "output_type": "execute_result"
    }
   ],
   "source": [
    "codis['img'].values"
   ]
  },
  {
   "cell_type": "code",
   "execution_count": 7,
   "metadata": {},
   "outputs": [
    {
     "data": {
      "text/plain": [
       "array(['http://img.mapssi.com/newItem/AMONmovement/1677PotterWhite/20161118010949websvv.jpg',\n",
       "       'http://img.mapssi.com/newItem/WHAT9/%EC%85%80%EB%9F%AC%ED%8A%B8%EC%9C%84%EC%8A%A4%ED%8A%B8%EB%B0%B0%EC%83%89V%EB%84%A5%EB%8B%88%ED%8A%B8GRAY/20171109213656web5T6A8383.jpg',\n",
       "       'http://img.mapssi.com/newItem/LAYER%20UNION/WIDESTRIPELSLONGSHIRTSBLUE/20180321170159web.jpg',\n",
       "       ...,\n",
       "       'http://img.mapssi.com/newItem/smartshoe/%EB%82%98%EC%9D%B4%ED%82%A4%EB%A1%9C%EC%89%90%EB%9F%B0ROSHERUNMen511881023/20160815220233o6108.jpg',\n",
       "       'http://img.mapssi.com/newItem/AM.WE/%EC%B6%9C%EA%B3%A035%EC%9D%BCAMWENAVYSUEDESAFARI/20161128032010o6101.jpg',\n",
       "       'http://img.mapssi.com/newItem/STCO/%EA%B7%B8%EB%A0%88%EC%9D%B4%EC%9B%8C%EC%85%94%EB%B8%94%EC%8A%AC%EB%9E%99%EC%8A%A4%ED%8C%AC%EC%B8%A0DPAOB22CSG/20170404153201o6115.jpg'],\n",
       "      dtype=object)"
      ]
     },
     "execution_count": 7,
     "metadata": {},
     "output_type": "execute_result"
    }
   ],
   "source": [
    "items['img'].values"
   ]
  },
  {
   "cell_type": "code",
   "execution_count": 8,
   "metadata": {},
   "outputs": [
    {
     "name": "stdout",
     "output_type": "stream",
     "text": [
      "/Users/duyeoungryu/Documents/github/codi_recommendation\n"
     ]
    }
   ],
   "source": [
    "!pwd"
   ]
  },
  {
   "cell_type": "code",
   "execution_count": 29,
   "metadata": {},
   "outputs": [],
   "source": [
    "import os\n",
    "import sys\n",
    "import urllib \n",
    "import time"
   ]
  },
  {
   "cell_type": "code",
   "execution_count": 52,
   "metadata": {},
   "outputs": [],
   "source": [
    "## 이미지 다운로드\n",
    "def download_photo(img_url, filename, iscodi):\n",
    "\n",
    "    if iscodi:\n",
    "        file_path = \"%s%s\" % (\"/Users/duyeoungryu/Documents/github/codi_recommendation/img/codis/\", filename)\n",
    "    else:\n",
    "        file_path = \"%s%s\" % (\"/Users/duyeoungryu/Documents/github/codi_recommendation/img/items/\", filename)\n",
    "    \n",
    "    try:\n",
    "        urllib.request.urlretrieve(img_url, file_path)\n",
    "    except Exception as e:\n",
    "        print(img_url, filename)\n",
    "        print(e)\n",
    "        \n",
    "    return file_path\n",
    "\n",
    "# call\n",
    "#download_photo(\"http://img.mapssi.com/codi/vys6426@naver_com1521887849005.jpg\", \"test.jpg\")"
   ]
  },
  {
   "cell_type": "code",
   "execution_count": 28,
   "metadata": {},
   "outputs": [],
   "source": [
    "for idx in range(len(codis)):\n",
    "    row = codis.iloc[idx]\n",
    "    coid = row['id_codi']\n",
    "    img_url = row['img']\n",
    "    path = urllib.parse.urlparse(img_url).path\n",
    "    ext = os.path.splitext(path)[1]\n",
    "    \n",
    "    newname = '%s%s' % (coid , ext)\n",
    "    #print(coid,img_url, newname)\n",
    "    \n",
    "    download_photo(img_url, newname, True)"
   ]
  },
  {
   "cell_type": "code",
   "execution_count": 53,
   "metadata": {},
   "outputs": [
    {
     "name": "stdout",
     "output_type": "stream",
     "text": [
      "http://img.mapssi.com/newItem/FLAAC/Q88LOWTOPSNEAKERSNUDEPEACH/20170110151832webQ88%EB%88%84%EB%93%9C%ED%94%BC%EC%B9%98%EB%8C%80%EA%B0%81%EC%84%A0.jpg 66755.jpg\n",
      "HTTP Error 404: Not Found\n",
      "http://img.mapssi.com/newItem/FLAAC/Q88LOWTOPSNEAKERSBLACK/20170110151423webQ88%EB%B8%94%EB%9E%99%EB%8C%80%EA%B0%81%EC%84%A0.jpg 66754.jpg\n",
      "HTTP Error 404: Not Found\n",
      "http://img.mapssi.com/newItem/FLAAC/Q88LOWTOPSNEAKERSLIGHTGREY/20170110152117webQ88%EA%B7%B8%EB%A0%88%EC%9D%B4%EB%8C%80%EA%B0%81%EC%84%A0.jpg 66757.jpg\n",
      "HTTP Error 404: Not Found\n",
      "http://img.mapssi.com/newItem/FLAAC/AA202LOWTOPSNEAKERSIVORY/20170907160025web202IVORY%EB%8C%80%EA%B0%81%EC%84%A0.png 77071.png\n",
      "HTTP Error 404: Not Found\n",
      "http://img.mapssi.com/newItem/FLAAC/AA101VELCROSNEAKERSBLACK/20170907160204web%EB%B2%A8%ED%81%AC%EB%A1%9CBLACK%EB%8C%80%EA%B0%81%EC%84%A0.png 77072.png\n",
      "HTTP Error 404: Not Found\n",
      "http://img.mapssi.com/newItem/FLAAC/AA101VELCROSNEAKERSWHITE/20170907160320web%EB%B2%A8%ED%81%AC%EB%A1%9CWHITE%EB%8C%80%EA%B0%81%EC%84%A0.png 77073.png\n",
      "HTTP Error 404: Not Found\n"
     ]
    }
   ],
   "source": [
    "unique_id = list(set(items['id_item']))\n",
    "for idx in unique_id:\n",
    "    row = items[items['id_item'] == idx ].iloc[0]\n",
    "    coid = row['id_item']\n",
    "    img_url = row['img']\n",
    "    path = urllib.parse.urlparse(img_url).path\n",
    "    ext = os.path.splitext(path)[1]\n",
    "    \n",
    "    newname = '%s%s' % (coid , ext)\n",
    "    #print(coid,img_url, newname)\n",
    "    \n",
    "    download_photo(img_url, newname, False)"
   ]
  },
  {
   "cell_type": "code",
   "execution_count": 42,
   "metadata": {},
   "outputs": [],
   "source": []
  },
  {
   "cell_type": "code",
   "execution_count": 66,
   "metadata": {},
   "outputs": [
    {
     "data": {
      "text/plain": [
       "1116"
      ]
     },
     "execution_count": 66,
     "metadata": {},
     "output_type": "execute_result"
    }
   ],
   "source": [
    "len(codis.id_codi.unique())"
   ]
  },
  {
   "cell_type": "code",
   "execution_count": 61,
   "metadata": {},
   "outputs": [
    {
     "name": "stdout",
     "output_type": "stream",
     "text": [
      "    1116\n"
     ]
    }
   ],
   "source": [
    "!ls img/codis |wc -l"
   ]
  },
  {
   "cell_type": "code",
   "execution_count": 68,
   "metadata": {},
   "outputs": [
    {
     "data": {
      "text/plain": [
       "2306"
      ]
     },
     "execution_count": 68,
     "metadata": {},
     "output_type": "execute_result"
    }
   ],
   "source": [
    "len(items.id_item.unique())"
   ]
  },
  {
   "cell_type": "code",
   "execution_count": 62,
   "metadata": {
    "scrolled": true
   },
   "outputs": [
    {
     "name": "stdout",
     "output_type": "stream",
     "text": [
      "    2306\n"
     ]
    }
   ],
   "source": [
    "!ls img/items |wc -l"
   ]
  },
  {
   "cell_type": "code",
   "execution_count": null,
   "metadata": {},
   "outputs": [],
   "source": []
  }
 ],
 "metadata": {
  "kernelspec": {
   "display_name": "Python 3",
   "language": "python",
   "name": "python3"
  },
  "language_info": {
   "codemirror_mode": {
    "name": "ipython",
    "version": 3
   },
   "file_extension": ".py",
   "mimetype": "text/x-python",
   "name": "python",
   "nbconvert_exporter": "python",
   "pygments_lexer": "ipython3",
   "version": "3.6.5"
  }
 },
 "nbformat": 4,
 "nbformat_minor": 2
}
