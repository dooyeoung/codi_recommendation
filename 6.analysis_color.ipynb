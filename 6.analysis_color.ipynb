{
 "cells": [
  {
   "cell_type": "code",
   "execution_count": 19,
   "metadata": {},
   "outputs": [],
   "source": [
    "%matplotlib inline"
   ]
  },
  {
   "cell_type": "code",
   "execution_count": 20,
   "metadata": {},
   "outputs": [],
   "source": [
    "import pandas as pd\n",
    "from ipywidgets import widgets"
   ]
  },
  {
   "cell_type": "code",
   "execution_count": 28,
   "metadata": {},
   "outputs": [],
   "source": [
    "df_codis_info = pd.read_csv(\"data/codis_info.csv\")"
   ]
  },
  {
   "cell_type": "markdown",
   "metadata": {},
   "source": [
    "### RGB Color 확인(전체)"
   ]
  },
  {
   "cell_type": "code",
   "execution_count": 30,
   "metadata": {},
   "outputs": [],
   "source": [
    "ar_codis_RGB = df_codis_info.filter(regex=\"_[RGB]\").values"
   ]
  },
  {
   "cell_type": "code",
   "execution_count": 32,
   "metadata": {},
   "outputs": [
    {
     "data": {
      "text/plain": [
       "(3348, 3)"
      ]
     },
     "execution_count": 32,
     "metadata": {},
     "output_type": "execute_result"
    }
   ],
   "source": [
    "color_RGB = ar_codis_RGB.reshape(1116*3, 3) / 256\n",
    "color_RGB.shape"
   ]
  },
  {
   "cell_type": "code",
   "execution_count": 33,
   "metadata": {},
   "outputs": [],
   "source": [
    "def plot_color(azim):\n",
    "    fig = plt.figure(figsize = (10, 10))\n",
    "    ax = fig.add_subplot(111, projection='3d');\n",
    "    ax.scatter(color_RGB[:,0], color_RGB[:,1], color_RGB[:,2], c=color_RGB, s=20, cmap=plt.cm.jet, alpha=1)\n",
    "    ax.view_init(20, azim)"
   ]
  },
  {
   "cell_type": "code",
   "execution_count": 34,
   "metadata": {},
   "outputs": [
    {
     "data": {
      "application/vnd.jupyter.widget-view+json": {
       "model_id": "0277018845ab449783a6ee1570c97cf1",
       "version_major": 2,
       "version_minor": 0
      },
      "text/plain": [
       "interactive(children=(IntSlider(value=0, description='azim', max=180, step=10), Output()), _dom_classes=('widg…"
      ]
     },
     "metadata": {},
     "output_type": "display_data"
    }
   ],
   "source": [
    "widgets.interact(plot_color, azim=widgets.IntSlider(min=0,max=180,step=10,value=0));"
   ]
  },
  {
   "cell_type": "markdown",
   "metadata": {},
   "source": [
    "### HSV Color 확인(전체)"
   ]
  },
  {
   "cell_type": "code",
   "execution_count": 35,
   "metadata": {},
   "outputs": [],
   "source": [
    "ar_codis_HSV = df_codis_info.filter(regex=\"_[HSV]\").values.reshape(1116*3, 3)"
   ]
  },
  {
   "cell_type": "code",
   "execution_count": 36,
   "metadata": {},
   "outputs": [
    {
     "data": {
      "application/vnd.jupyter.widget-view+json": {
       "model_id": "9be4246820514ac0a6ae6f1e7a8b70ec",
       "version_major": 2,
       "version_minor": 0
      },
      "text/plain": [
       "interactive(children=(IntSlider(value=0, description='azim', max=180, step=10), Output()), _dom_classes=('widg…"
      ]
     },
     "metadata": {},
     "output_type": "display_data"
    }
   ],
   "source": [
    "def plot_color_HSV(azim):\n",
    "    fig = plt.figure(figsize = (10, 10))\n",
    "    ax = fig.add_subplot(111, projection='3d');\n",
    "    ax.scatter(ar_codis_HSV[:,0], ar_codis_HSV[:,1], ar_codis_HSV[:,2], c=color_RGB, s=20, cmap=plt.cm.jet, alpha=1)\n",
    "    ax.view_init(20, azim)\n",
    "widgets.interact(plot_color_HSV, azim=widgets.IntSlider(min=0,max=180,step=10,value=0));"
   ]
  },
  {
   "cell_type": "markdown",
   "metadata": {},
   "source": [
    "- 무채색 계통이 많이 검출된다."
   ]
  },
  {
   "cell_type": "markdown",
   "metadata": {},
   "source": [
    "### Main Color1 (RGB, HSV)"
   ]
  },
  {
   "cell_type": "code",
   "execution_count": 37,
   "metadata": {},
   "outputs": [],
   "source": [
    "ar_color1_RGB = df_codis_info.filter(regex=\"color1_[RGB]\").values /256"
   ]
  },
  {
   "cell_type": "code",
   "execution_count": 38,
   "metadata": {},
   "outputs": [
    {
     "data": {
      "application/vnd.jupyter.widget-view+json": {
       "model_id": "973ae26182c64e6bbd389e38802d5e9d",
       "version_major": 2,
       "version_minor": 0
      },
      "text/plain": [
       "interactive(children=(IntSlider(value=0, description='azim', max=180, step=10), Output()), _dom_classes=('widg…"
      ]
     },
     "metadata": {},
     "output_type": "display_data"
    }
   ],
   "source": [
    "def plot_color1(azim):\n",
    "    fig = plt.figure(figsize = (10, 10))\n",
    "    ax = fig.add_subplot(111, projection='3d');\n",
    "    ax.scatter(ar_color1_RGB[:,0], ar_color1_RGB[:,1], ar_color1_RGB[:,2], c=ar_color1_RGB, s=20, cmap=plt.cm.jet, alpha=1)\n",
    "    ax.view_init(20, azim)\n",
    "    \n",
    "widgets.interact(plot_color1, azim=widgets.IntSlider(min=0,max=180,step=10,value=0));"
   ]
  },
  {
   "cell_type": "code",
   "execution_count": 39,
   "metadata": {},
   "outputs": [],
   "source": [
    "ar_color1_HSV = df_codis_info.filter(regex=\"color1_[HSV]\").values"
   ]
  },
  {
   "cell_type": "code",
   "execution_count": 40,
   "metadata": {},
   "outputs": [
    {
     "data": {
      "application/vnd.jupyter.widget-view+json": {
       "model_id": "bb06d739b8544b2f9b248788f31d2d6a",
       "version_major": 2,
       "version_minor": 0
      },
      "text/plain": [
       "interactive(children=(IntSlider(value=0, description='azim', max=180, step=10), Output()), _dom_classes=('widg…"
      ]
     },
     "metadata": {},
     "output_type": "display_data"
    }
   ],
   "source": [
    "def plot_color1_HSV(azim):\n",
    "    fig = plt.figure(figsize = (10, 10))\n",
    "    ax = fig.add_subplot(111, projection='3d');\n",
    "    ax.scatter(ar_color1_HSV[:,0], ar_color1_HSV[:,1], ar_color1_HSV[:,2], c=ar_color1_RGB, s=20, cmap=plt.cm.jet, alpha=1)\n",
    "    ax.view_init(20, azim)\n",
    "    \n",
    "widgets.interact(plot_color1_HSV, azim=widgets.IntSlider(min=0,max=180,step=10,value=0));"
   ]
  },
  {
   "cell_type": "markdown",
   "metadata": {},
   "source": [
    "- 검정과 흰색에 집중되어 있다.\n",
    "- 중간이 거의 없다."
   ]
  },
  {
   "cell_type": "markdown",
   "metadata": {},
   "source": [
    "### Main Color2 (RGB, HSV)"
   ]
  },
  {
   "cell_type": "code",
   "execution_count": 41,
   "metadata": {},
   "outputs": [],
   "source": [
    "ar_color2_RGB = df_codis_info.filter(regex=\"color2_[RGB]\").values /256"
   ]
  },
  {
   "cell_type": "code",
   "execution_count": 42,
   "metadata": {},
   "outputs": [
    {
     "data": {
      "application/vnd.jupyter.widget-view+json": {
       "model_id": "09926a1aac2940ec95cd1960b326d04d",
       "version_major": 2,
       "version_minor": 0
      },
      "text/plain": [
       "interactive(children=(IntSlider(value=0, description='azim', max=180, step=10), Output()), _dom_classes=('widg…"
      ]
     },
     "metadata": {},
     "output_type": "display_data"
    }
   ],
   "source": [
    "def plot_color2(azim):\n",
    "    fig = plt.figure(figsize = (10, 10))\n",
    "    ax = fig.add_subplot(111, projection='3d');\n",
    "    ax.scatter(ar_color2_RGB[:,0], ar_color2_RGB[:,1], ar_color2_RGB[:,2], c=ar_color2_RGB, s=20, cmap=plt.cm.jet, alpha=1)\n",
    "    ax.view_init(20, azim)\n",
    "    \n",
    "widgets.interact(plot_color2, azim=widgets.IntSlider(min=0,max=180,step=10,value=0));"
   ]
  },
  {
   "cell_type": "code",
   "execution_count": 43,
   "metadata": {},
   "outputs": [],
   "source": [
    "ar_color2_HSV = df_codis_info.filter(regex=\"color2_[HSV]\").values"
   ]
  },
  {
   "cell_type": "code",
   "execution_count": 44,
   "metadata": {},
   "outputs": [
    {
     "data": {
      "application/vnd.jupyter.widget-view+json": {
       "model_id": "68bcd9c8b5a844a6b4958ed5bc6bf372",
       "version_major": 2,
       "version_minor": 0
      },
      "text/plain": [
       "interactive(children=(IntSlider(value=0, description='azim', max=180, step=10), Output()), _dom_classes=('widg…"
      ]
     },
     "metadata": {},
     "output_type": "display_data"
    }
   ],
   "source": [
    "def plot_color2_HSV(azim):\n",
    "    fig = plt.figure(figsize = (10, 10))\n",
    "    ax = fig.add_subplot(111, projection='3d');\n",
    "    ax.scatter(ar_color2_HSV[:,0], ar_color2_HSV[:,1], ar_color2_HSV[:,2], c=ar_color2_RGB, s=20, cmap=plt.cm.jet, alpha=1)\n",
    "    ax.view_init(20, azim)\n",
    "    \n",
    "widgets.interact(plot_color2_HSV, azim=widgets.IntSlider(min=0,max=180,step=10,value=0));"
   ]
  },
  {
   "cell_type": "markdown",
   "metadata": {},
   "source": [
    "### Main Color3 (RGB, HSV)"
   ]
  },
  {
   "cell_type": "code",
   "execution_count": 45,
   "metadata": {},
   "outputs": [],
   "source": [
    "ar_color3_RGB = df_codis_info.filter(regex=\"color3_[RGB]\").values /256"
   ]
  },
  {
   "cell_type": "code",
   "execution_count": 46,
   "metadata": {},
   "outputs": [
    {
     "data": {
      "application/vnd.jupyter.widget-view+json": {
       "model_id": "24e90d37f283457d877f654959fedd7b",
       "version_major": 2,
       "version_minor": 0
      },
      "text/plain": [
       "interactive(children=(IntSlider(value=0, description='azim', max=180, step=10), Output()), _dom_classes=('widg…"
      ]
     },
     "metadata": {},
     "output_type": "display_data"
    }
   ],
   "source": [
    "def plot_color3(azim):\n",
    "    fig = plt.figure(figsize = (10, 10))\n",
    "    ax = fig.add_subplot(111, projection='3d');\n",
    "    ax.scatter(ar_color2_RGB[:,0], ar_color3_RGB[:,1], ar_color3_RGB[:,2], c=ar_color3_RGB, s=20, cmap=plt.cm.jet, alpha=1)\n",
    "    ax.view_init(20, azim)\n",
    "    \n",
    "widgets.interact(plot_color3, azim=widgets.IntSlider(min=0,max=180,step=10,value=0));"
   ]
  },
  {
   "cell_type": "code",
   "execution_count": 47,
   "metadata": {},
   "outputs": [],
   "source": [
    "ar_color3_HSV = df_codis_info.filter(regex=\"color3_[HSV]\").values"
   ]
  },
  {
   "cell_type": "code",
   "execution_count": 48,
   "metadata": {},
   "outputs": [
    {
     "data": {
      "application/vnd.jupyter.widget-view+json": {
       "model_id": "36aee3c25e3b421aacb39f92da373c24",
       "version_major": 2,
       "version_minor": 0
      },
      "text/plain": [
       "interactive(children=(IntSlider(value=0, description='azim', max=180, step=10), Output()), _dom_classes=('widg…"
      ]
     },
     "metadata": {},
     "output_type": "display_data"
    }
   ],
   "source": [
    "def plot_color3_HSV(azim):\n",
    "    fig = plt.figure(figsize = (10, 10))\n",
    "    ax = fig.add_subplot(111, projection='3d');\n",
    "    ax.scatter(ar_color3_HSV[:,0], ar_color3_HSV[:,1], ar_color3_HSV[:,2], c=ar_color3_RGB, s=20, cmap=plt.cm.jet, alpha=1)\n",
    "    ax.view_init(20, azim)\n",
    "    \n",
    "widgets.interact(plot_color3_HSV, azim=widgets.IntSlider(min=0,max=180,step=10,value=0));"
   ]
  },
  {
   "cell_type": "code",
   "execution_count": 49,
   "metadata": {},
   "outputs": [
    {
     "data": {
      "text/html": [
       "<div>\n",
       "<style scoped>\n",
       "    .dataframe tbody tr th:only-of-type {\n",
       "        vertical-align: middle;\n",
       "    }\n",
       "\n",
       "    .dataframe tbody tr th {\n",
       "        vertical-align: top;\n",
       "    }\n",
       "\n",
       "    .dataframe thead th {\n",
       "        text-align: right;\n",
       "    }\n",
       "</style>\n",
       "<table border=\"1\" class=\"dataframe\">\n",
       "  <thead>\n",
       "    <tr style=\"text-align: right;\">\n",
       "      <th></th>\n",
       "      <th>name</th>\n",
       "      <th>color1_ratio</th>\n",
       "      <th>color1_R</th>\n",
       "      <th>color1_G</th>\n",
       "      <th>color1_B</th>\n",
       "      <th>color1_H</th>\n",
       "      <th>color1_S</th>\n",
       "      <th>color1_V</th>\n",
       "      <th>color2_ratio</th>\n",
       "      <th>color2_R</th>\n",
       "      <th>...</th>\n",
       "      <th>color2_H</th>\n",
       "      <th>color2_S</th>\n",
       "      <th>color2_V</th>\n",
       "      <th>color3_ratio</th>\n",
       "      <th>color3_R</th>\n",
       "      <th>color3_G</th>\n",
       "      <th>color3_B</th>\n",
       "      <th>color3_H</th>\n",
       "      <th>color3_S</th>\n",
       "      <th>color3_V</th>\n",
       "    </tr>\n",
       "  </thead>\n",
       "  <tbody>\n",
       "    <tr>\n",
       "      <th>1111</th>\n",
       "      <td>397005</td>\n",
       "      <td>0.415858</td>\n",
       "      <td>234.213846</td>\n",
       "      <td>233.892050</td>\n",
       "      <td>238.172338</td>\n",
       "      <td>244.510845</td>\n",
       "      <td>0.017971</td>\n",
       "      <td>0.934009</td>\n",
       "      <td>0.407014</td>\n",
       "      <td>21.058427</td>\n",
       "      <td>...</td>\n",
       "      <td>216.540814</td>\n",
       "      <td>0.269405</td>\n",
       "      <td>0.113034</td>\n",
       "      <td>0.177127</td>\n",
       "      <td>62.290834</td>\n",
       "      <td>79.417643</td>\n",
       "      <td>111.590283</td>\n",
       "      <td>219.155780</td>\n",
       "      <td>0.441790</td>\n",
       "      <td>0.437609</td>\n",
       "    </tr>\n",
       "    <tr>\n",
       "      <th>1112</th>\n",
       "      <td>397006</td>\n",
       "      <td>0.630130</td>\n",
       "      <td>23.776704</td>\n",
       "      <td>24.251325</td>\n",
       "      <td>24.764449</td>\n",
       "      <td>211.169437</td>\n",
       "      <td>0.039886</td>\n",
       "      <td>0.097115</td>\n",
       "      <td>0.344787</td>\n",
       "      <td>242.043845</td>\n",
       "      <td>...</td>\n",
       "      <td>249.206963</td>\n",
       "      <td>0.018193</td>\n",
       "      <td>0.964039</td>\n",
       "      <td>0.025083</td>\n",
       "      <td>126.014286</td>\n",
       "      <td>125.660204</td>\n",
       "      <td>126.563265</td>\n",
       "      <td>263.525424</td>\n",
       "      <td>0.007135</td>\n",
       "      <td>0.496327</td>\n",
       "    </tr>\n",
       "    <tr>\n",
       "      <th>1113</th>\n",
       "      <td>397007</td>\n",
       "      <td>0.633811</td>\n",
       "      <td>27.652522</td>\n",
       "      <td>26.315003</td>\n",
       "      <td>27.071733</td>\n",
       "      <td>326.053739</td>\n",
       "      <td>0.048369</td>\n",
       "      <td>0.108441</td>\n",
       "      <td>0.239491</td>\n",
       "      <td>75.159030</td>\n",
       "      <td>...</td>\n",
       "      <td>219.129184</td>\n",
       "      <td>0.420556</td>\n",
       "      <td>0.508662</td>\n",
       "      <td>0.126698</td>\n",
       "      <td>206.247471</td>\n",
       "      <td>210.980130</td>\n",
       "      <td>216.346821</td>\n",
       "      <td>211.883384</td>\n",
       "      <td>0.046681</td>\n",
       "      <td>0.848419</td>\n",
       "    </tr>\n",
       "    <tr>\n",
       "      <th>1114</th>\n",
       "      <td>397008</td>\n",
       "      <td>0.635646</td>\n",
       "      <td>33.647317</td>\n",
       "      <td>34.603687</td>\n",
       "      <td>35.937386</td>\n",
       "      <td>214.943005</td>\n",
       "      <td>0.063724</td>\n",
       "      <td>0.140931</td>\n",
       "      <td>0.295892</td>\n",
       "      <td>198.603922</td>\n",
       "      <td>...</td>\n",
       "      <td>358.061831</td>\n",
       "      <td>0.962808</td>\n",
       "      <td>0.778839</td>\n",
       "      <td>0.068461</td>\n",
       "      <td>233.768644</td>\n",
       "      <td>231.126271</td>\n",
       "      <td>231.515254</td>\n",
       "      <td>351.167415</td>\n",
       "      <td>0.011303</td>\n",
       "      <td>0.916740</td>\n",
       "    </tr>\n",
       "    <tr>\n",
       "      <th>1115</th>\n",
       "      <td>397009</td>\n",
       "      <td>0.873307</td>\n",
       "      <td>28.293539</td>\n",
       "      <td>29.345128</td>\n",
       "      <td>33.002562</td>\n",
       "      <td>226.601179</td>\n",
       "      <td>0.142687</td>\n",
       "      <td>0.129422</td>\n",
       "      <td>0.095912</td>\n",
       "      <td>240.303279</td>\n",
       "      <td>...</td>\n",
       "      <td>221.886792</td>\n",
       "      <td>0.005119</td>\n",
       "      <td>0.947215</td>\n",
       "      <td>0.030781</td>\n",
       "      <td>102.096267</td>\n",
       "      <td>103.807466</td>\n",
       "      <td>105.422397</td>\n",
       "      <td>209.131719</td>\n",
       "      <td>0.031551</td>\n",
       "      <td>0.413421</td>\n",
       "    </tr>\n",
       "  </tbody>\n",
       "</table>\n",
       "<p>5 rows × 22 columns</p>\n",
       "</div>"
      ],
      "text/plain": [
       "        name  color1_ratio    color1_R    color1_G    color1_B    color1_H  \\\n",
       "1111  397005      0.415858  234.213846  233.892050  238.172338  244.510845   \n",
       "1112  397006      0.630130   23.776704   24.251325   24.764449  211.169437   \n",
       "1113  397007      0.633811   27.652522   26.315003   27.071733  326.053739   \n",
       "1114  397008      0.635646   33.647317   34.603687   35.937386  214.943005   \n",
       "1115  397009      0.873307   28.293539   29.345128   33.002562  226.601179   \n",
       "\n",
       "      color1_S  color1_V  color2_ratio    color2_R    ...       color2_H  \\\n",
       "1111  0.017971  0.934009      0.407014   21.058427    ...     216.540814   \n",
       "1112  0.039886  0.097115      0.344787  242.043845    ...     249.206963   \n",
       "1113  0.048369  0.108441      0.239491   75.159030    ...     219.129184   \n",
       "1114  0.063724  0.140931      0.295892  198.603922    ...     358.061831   \n",
       "1115  0.142687  0.129422      0.095912  240.303279    ...     221.886792   \n",
       "\n",
       "      color2_S  color2_V  color3_ratio    color3_R    color3_G    color3_B  \\\n",
       "1111  0.269405  0.113034      0.177127   62.290834   79.417643  111.590283   \n",
       "1112  0.018193  0.964039      0.025083  126.014286  125.660204  126.563265   \n",
       "1113  0.420556  0.508662      0.126698  206.247471  210.980130  216.346821   \n",
       "1114  0.962808  0.778839      0.068461  233.768644  231.126271  231.515254   \n",
       "1115  0.005119  0.947215      0.030781  102.096267  103.807466  105.422397   \n",
       "\n",
       "        color3_H  color3_S  color3_V  \n",
       "1111  219.155780  0.441790  0.437609  \n",
       "1112  263.525424  0.007135  0.496327  \n",
       "1113  211.883384  0.046681  0.848419  \n",
       "1114  351.167415  0.011303  0.916740  \n",
       "1115  209.131719  0.031551  0.413421  \n",
       "\n",
       "[5 rows x 22 columns]"
      ]
     },
     "execution_count": 49,
     "metadata": {},
     "output_type": "execute_result"
    }
   ],
   "source": [
    "df_codis_info.tail()"
   ]
  },
  {
   "cell_type": "markdown",
   "metadata": {},
   "source": [
    "### 전체 분포 확인 (RGB)"
   ]
  },
  {
   "cell_type": "code",
   "execution_count": 50,
   "metadata": {},
   "outputs": [],
   "source": [
    "from sklearn.decomposition import PCA"
   ]
  },
  {
   "cell_type": "code",
   "execution_count": 84,
   "metadata": {},
   "outputs": [],
   "source": [
    "ar_codis_RGB = df_codis_info.filter(regex=\"[RGB]\").values\n",
    "clt = PCA(3)\n",
    "pca_RGB = clt.fit_transform(ar_codis_RGB)/256"
   ]
  },
  {
   "cell_type": "code",
   "execution_count": 86,
   "metadata": {},
   "outputs": [
    {
     "data": {
      "application/vnd.jupyter.widget-view+json": {
       "model_id": "b9b2f48b85ed45369856cf7762e4703c",
       "version_major": 2,
       "version_minor": 0
      },
      "text/plain": [
       "interactive(children=(IntSlider(value=0, description='azim', max=180, step=10), Output()), _dom_classes=('widg…"
      ]
     },
     "metadata": {},
     "output_type": "display_data"
    }
   ],
   "source": [
    "from mpl_toolkits.mplot3d import Axes3D\n",
    "\n",
    "def plot_pca(azim):\n",
    "    fig = plt.figure(figsize = (10, 10))\n",
    "    ax = fig.add_subplot(111, projection='3d');\n",
    "    ax.scatter(pca_RGB[:,0], pca_RGB[:,1], pca_RGB[:,2], c='b', s=20, cmap=plt.cm.jet, alpha=1)\n",
    "    ax.view_init(20, azim)\n",
    "    \n",
    "widgets.interact(plot_pca, azim=widgets.IntSlider(min=0,max=180,step=10,value=0));"
   ]
  },
  {
   "cell_type": "markdown",
   "metadata": {},
   "source": [
    "### 전체 분포 확인 (HSV)"
   ]
  },
  {
   "cell_type": "code",
   "execution_count": 54,
   "metadata": {},
   "outputs": [],
   "source": [
    "ar_codis_HSV = df_codis_info.filter(regex=\"[HSV]\").values\n",
    "clt = PCA(3)\n",
    "pca_HSV = clt.fit_transform(ar_codis_HSV)"
   ]
  },
  {
   "cell_type": "code",
   "execution_count": 55,
   "metadata": {},
   "outputs": [
    {
     "data": {
      "text/plain": [
       "array([ -3.41416221,  20.82856122, -12.79459782, ...,  94.83207123,\n",
       "       -95.96877217,  12.35821349])"
      ]
     },
     "execution_count": 55,
     "metadata": {},
     "output_type": "execute_result"
    }
   ],
   "source": [
    "pca_HSV[:,2]"
   ]
  },
  {
   "cell_type": "code",
   "execution_count": 56,
   "metadata": {},
   "outputs": [
    {
     "data": {
      "application/vnd.jupyter.widget-view+json": {
       "model_id": "7bd2702fb5744cd6bb05643eb7ee7aab",
       "version_major": 2,
       "version_minor": 0
      },
      "text/plain": [
       "interactive(children=(IntSlider(value=0, description='azim', max=180, step=10), Output()), _dom_classes=('widg…"
      ]
     },
     "metadata": {},
     "output_type": "display_data"
    }
   ],
   "source": [
    "def plot_pca_HSV(azim):\n",
    "    fig = plt.figure(figsize = (10, 10))\n",
    "    ax = fig.add_subplot(111, projection='3d');\n",
    "    ax.scatter(pca_HSV[:,0], pca_HSV[:,1], pca_HSV[:,2], s=20, cmap=plt.cm.jet, alpha=1)\n",
    "    ax.view_init(20, azim)\n",
    "    \n",
    "widgets.interact(plot_pca_HSV, azim=widgets.IntSlider(min=0,max=180,step=10,value=0));"
   ]
  }
 ],
 "metadata": {
  "kernelspec": {
   "display_name": "Python 3",
   "language": "python",
   "name": "python3"
  },
  "language_info": {
   "codemirror_mode": {
    "name": "ipython",
    "version": 3
   },
   "file_extension": ".py",
   "mimetype": "text/x-python",
   "name": "python",
   "nbconvert_exporter": "python",
   "pygments_lexer": "ipython3",
   "version": "3.6.5"
  }
 },
 "nbformat": 4,
 "nbformat_minor": 2
}
