{
 "cells": [
  {
   "cell_type": "code",
   "execution_count": null,
   "metadata": {},
   "outputs": [],
   "source": [
    "# __tablename__ : 데이터베이스의 테이블 이름\n",
    "\n",
    "Base = declarative_base()\n",
    "\n",
    "class Codis(Base):\n",
    "    __tablename__ = 'codis'\n",
    "\n",
    "    id = Column(Integer, primary_key=True)\n",
    "    rank = Column(Integer)\n",
    "    id_codi = Column(Integer)\n",
    "    img = Column(String)\n",
    "    link = Column(String)\n",
    "    tag = Column(String)\n",
    "    \n",
    "    def __init__(self, id, rank, id_codi, img, link, tag):\n",
    "        self.id = id\n",
    "        self.rank = rank\n",
    "        self.id_codi = id_codi\n",
    "        self.img = img\n",
    "        self.link = link\n",
    "        self.tag = tag\n",
    "    \n",
    "    def __repr__(self):\n",
    "        return \"<Codi {}, {}, {}, {}, {}>\".format(self.id, self.rank, self.id_codi, self.img, self.link, self.tag)\n",
    "    \n",
    "    \n",
    "class Colors(Base):\n",
    "    __tablename__ = 'colors'\n",
    "\n",
    "    id = Column(Integer, primary_key=True) \n",
    "    color = Column(String) \n",
    "    \n",
    "    def __init__(self, id, color):\n",
    "        self.id = id\n",
    "        self.color = color \n",
    "    \n",
    "    def __repr__(self):\n",
    "        return \"<Color {}, {}>\".format(self.id, self.color)\n",
    "    \n",
    "\n",
    "class Tags(Base):\n",
    "    __tablename__ = 'tags'\n",
    "    \n",
    "    id = Column(Integer, primary_key=True)\n",
    "    tag = Column(String)\n",
    "    \n",
    "    def __init__(self, id, tag):\n",
    "        self.id = id\n",
    "        self.tag = tag\n",
    "    \n",
    "    def __repr__(self):\n",
    "        return \"<Tag {}, {}>\".format(self.id, self.tag)\n",
    "    \n",
    "    \n",
    "class Items(Base):\n",
    "    __tablename__ = 'items'\n",
    "\n",
    "    id = Column(Integer, primary_key=True) \n",
    "    id_item = Column(Integer) \n",
    "    id_codi = Column(Integer)\n",
    "    name = Column(String)\n",
    "    brand = Column(String)\n",
    "    price = Column(Integer)\n",
    "    img = Column(String)\n",
    "    \n",
    "    def __init__(self, id, id_item, id_codi, name, brand, price, img):\n",
    "        self.id = id\n",
    "        self.id_item = id_item\n",
    "        self.id_codi = id_codi\n",
    "        self.name = name\n",
    "        self.brand = brand\n",
    "        self.price = price\n",
    "        self.img = img\n",
    "    \n",
    "    def __repr__(self):\n",
    "        return \"<item {}, {}, {}, {}, {}, {}, {}>\".format(self.id, self.id_item, self.id_codi, self.name, self.brand, self.price, self.img)\n",
    "    \n",
    "    \n",
    "    \n",
    "class MapColor(Base):\n",
    "    __tablename__ = 'mapping_codi_color'\n",
    "    \n",
    "    id = Column(Integer, primary_key=True)\n",
    "    id_codi = Column(Integer)\n",
    "    ratio = Column(REAL)\n",
    "    id_color = Column(Integer)\n",
    "    \n",
    "    def __init__(id, id_coid, ratio, id_color):\n",
    "        self.id = id\n",
    "        self.id_codi = id_coid\n",
    "        self.ratio = ratio\n",
    "        self.id_color = id_color\n",
    "        \n",
    "    def __repr__(self):\n",
    "        return \"<mapColor {}, {}, {}, {}>\".format(self.id, self.id_codi, self.ratio, self.id_color)\n",
    "    \n",
    "    \n",
    "class MapTag(Base):\n",
    "    __tablename__ = 'mapping_codi_tag'\n",
    "    \n",
    "    id = Column(Integer, primary_key=True)\n",
    "    id_codi = Column(Integer) \n",
    "    id_tag = Column(Integer)\n",
    "    \n",
    "    def __init__(id, id_coid, id_tag):\n",
    "        self.id = id\n",
    "        self.id_codi = id_coid \n",
    "        self.id_tag = id_tag\n",
    "        \n",
    "    def __repr__(self):\n",
    "        return \"<maptag {}, {}, {}>\".format(self.id, self.id_codi, self.id_tag)\n",
    "    \n",
    "    \n",
    "class MapItem(Base):\n",
    "    __tablename__ = 'mapping_codi_item'\n",
    "    \n",
    "    id = Column(Integer, primary_key=True)\n",
    "    id_codi = Column(Integer) \n",
    "    id_item = Column(Integer)\n",
    "    \n",
    "    def __init__(id, id_coid, id_item):\n",
    "        self.id = id\n",
    "        self.id_codi = id_coid \n",
    "        self.id_item = id_item\n",
    "        \n",
    "    def __repr__(self):\n",
    "        return \"<mapitem {}, {}, {}>\".format(self.id, self.id_codi, self.id_item)\n",
    "    \n",
    "    \n",
    "class ViewCodiColor(Base):\n",
    "    __tablename__ = 'view_codi_color'\n",
    "     \n",
    "    id_codi = Column(Integer, primary_key=True)\n",
    "    ratio = Column(REAL)\n",
    "    color = Column(String)\n",
    "    \n",
    "    def __init__(id_codi, ratio, color):\n",
    "        self.id_codi = id_codi\n",
    "        self.ratio = ratio\n",
    "        self.color = color\n",
    "    \n",
    "    def __repr__(self):\n",
    "        return \"<viewcolor {}, {}, {}>\".format(self.id_codi, self.ratio, self.color)\n",
    "    "
   ]
  },
  {
   "cell_type": "code",
   "execution_count": null,
   "metadata": {},
   "outputs": [],
   "source": [
    "from sqlalchemy.ext.declarative import DeclarativeMeta\n",
    "class AlchemyEncoder(json.JSONEncoder):\n",
    "    def default(self, obj):\n",
    "        if isinstance(obj.__class__, DeclarativeMeta):\n",
    "            # an SQLAlchemy class\n",
    "            fields = {}\n",
    "            for field in [x for x in dir(obj) if not x.startswith('_') and x != 'metadata']:\n",
    "                data = obj.__getattribute__(field)\n",
    "                try:\n",
    "                    json.dumps(data) # this will fail on non-encodable values, like other classes\n",
    "                    fields[field] = data\n",
    "                except TypeError:\n",
    "                    fields[field] = None\n",
    "            # a json-encodable dict\n",
    "            return fields\n",
    "\n",
    "        return json.JSONEncoder.default(self, obj)"
   ]
  },
  {
   "cell_type": "code",
   "execution_count": 21,
   "metadata": {},
   "outputs": [],
   "source": [
    "with open('pw.pw', 'rb') as f:\n",
    "    pw = pickle.load(f)\n",
    "\n",
    "ip = '127.0.0.1'\n",
    "db = 'codi'"
   ]
  },
  {
   "cell_type": "code",
   "execution_count": 22,
   "metadata": {
    "scrolled": true
   },
   "outputs": [],
   "source": [
    "engine = sqlalchemy.create_engine(\"mysql+mysqldb://root:\"+pw+\"@\"+ip+\"/\"+db)"
   ]
  },
  {
   "cell_type": "code",
   "execution_count": null,
   "metadata": {},
   "outputs": [],
   "source": []
  },
  {
   "cell_type": "code",
   "execution_count": null,
   "metadata": {},
   "outputs": [],
   "source": []
  },
  {
   "cell_type": "code",
   "execution_count": null,
   "metadata": {},
   "outputs": [],
   "source": [
    "# make session\n",
    "Session = sessionmaker(bind=engine)\n",
    "session = Session()"
   ]
  },
  {
   "cell_type": "code",
   "execution_count": null,
   "metadata": {},
   "outputs": [],
   "source": [
    "results = session.query(Colors).all()\n",
    "results[:5]"
   ]
  },
  {
   "cell_type": "code",
   "execution_count": null,
   "metadata": {},
   "outputs": [],
   "source": [
    "session.query(ViewCodiColor).filter(ViewCodiColor.id_codi == 395660).all()"
   ]
  },
  {
   "cell_type": "code",
   "execution_count": 14,
   "metadata": {},
   "outputs": [
    {
     "data": {
      "text/plain": [
       "[<mapColor 1271, 395488, 0.368486514794449, 1677>]"
      ]
     },
     "execution_count": 14,
     "metadata": {},
     "output_type": "execute_result"
    }
   ],
   "source": [
    "session.query(MapColor) \\\n",
    ".join(Colors, MapColor.id_color == Colors.id) \\\n",
    ".join(Codis, MapColor.id_codi == Codis.id_codi)\\\n",
    ".filter(Colors.color.like(\"#3076bb\")).all()"
   ]
  },
  {
   "cell_type": "code",
   "execution_count": 260,
   "metadata": {},
   "outputs": [
    {
     "data": {
      "text/plain": [
       "[<Codi 1462, 1364, 395488, http://img.mapssi.com/codi/yjh6782@naver_com1521506804476.jpg, http://www.mapssi.com/mapssi_web/codi_detail.php?codiNo=395488>]"
      ]
     },
     "execution_count": 260,
     "metadata": {},
     "output_type": "execute_result"
    }
   ],
   "source": [
    "session.query(Codis) \\\n",
    ".join(MapColor, MapColor.id_codi == Codis.id_codi) \\\n",
    ".join(Colors, MapColor.id_color == Colors.id) \\\n",
    ".filter(Colors.color.like(\"#3076bb\")).all()"
   ]
  },
  {
   "cell_type": "code",
   "execution_count": 326,
   "metadata": {},
   "outputs": [
    {
     "data": {
      "text/plain": [
       "[<Color 388, #e9e9e7>, <Color 2791, #99a1b4>, <Color 500, #1f1f20>]"
      ]
     },
     "execution_count": 326,
     "metadata": {},
     "output_type": "execute_result"
    }
   ],
   "source": [
    "session.query(Colors) \\\n",
    ".join(MapColor, MapColor.id_color == Colors.id) \\\n",
    ".join(Codis, MapColor.id_codi == Codis.id_codi) \\\n",
    ".filter(Codis.id_codi == (395660)).all()"
   ]
  },
  {
   "cell_type": "code",
   "execution_count": 59,
   "metadata": {
    "scrolled": true
   },
   "outputs": [],
   "source": [
    "datas = json.loads(json.dumps(results, cls=AlchemyEncoder))"
   ]
  },
  {
   "cell_type": "code",
   "execution_count": null,
   "metadata": {},
   "outputs": [],
   "source": []
  },
  {
   "cell_type": "code",
   "execution_count": null,
   "metadata": {},
   "outputs": [],
   "source": []
  },
  {
   "cell_type": "code",
   "execution_count": null,
   "metadata": {},
   "outputs": [],
   "source": []
  },
  {
   "cell_type": "code",
   "execution_count": 15,
   "metadata": {},
   "outputs": [],
   "source": [
    "db = MySQLdb.connect(\n",
    "\"127.0.0.1\",\n",
    "\"root\",\n",
    "pw,\n",
    "\"codi\",\n",
    "charset='utf8',\n",
    ") "
   ]
  },
  {
   "cell_type": "code",
   "execution_count": 383,
   "metadata": {},
   "outputs": [],
   "source": [
    "def get_codi_tag(id_codi):\n",
    "    SQL_QUERY = \"\"\"\n",
    "        SELECT *\n",
    "        FROM view_codi_tag\n",
    "        where id_codi = {};\n",
    "    \"\"\".format(id_codi)\n",
    "      \n",
    "    curs = db.cursor()\n",
    "    count = curs.execute(SQL_QUERY)\n",
    "    rows = curs.fetchall()\n",
    "    return rows\n",
    "\n",
    "def get_codi_color(id_codi):\n",
    "      \n",
    "    SQL_QUERY = \"\"\"\n",
    "        SELECT *\n",
    "        FROM view_codi_color\n",
    "        where id_codi = {};\n",
    "    \"\"\".format(id_codi)\n",
    "      \n",
    "    curs = db.cursor()\n",
    "    count = curs.execute(SQL_QUERY)\n",
    "    rows = curs.fetchall()\n",
    "    return rows\n",
    "\n",
    "def get_codi_colors(colors):\n",
    "      \n",
    "    SQL_QUERY = \"\"\"\n",
    "        select codis.id_codi, colors.color\n",
    "        from mapping_codi_color\n",
    "        join codis on codis.id_codi = mapping_codi_color.id_codi\n",
    "        join colors on colors.id = mapping_codi_color.id_color\n",
    "        where colors.color in {}\n",
    "    \"\"\".format(colors)\n",
    "      \n",
    "    print(SQL_QUERY)\n",
    "    curs = db.cursor()\n",
    "    count = curs.execute(SQL_QUERY)\n",
    "    rows = curs.fetchall()\n",
    "    return rows"
   ]
  },
  {
   "cell_type": "code",
   "execution_count": 396,
   "metadata": {
    "scrolled": true
   },
   "outputs": [
    {
     "data": {
      "text/plain": [
       "{(395660, 0.0372809692238891, '#1f1f20'),\n",
       " (395660, 0.202199455218116, '#99a1b4'),\n",
       " (395660, 0.760519575557995, '#e9e9e7')}"
      ]
     },
     "execution_count": 396,
     "metadata": {},
     "output_type": "execute_result"
    }
   ],
   "source": [
    "set(get_codi_color(395660))"
   ]
  },
  {
   "cell_type": "code",
   "execution_count": 397,
   "metadata": {},
   "outputs": [
    {
     "data": {
      "text/plain": [
       "{(395660, '남친룩'), (395660, '코디'), (395660, '평범하게')}"
      ]
     },
     "execution_count": 397,
     "metadata": {},
     "output_type": "execute_result"
    }
   ],
   "source": [
    "set(get_codi_tag(395660))"
   ]
  },
  {
   "cell_type": "code",
   "execution_count": 47,
   "metadata": {
    "scrolled": false
   },
   "outputs": [
    {
     "name": "stdout",
     "output_type": "stream",
     "text": [
      "\n",
      "        select codis.id_codi, colors.color\n",
      "        from mapping_codi_color\n",
      "        join codis on codis.id_codi = mapping_codi_color.id_codi\n",
      "        join colors on colors.id = mapping_codi_color.id_color\n",
      "        where colors.color in ('#3076bb', '#3076bb')\n",
      "    \n"
     ]
    },
    {
     "data": {
      "text/plain": [
       "{(395488, '#3076bb')}"
      ]
     },
     "execution_count": 47,
     "metadata": {},
     "output_type": "execute_result"
    }
   ],
   "source": [
    "clist = ('#3076bb', '#3076bb')\n",
    "set(get_codi_colors(str(clist)))"
   ]
  },
  {
   "cell_type": "code",
   "execution_count": null,
   "metadata": {},
   "outputs": [],
   "source": []
  },
  {
   "cell_type": "code",
   "execution_count": null,
   "metadata": {},
   "outputs": [],
   "source": []
  },
  {
   "cell_type": "code",
   "execution_count": 329,
   "metadata": {},
   "outputs": [],
   "source": [
    "def get_similar_color(hexcode):\n",
    "    cinput = hex2rgb(hexcode)\n",
    "    \n",
    "    view_color(cinput)\n",
    "    \n",
    "    rgb_ls = []\n",
    "    hex_ls = []\n",
    "    for color in results:\n",
    "        rgb_ls.append( np.array(hex2rgb(color.color)))\n",
    "        hex_ls.append(color.color)\n",
    "     \n",
    "    rgb_ls = np.vstack(rgb_ls)\n",
    "    \n",
    "    cinput = np.repeat(np.array(cinput).reshape(1, 3), len(rgb_ls), axis=0)\n",
    "    uc = np.sqrt(np.sum((rgb_ls - cinput)**2, axis=1)) \n",
    "    datacom = pd.DataFrame([uc, hex_ls]).T\n",
    "\n",
    " \n",
    "    datacom = datacom.sort_values(0) \n",
    "    #datacom = datacom[datacom[0] < 50]\n",
    "     \n",
    "    sdata = datacom[:5][1].values \n",
    " \n",
    "     \n",
    "        \n",
    "    res = session.query(Codis) \\\n",
    "    .join(MapColor, MapColor.id_codi == Codis.id_codi) \\\n",
    "    .join(Colors, MapColor.id_color == Colors.id) \\\n",
    "    .filter(Colors.color.in_(sdata)).all()\n",
    "        \n",
    "    #find_codi_ls.extend(res)\n",
    "    \n",
    "    rgb_ls=[]\n",
    "    for codi in res:\n",
    "        \n",
    "        rgbs = session.query(Colors) \\\n",
    "        .join(MapColor, MapColor.id_color == Colors.id) \\\n",
    "        .join(Codis, MapColor.id_codi == Codis.id_codi) \\\n",
    "        .filter(Codis.id_codi == (codi.id_codi)).all()\n",
    "        \n",
    "        rgb_ls.append(rgbs)\n",
    "    return res, rgb_ls\n",
    "    # 컬러에 해당하는 코디 찾기"
   ]
  },
  {
   "cell_type": "code",
   "execution_count": 330,
   "metadata": {
    "scrolled": false
   },
   "outputs": [
    {
     "data": {
      "image/png": "[encoded data removed]",
      "text/plain": [
       "<Figure size 432x288 with 1 Axes>"
      ]
     },
     "metadata": {},
     "output_type": "display_data"
    }
   ],
   "source": [
    "codis, rgb_ls = get_similar_color('#0091ea')"
   ]
  },
  {
   "cell_type": "code",
   "execution_count": 332,
   "metadata": {
    "scrolled": true
   },
   "outputs": [
    {
     "data": {
      "text/plain": [
       "[[<Color 1779, #4b80b6>, <Color 514, #1d1e21>, <Color 226, #e7eaed>],\n",
       " [<Color 2803, #0458b5>, <Color 2607, #e9e9ed>, <Color 1220, #46453b>],\n",
       " [<Color 2803, #0458b5>, <Color 2607, #e9e9ed>, <Color 1220, #46453b>],\n",
       " [<Color 2649, #18191b>, <Color 1677, #3076bb>, <Color 2392, #edeff0>],\n",
       " [<Color 777, #fbfbfb>, <Color 1911, #3875b0>, <Color 992, #cdd3e1>],\n",
       " [<Color 2467, #181826>, <Color 1651, #bdc9ce>, <Color 1424, #1e48b7>]]"
      ]
     },
     "execution_count": 332,
     "metadata": {},
     "output_type": "execute_result"
    }
   ],
   "source": [
    "rgb_ls"
   ]
  },
  {
   "cell_type": "code",
   "execution_count": null,
   "metadata": {},
   "outputs": [],
   "source": []
  }
 ],
 "metadata": {
  "kernelspec": {
   "display_name": "Python 3",
   "language": "python",
   "name": "python3"
  },
  "language_info": {
   "codemirror_mode": {
    "name": "ipython",
    "version": 3
   },
   "file_extension": ".py",
   "mimetype": "text/x-python",
   "name": "python",
   "nbconvert_exporter": "python",
   "pygments_lexer": "ipython3",
   "version": "3.6.5"
  }
 },
 "nbformat": 4,
 "nbformat_minor": 2
}
