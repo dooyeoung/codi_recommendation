{
 "cells": [
  {
   "cell_type": "code",
   "execution_count": 1,
   "metadata": {},
   "outputs": [],
   "source": [
    "import pandas as pd"
   ]
  },
  {
   "cell_type": "code",
   "execution_count": 1,
   "metadata": {},
   "outputs": [],
   "source": [
    "df_codis_info = pd.read_csv(\"data/codis_info.csv\")"
   ]
  },
  {
   "cell_type": "code",
   "execution_count": 2,
   "metadata": {},
   "outputs": [
    {
     "data": {
      "text/html": [
       "<div>\n",
       "<style scoped>\n",
       "    .dataframe tbody tr th:only-of-type {\n",
       "        vertical-align: middle;\n",
       "    }\n",
       "\n",
       "    .dataframe tbody tr th {\n",
       "        vertical-align: top;\n",
       "    }\n",
       "\n",
       "    .dataframe thead th {\n",
       "        text-align: right;\n",
       "    }\n",
       "</style>\n",
       "<table border=\"1\" class=\"dataframe\">\n",
       "  <thead>\n",
       "    <tr style=\"text-align: right;\">\n",
       "      <th></th>\n",
       "      <th>name</th>\n",
       "      <th>color1_ratio</th>\n",
       "      <th>color1_R</th>\n",
       "      <th>color1_G</th>\n",
       "      <th>color1_B</th>\n",
       "      <th>color1_H</th>\n",
       "      <th>color1_S</th>\n",
       "      <th>color1_V</th>\n",
       "      <th>color2_ratio</th>\n",
       "      <th>color2_R</th>\n",
       "      <th>...</th>\n",
       "      <th>color2_H</th>\n",
       "      <th>color2_S</th>\n",
       "      <th>color2_V</th>\n",
       "      <th>color3_ratio</th>\n",
       "      <th>color3_R</th>\n",
       "      <th>color3_G</th>\n",
       "      <th>color3_B</th>\n",
       "      <th>color3_H</th>\n",
       "      <th>color3_S</th>\n",
       "      <th>color3_V</th>\n",
       "    </tr>\n",
       "  </thead>\n",
       "  <tbody>\n",
       "    <tr>\n",
       "      <th>1111</th>\n",
       "      <td>397005</td>\n",
       "      <td>0.415858</td>\n",
       "      <td>234.213846</td>\n",
       "      <td>233.892050</td>\n",
       "      <td>238.172338</td>\n",
       "      <td>244.510845</td>\n",
       "      <td>0.017971</td>\n",
       "      <td>0.934009</td>\n",
       "      <td>0.407014</td>\n",
       "      <td>21.058427</td>\n",
       "      <td>...</td>\n",
       "      <td>216.540814</td>\n",
       "      <td>0.269405</td>\n",
       "      <td>0.113034</td>\n",
       "      <td>0.177127</td>\n",
       "      <td>62.290834</td>\n",
       "      <td>79.417643</td>\n",
       "      <td>111.590283</td>\n",
       "      <td>219.155780</td>\n",
       "      <td>0.441790</td>\n",
       "      <td>0.437609</td>\n",
       "    </tr>\n",
       "    <tr>\n",
       "      <th>1112</th>\n",
       "      <td>397006</td>\n",
       "      <td>0.630130</td>\n",
       "      <td>23.776704</td>\n",
       "      <td>24.251325</td>\n",
       "      <td>24.764449</td>\n",
       "      <td>211.169437</td>\n",
       "      <td>0.039886</td>\n",
       "      <td>0.097115</td>\n",
       "      <td>0.344787</td>\n",
       "      <td>242.043845</td>\n",
       "      <td>...</td>\n",
       "      <td>249.206963</td>\n",
       "      <td>0.018193</td>\n",
       "      <td>0.964039</td>\n",
       "      <td>0.025083</td>\n",
       "      <td>126.014286</td>\n",
       "      <td>125.660204</td>\n",
       "      <td>126.563265</td>\n",
       "      <td>263.525424</td>\n",
       "      <td>0.007135</td>\n",
       "      <td>0.496327</td>\n",
       "    </tr>\n",
       "    <tr>\n",
       "      <th>1113</th>\n",
       "      <td>397007</td>\n",
       "      <td>0.633811</td>\n",
       "      <td>27.652522</td>\n",
       "      <td>26.315003</td>\n",
       "      <td>27.071733</td>\n",
       "      <td>326.053739</td>\n",
       "      <td>0.048369</td>\n",
       "      <td>0.108441</td>\n",
       "      <td>0.239491</td>\n",
       "      <td>75.159030</td>\n",
       "      <td>...</td>\n",
       "      <td>219.129184</td>\n",
       "      <td>0.420556</td>\n",
       "      <td>0.508662</td>\n",
       "      <td>0.126698</td>\n",
       "      <td>206.247471</td>\n",
       "      <td>210.980130</td>\n",
       "      <td>216.346821</td>\n",
       "      <td>211.883384</td>\n",
       "      <td>0.046681</td>\n",
       "      <td>0.848419</td>\n",
       "    </tr>\n",
       "    <tr>\n",
       "      <th>1114</th>\n",
       "      <td>397008</td>\n",
       "      <td>0.635646</td>\n",
       "      <td>33.647317</td>\n",
       "      <td>34.603687</td>\n",
       "      <td>35.937386</td>\n",
       "      <td>214.943005</td>\n",
       "      <td>0.063724</td>\n",
       "      <td>0.140931</td>\n",
       "      <td>0.295892</td>\n",
       "      <td>198.603922</td>\n",
       "      <td>...</td>\n",
       "      <td>358.061831</td>\n",
       "      <td>0.962808</td>\n",
       "      <td>0.778839</td>\n",
       "      <td>0.068461</td>\n",
       "      <td>233.768644</td>\n",
       "      <td>231.126271</td>\n",
       "      <td>231.515254</td>\n",
       "      <td>351.167415</td>\n",
       "      <td>0.011303</td>\n",
       "      <td>0.916740</td>\n",
       "    </tr>\n",
       "    <tr>\n",
       "      <th>1115</th>\n",
       "      <td>397009</td>\n",
       "      <td>0.873307</td>\n",
       "      <td>28.293539</td>\n",
       "      <td>29.345128</td>\n",
       "      <td>33.002562</td>\n",
       "      <td>226.601179</td>\n",
       "      <td>0.142687</td>\n",
       "      <td>0.129422</td>\n",
       "      <td>0.095912</td>\n",
       "      <td>240.303279</td>\n",
       "      <td>...</td>\n",
       "      <td>221.886792</td>\n",
       "      <td>0.005119</td>\n",
       "      <td>0.947215</td>\n",
       "      <td>0.030781</td>\n",
       "      <td>102.096267</td>\n",
       "      <td>103.807466</td>\n",
       "      <td>105.422397</td>\n",
       "      <td>209.131719</td>\n",
       "      <td>0.031551</td>\n",
       "      <td>0.413421</td>\n",
       "    </tr>\n",
       "  </tbody>\n",
       "</table>\n",
       "<p>5 rows × 22 columns</p>\n",
       "</div>"
      ],
      "text/plain": [
       "        name  color1_ratio    color1_R    color1_G    color1_B    color1_H  \\\n",
       "1111  397005      0.415858  234.213846  233.892050  238.172338  244.510845   \n",
       "1112  397006      0.630130   23.776704   24.251325   24.764449  211.169437   \n",
       "1113  397007      0.633811   27.652522   26.315003   27.071733  326.053739   \n",
       "1114  397008      0.635646   33.647317   34.603687   35.937386  214.943005   \n",
       "1115  397009      0.873307   28.293539   29.345128   33.002562  226.601179   \n",
       "\n",
       "      color1_S  color1_V  color2_ratio    color2_R    ...       color2_H  \\\n",
       "1111  0.017971  0.934009      0.407014   21.058427    ...     216.540814   \n",
       "1112  0.039886  0.097115      0.344787  242.043845    ...     249.206963   \n",
       "1113  0.048369  0.108441      0.239491   75.159030    ...     219.129184   \n",
       "1114  0.063724  0.140931      0.295892  198.603922    ...     358.061831   \n",
       "1115  0.142687  0.129422      0.095912  240.303279    ...     221.886792   \n",
       "\n",
       "      color2_S  color2_V  color3_ratio    color3_R    color3_G    color3_B  \\\n",
       "1111  0.269405  0.113034      0.177127   62.290834   79.417643  111.590283   \n",
       "1112  0.018193  0.964039      0.025083  126.014286  125.660204  126.563265   \n",
       "1113  0.420556  0.508662      0.126698  206.247471  210.980130  216.346821   \n",
       "1114  0.962808  0.778839      0.068461  233.768644  231.126271  231.515254   \n",
       "1115  0.005119  0.947215      0.030781  102.096267  103.807466  105.422397   \n",
       "\n",
       "        color3_H  color3_S  color3_V  \n",
       "1111  219.155780  0.441790  0.437609  \n",
       "1112  263.525424  0.007135  0.496327  \n",
       "1113  211.883384  0.046681  0.848419  \n",
       "1114  351.167415  0.011303  0.916740  \n",
       "1115  209.131719  0.031551  0.413421  \n",
       "\n",
       "[5 rows x 22 columns]"
      ]
     },
     "execution_count": 2,
     "metadata": {},
     "output_type": "execute_result"
    }
   ],
   "source": [
    "df_codis_info.tail()"
   ]
  },
  {
   "cell_type": "markdown",
   "metadata": {},
   "source": [
    "### Naive Bayes (Good / Bad)"
   ]
  },
  {
   "cell_type": "code",
   "execution_count": 6,
   "metadata": {},
   "outputs": [],
   "source": [
    "ar_codis_RGB = df_codis_info.filter(regex=\"_[RGB]\").values"
   ]
  },
  {
   "cell_type": "code",
   "execution_count": 7,
   "metadata": {},
   "outputs": [
    {
     "data": {
      "text/plain": [
       "(1116, 9)"
      ]
     },
     "execution_count": 7,
     "metadata": {},
     "output_type": "execute_result"
    }
   ],
   "source": [
    "ar_codis_RGB.shape"
   ]
  },
  {
   "cell_type": "code",
   "execution_count": 8,
   "metadata": {},
   "outputs": [
    {
     "data": {
      "text/plain": [
       "array([[ 19.32090535,  74.59545085, 101.89691588, ..., 225.54908553,\n",
       "        231.38313609, 234.0563475 ],\n",
       "       [235.85371309, 237.4992544 , 243.46704444, ..., 111.74219517,\n",
       "        129.04810524, 134.95169841],\n",
       "       [ 29.90695212,  32.73991295,  34.29808258, ..., 242.47294939,\n",
       "        243.43310064, 245.64601513],\n",
       "       ...,\n",
       "       [ 27.65252219,  26.31500325,  27.0717327 , ..., 206.2474711 ,\n",
       "        210.98013006, 216.34682081],\n",
       "       [ 33.64731654,  34.60368748,  35.93738591, ..., 233.76864407,\n",
       "        231.12627119, 231.51525424],\n",
       "       [ 28.29353923,  29.34512845,  33.00256215, ..., 102.09626719,\n",
       "        103.80746562, 105.42239686]])"
      ]
     },
     "execution_count": 8,
     "metadata": {},
     "output_type": "execute_result"
    }
   ],
   "source": [
    "ar_codis_RGB"
   ]
  },
  {
   "cell_type": "markdown",
   "metadata": {},
   "source": [
    "##### 가짜 데이터 생성 (0~ 255)"
   ]
  },
  {
   "cell_type": "code",
   "execution_count": 9,
   "metadata": {},
   "outputs": [],
   "source": [
    "import random"
   ]
  },
  {
   "cell_type": "code",
   "execution_count": 7,
   "metadata": {},
   "outputs": [],
   "source": [
    "for _ in range(1116):\n",
    "    fake_data = np.array([[random.randint(0, 256) for _ in range(0, 9)]])\n",
    "    ar_codis_RGB = np.vstack([ar_codis_RGB, fake_data])"
   ]
  },
  {
   "cell_type": "code",
   "execution_count": 8,
   "metadata": {},
   "outputs": [],
   "source": [
    "X = ar_codis_RGB"
   ]
  },
  {
   "cell_type": "code",
   "execution_count": 9,
   "metadata": {},
   "outputs": [],
   "source": [
    "# target\n",
    "ar_good = np.ones(1116)\n",
    "ar_bad = np.zeros(1116)"
   ]
  },
  {
   "cell_type": "code",
   "execution_count": 10,
   "metadata": {},
   "outputs": [],
   "source": [
    "y = np.concatenate([ar_good, ar_bad])"
   ]
  },
  {
   "cell_type": "markdown",
   "metadata": {},
   "source": [
    "### MultinomialNB"
   ]
  },
  {
   "cell_type": "code",
   "execution_count": 11,
   "metadata": {},
   "outputs": [],
   "source": [
    "from sklearn.naive_bayes import MultinomialNB"
   ]
  },
  {
   "cell_type": "code",
   "execution_count": 12,
   "metadata": {},
   "outputs": [],
   "source": [
    "mnb = MultinomialNB()"
   ]
  },
  {
   "cell_type": "code",
   "execution_count": 13,
   "metadata": {},
   "outputs": [
    {
     "data": {
      "text/plain": [
       "MultinomialNB(alpha=1.0, class_prior=None, fit_prior=True)"
      ]
     },
     "execution_count": 13,
     "metadata": {},
     "output_type": "execute_result"
    }
   ],
   "source": [
    "mnb.fit(X, y)"
   ]
  },
  {
   "cell_type": "markdown",
   "metadata": {},
   "source": [
    "##### 성능 확인"
   ]
  },
  {
   "cell_type": "code",
   "execution_count": 14,
   "metadata": {},
   "outputs": [],
   "source": [
    "from sklearn.metrics import confusion_matrix\n",
    "from sklearn.metrics import classification_report\n",
    "from sklearn.metrics import roc_curve"
   ]
  },
  {
   "cell_type": "code",
   "execution_count": 15,
   "metadata": {},
   "outputs": [],
   "source": [
    "y_pred = mnb.predict(X)"
   ]
  },
  {
   "cell_type": "code",
   "execution_count": 16,
   "metadata": {},
   "outputs": [
    {
     "data": {
      "text/plain": [
       "array([[695, 421],\n",
       "       [484, 632]])"
      ]
     },
     "execution_count": 16,
     "metadata": {},
     "output_type": "execute_result"
    }
   ],
   "source": [
    "confusion_matrix(y, y_pred)"
   ]
  },
  {
   "cell_type": "markdown",
   "metadata": {},
   "source": [
    "### QDA"
   ]
  },
  {
   "cell_type": "code",
   "execution_count": 17,
   "metadata": {},
   "outputs": [],
   "source": [
    "from sklearn.discriminant_analysis import QuadraticDiscriminantAnalysis"
   ]
  },
  {
   "cell_type": "code",
   "execution_count": 18,
   "metadata": {},
   "outputs": [],
   "source": [
    "qda = QuadraticDiscriminantAnalysis()"
   ]
  },
  {
   "cell_type": "code",
   "execution_count": 19,
   "metadata": {},
   "outputs": [
    {
     "data": {
      "text/plain": [
       "QuadraticDiscriminantAnalysis(priors=None, reg_param=0.0,\n",
       "               store_covariance=False, store_covariances=None, tol=0.0001)"
      ]
     },
     "execution_count": 19,
     "metadata": {},
     "output_type": "execute_result"
    }
   ],
   "source": [
    "qda.fit(X, y)"
   ]
  },
  {
   "cell_type": "markdown",
   "metadata": {},
   "source": [
    "##### 성능확인"
   ]
  },
  {
   "cell_type": "code",
   "execution_count": 20,
   "metadata": {},
   "outputs": [],
   "source": [
    "y_pred = qda.predict(X)"
   ]
  },
  {
   "cell_type": "code",
   "execution_count": 24,
   "metadata": {},
   "outputs": [
    {
     "data": {
      "text/html": [
       "<div>\n",
       "<style scoped>\n",
       "    .dataframe tbody tr th:only-of-type {\n",
       "        vertical-align: middle;\n",
       "    }\n",
       "\n",
       "    .dataframe tbody tr th {\n",
       "        vertical-align: top;\n",
       "    }\n",
       "\n",
       "    .dataframe thead th {\n",
       "        text-align: right;\n",
       "    }\n",
       "</style>\n",
       "<table border=\"1\" class=\"dataframe\">\n",
       "  <thead>\n",
       "    <tr style=\"text-align: right;\">\n",
       "      <th></th>\n",
       "      <th>Normal</th>\n",
       "      <th>mannered</th>\n",
       "    </tr>\n",
       "  </thead>\n",
       "  <tbody>\n",
       "    <tr>\n",
       "      <th>Normal</th>\n",
       "      <td>1110</td>\n",
       "      <td>6</td>\n",
       "    </tr>\n",
       "    <tr>\n",
       "      <th>mannered</th>\n",
       "      <td>72</td>\n",
       "      <td>1044</td>\n",
       "    </tr>\n",
       "  </tbody>\n",
       "</table>\n",
       "</div>"
      ],
      "text/plain": [
       "          Normal  mannered\n",
       "Normal      1110         6\n",
       "mannered      72      1044"
      ]
     },
     "execution_count": 24,
     "metadata": {},
     "output_type": "execute_result"
    }
   ],
   "source": [
    "pd.DataFrame(confusion_matrix(y, y_pred), columns=['Normal','mannered'] , index=['Normal','mannered'])"
   ]
  },
  {
   "cell_type": "code",
   "execution_count": 23,
   "metadata": {},
   "outputs": [
    {
     "name": "stdout",
     "output_type": "stream",
     "text": [
      "             precision    recall  f1-score   support\n",
      "\n",
      "        0.0       0.94      1.00      0.97      1116\n",
      "        1.0       1.00      0.93      0.96      1116\n",
      "\n",
      "avg / total       0.97      0.97      0.97      2232\n",
      "\n"
     ]
    }
   ],
   "source": [
    "print(classification_report(y, y_pred))"
   ]
  },
  {
   "cell_type": "markdown",
   "metadata": {},
   "source": [
    "##### cross_valadation"
   ]
  },
  {
   "cell_type": "code",
   "execution_count": 24,
   "metadata": {},
   "outputs": [],
   "source": [
    "from sklearn.model_selection import cross_val_score"
   ]
  },
  {
   "cell_type": "code",
   "execution_count": 25,
   "metadata": {},
   "outputs": [
    {
     "data": {
      "text/plain": [
       "0.96459801409352974"
      ]
     },
     "execution_count": 25,
     "metadata": {},
     "output_type": "execute_result"
    }
   ],
   "source": [
    "cross_val_score(qda, X, y, cv=5).mean()"
   ]
  },
  {
   "cell_type": "markdown",
   "metadata": {},
   "source": [
    "##### ROC curve"
   ]
  },
  {
   "cell_type": "code",
   "execution_count": 26,
   "metadata": {},
   "outputs": [
    {
     "data": {
      "text/plain": [
       "array([   6.66181252,    7.98199228,   12.69847441, ..., -110.82461555,\n",
       "        -80.29921302, -386.47942904])"
      ]
     },
     "execution_count": 26,
     "metadata": {},
     "output_type": "execute_result"
    }
   ],
   "source": [
    "qda.decision_function(X)"
   ]
  },
  {
   "cell_type": "code",
   "execution_count": 27,
   "metadata": {},
   "outputs": [],
   "source": [
    "fpr, tpr, thresholds = roc_curve(y, qda.decision_function(X))"
   ]
  },
  {
   "cell_type": "code",
   "execution_count": 28,
   "metadata": {},
   "outputs": [
    {
     "data": {
      "text/plain": [
       "[<matplotlib.lines.Line2D at 0x209f6336518>]"
      ]
     },
     "execution_count": 28,
     "metadata": {},
     "output_type": "execute_result"
    },
    {
     "data": {
      "image/png": "[encoded data removed]",
      "text/plain": [
       "<matplotlib.figure.Figure at 0x209f62c4780>"
      ]
     },
     "metadata": {},
     "output_type": "display_data"
    }
   ],
   "source": [
    "plt.plot(fpr, tpr)"
   ]
  },
  {
   "cell_type": "markdown",
   "metadata": {},
   "source": [
    "### Save model"
   ]
  },
  {
   "cell_type": "code",
   "execution_count": 29,
   "metadata": {},
   "outputs": [],
   "source": [
    "import pickle"
   ]
  },
  {
   "cell_type": "code",
   "execution_count": 31,
   "metadata": {},
   "outputs": [],
   "source": [
    "with open(\"qda_goodbad.p\", \"wb\") as f:\n",
    "    pickle.dump(qda, f)"
   ]
  },
  {
   "cell_type": "code",
   "execution_count": 32,
   "metadata": {},
   "outputs": [],
   "source": [
    "with open(\"qda_goodbad.p\", \"rb\") as f:\n",
    "    qda = pickle.load(f)"
   ]
  },
  {
   "cell_type": "code",
   "execution_count": 39,
   "metadata": {},
   "outputs": [
    {
     "data": {
      "text/plain": [
       "array([[  19.32861825,   74.59376488,  101.89400857,  118.23544433,\n",
       "         136.80332436,  161.93016993,  225.54908553,  231.38313609,\n",
       "         234.0563475 ]])"
      ]
     },
     "execution_count": 39,
     "metadata": {},
     "output_type": "execute_result"
    }
   ],
   "source": [
    "X[0].reshape(1, 9)"
   ]
  },
  {
   "cell_type": "code",
   "execution_count": 4,
   "metadata": {},
   "outputs": [],
   "source": [
    "color1= np.array([19.32861825,   74.59376488,  101.89400857])\n",
    "color2=np.array([118.23544433, 136.80332436,  161.93016993])\n",
    "color3=np.array([225.54908553,  231.38313609, 234.0563475])"
   ]
  },
  {
   "cell_type": "code",
   "execution_count": 45,
   "metadata": {},
   "outputs": [
    {
     "data": {
      "text/plain": [
       "array([  19.32861825,   74.59376488,  101.89400857,  118.23544433,\n",
       "        136.80332436,  161.93016993,  225.54908553,  231.38313609,\n",
       "        234.0563475 ])"
      ]
     },
     "execution_count": 45,
     "metadata": {},
     "output_type": "execute_result"
    }
   ],
   "source": [
    "np.hstack([color1, color2, color3])"
   ]
  },
  {
   "cell_type": "code",
   "execution_count": 40,
   "metadata": {},
   "outputs": [
    {
     "data": {
      "text/plain": [
       "array([ 1.])"
      ]
     },
     "execution_count": 40,
     "metadata": {},
     "output_type": "execute_result"
    }
   ],
   "source": [
    "qda.predict_proba(X[0].reshape(1, 9))"
   ]
  },
  {
   "cell_type": "code",
   "execution_count": 34,
   "metadata": {},
   "outputs": [
    {
     "data": {
      "text/plain": [
       "array([ 1.,  1.,  1., ...,  0.,  0.,  0.])"
      ]
     },
     "execution_count": 34,
     "metadata": {},
     "output_type": "execute_result"
    }
   ],
   "source": [
    "y_pred"
   ]
  },
  {
   "cell_type": "code",
   "execution_count": 1,
   "metadata": {},
   "outputs": [],
   "source": [
    "import pickle\n",
    "import numpy as np\n",
    "from sklearn.discriminant_analysis import QuadraticDiscriminantAnalysis"
   ]
  },
  {
   "cell_type": "code",
   "execution_count": 13,
   "metadata": {},
   "outputs": [],
   "source": [
    "def qda_goodbad(color1, color2, color3):\n",
    "    '''\n",
    "    Predict Good/Bad codis using qda\n",
    "    input :  color1(RGB), color2(RGB), color3(RGB)\n",
    "    output : good probabilities\n",
    "    '''\n",
    "    \n",
    "    # load model\n",
    "    with open(\"model/qda_goodbad.p\", \"rb\") as f:\n",
    "        qda = pickle.load(f)\n",
    "    \n",
    "    # change color\n",
    "    color1 = np.array(color1)\n",
    "    color2 = np.array(color2)\n",
    "    color3 = np.array(color3)\n",
    "    color = np.hstack([color1, color2, color3])\n",
    "    \n",
    "    # predict\n",
    "    prob_good = qda.predict_proba(color.reshape(1, 9))[0]\n",
    "    \n",
    "    return prob_good[1]"
   ]
  },
  {
   "cell_type": "code",
   "execution_count": 14,
   "metadata": {},
   "outputs": [],
   "source": [
    "color1= np.array([19.32861825,   74.59376488,  101.89400857])\n",
    "color2=np.array([118.23544433, 136.80332436,  161.93016993])\n",
    "color3=np.array([225.54908553,  231.38313609, 234.0563475])"
   ]
  },
  {
   "cell_type": "code",
   "execution_count": 15,
   "metadata": {
    "scrolled": true
   },
   "outputs": [
    {
     "data": {
      "text/plain": [
       "0.9987228069348237"
      ]
     },
     "execution_count": 15,
     "metadata": {},
     "output_type": "execute_result"
    }
   ],
   "source": [
    "qda_goodbad(color1, color2, color3)"
   ]
  },
  {
   "cell_type": "code",
   "execution_count": 22,
   "metadata": {},
   "outputs": [],
   "source": [
    "%matplotlib inline"
   ]
  },
  {
   "cell_type": "code",
   "execution_count": 19,
   "metadata": {},
   "outputs": [],
   "source": [
    "def hex_to_rgb(h): \n",
    "    h = h.lstrip('#')\n",
    "    return tuple(int(h[i:i+2], 16) for i in (0, 2 ,4))\n",
    "\n",
    "from PIL import Image, ImageDraw \n",
    "def view_color(rgb):\n",
    "    w, h = 5, 1\n",
    "\n",
    "    img = Image.new('RGB',(w,h), rgb)\n",
    "\n",
    "    plt.grid(False)\n",
    "    plt.imshow(img)\n",
    "    plt.xticks([])\n",
    "    plt.yticks([])\n",
    "    plt.show()"
   ]
  },
  {
   "cell_type": "code",
   "execution_count": 17,
   "metadata": {},
   "outputs": [
    {
     "data": {
      "text/plain": [
       "((35, 36, 38), (27, 126, 109), (209, 207, 201))"
      ]
     },
     "execution_count": 17,
     "metadata": {},
     "output_type": "execute_result"
    }
   ],
   "source": [
    "c1 =hex_to_rgb('#232426')\n",
    "c2 = hex_to_rgb('#1b7e6d')\n",
    "c3 = hex_to_rgb('#d1cfc9')\n",
    "c1, c2, c3\n",
    "\n",
    "#232426,#1b7e6d,#d1cfc9"
   ]
  },
  {
   "cell_type": "code",
   "execution_count": 18,
   "metadata": {},
   "outputs": [
    {
     "data": {
      "text/plain": [
       "0.02533714065623597"
      ]
     },
     "execution_count": 18,
     "metadata": {},
     "output_type": "execute_result"
    }
   ],
   "source": [
    "qda_goodbad(c1, c2, c3)"
   ]
  },
  {
   "cell_type": "code",
   "execution_count": 24,
   "metadata": {},
   "outputs": [
    {
     "data": {
      "image/png": "[encoded data removed]",
      "text/plain": [
       "<Figure size 432x288 with 1 Axes>"
      ]
     },
     "metadata": {},
     "output_type": "display_data"
    },
    {
     "data": {
      "image/png": "[encoded data removed]",
      "text/plain": [
       "<Figure size 432x288 with 1 Axes>"
      ]
     },
     "metadata": {},
     "output_type": "display_data"
    },
    {
     "data": {
      "image/png": "[encoded data removed]",
      "text/plain": [
       "<Figure size 432x288 with 1 Axes>"
      ]
     },
     "metadata": {},
     "output_type": "display_data"
    }
   ],
   "source": [
    "view_color(c1)\n",
    "view_color(c2)\n",
    "view_color(c3)"
   ]
  },
  {
   "cell_type": "code",
   "execution_count": 25,
   "metadata": {},
   "outputs": [
    {
     "data": {
      "text/plain": [
       "112"
      ]
     },
     "execution_count": 25,
     "metadata": {},
     "output_type": "execute_result"
    }
   ],
   "source": [
    "8 * 14"
   ]
  },
  {
   "cell_type": "code",
   "execution_count": null,
   "metadata": {},
   "outputs": [],
   "source": []
  }
 ],
 "metadata": {
  "kernelspec": {
   "display_name": "Python 3",
   "language": "python",
   "name": "python3"
  },
  "language_info": {
   "codemirror_mode": {
    "name": "ipython",
    "version": 3
   },
   "file_extension": ".py",
   "mimetype": "text/x-python",
   "name": "python",
   "nbconvert_exporter": "python",
   "pygments_lexer": "ipython3",
   "version": "3.6.5"
  }
 },
 "nbformat": 4,
 "nbformat_minor": 2
}
