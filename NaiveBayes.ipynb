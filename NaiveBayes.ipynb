{
 "cells": [
  {
   "cell_type": "code",
   "execution_count": 43,
   "metadata": {
    "collapsed": true
   },
   "outputs": [],
   "source": [
    "import pandas as pd"
   ]
  },
  {
   "cell_type": "code",
   "execution_count": 44,
   "metadata": {
    "collapsed": true
   },
   "outputs": [],
   "source": [
    "df_codis_info = pd.read_csv(\"data/codis_info.csv\")"
   ]
  },
  {
   "cell_type": "code",
   "execution_count": 3,
   "metadata": {},
   "outputs": [
    {
     "data": {
      "text/html": [
       "<div>\n",
       "<style>\n",
       "    .dataframe thead tr:only-child th {\n",
       "        text-align: right;\n",
       "    }\n",
       "\n",
       "    .dataframe thead th {\n",
       "        text-align: left;\n",
       "    }\n",
       "\n",
       "    .dataframe tbody tr th {\n",
       "        vertical-align: top;\n",
       "    }\n",
       "</style>\n",
       "<table border=\"1\" class=\"dataframe\">\n",
       "  <thead>\n",
       "    <tr style=\"text-align: right;\">\n",
       "      <th></th>\n",
       "      <th>name</th>\n",
       "      <th>color1_ratio</th>\n",
       "      <th>color1_R</th>\n",
       "      <th>color1_G</th>\n",
       "      <th>color1_B</th>\n",
       "      <th>color2_ratio</th>\n",
       "      <th>color2_R</th>\n",
       "      <th>color2_G</th>\n",
       "      <th>color2_B</th>\n",
       "      <th>color3_ratio</th>\n",
       "      <th>color3_R</th>\n",
       "      <th>color3_G</th>\n",
       "      <th>color3_B</th>\n",
       "    </tr>\n",
       "  </thead>\n",
       "  <tbody>\n",
       "    <tr>\n",
       "      <th>1111</th>\n",
       "      <td>397005</td>\n",
       "      <td>0.415858</td>\n",
       "      <td>234.213846</td>\n",
       "      <td>233.892050</td>\n",
       "      <td>238.172338</td>\n",
       "      <td>0.406404</td>\n",
       "      <td>21.023577</td>\n",
       "      <td>24.031536</td>\n",
       "      <td>28.714972</td>\n",
       "      <td>0.177737</td>\n",
       "      <td>62.144277</td>\n",
       "      <td>79.258053</td>\n",
       "      <td>111.384510</td>\n",
       "    </tr>\n",
       "    <tr>\n",
       "      <th>1112</th>\n",
       "      <td>397006</td>\n",
       "      <td>0.630105</td>\n",
       "      <td>23.764715</td>\n",
       "      <td>24.239371</td>\n",
       "      <td>24.751244</td>\n",
       "      <td>0.344838</td>\n",
       "      <td>242.026831</td>\n",
       "      <td>241.340823</td>\n",
       "      <td>245.811664</td>\n",
       "      <td>0.025057</td>\n",
       "      <td>125.453157</td>\n",
       "      <td>125.100815</td>\n",
       "      <td>126.039715</td>\n",
       "    </tr>\n",
       "    <tr>\n",
       "      <th>1113</th>\n",
       "      <td>397007</td>\n",
       "      <td>0.633673</td>\n",
       "      <td>27.650401</td>\n",
       "      <td>26.307009</td>\n",
       "      <td>27.053562</td>\n",
       "      <td>0.239583</td>\n",
       "      <td>75.057487</td>\n",
       "      <td>94.037051</td>\n",
       "      <td>129.622040</td>\n",
       "      <td>0.126744</td>\n",
       "      <td>206.097693</td>\n",
       "      <td>210.852559</td>\n",
       "      <td>216.266042</td>\n",
       "    </tr>\n",
       "    <tr>\n",
       "      <th>1114</th>\n",
       "      <td>397008</td>\n",
       "      <td>0.635646</td>\n",
       "      <td>33.647317</td>\n",
       "      <td>34.603687</td>\n",
       "      <td>35.937386</td>\n",
       "      <td>0.295892</td>\n",
       "      <td>198.603922</td>\n",
       "      <td>7.386471</td>\n",
       "      <td>13.563333</td>\n",
       "      <td>0.068461</td>\n",
       "      <td>233.768644</td>\n",
       "      <td>231.126271</td>\n",
       "      <td>231.515254</td>\n",
       "    </tr>\n",
       "    <tr>\n",
       "      <th>1115</th>\n",
       "      <td>397009</td>\n",
       "      <td>0.873307</td>\n",
       "      <td>28.293539</td>\n",
       "      <td>29.345128</td>\n",
       "      <td>33.002562</td>\n",
       "      <td>0.095912</td>\n",
       "      <td>240.303279</td>\n",
       "      <td>240.676545</td>\n",
       "      <td>241.539723</td>\n",
       "      <td>0.030781</td>\n",
       "      <td>102.096267</td>\n",
       "      <td>103.807466</td>\n",
       "      <td>105.422397</td>\n",
       "    </tr>\n",
       "  </tbody>\n",
       "</table>\n",
       "</div>"
      ],
      "text/plain": [
       "        name  color1_ratio    color1_R    color1_G    color1_B  color2_ratio  \\\n",
       "1111  397005      0.415858  234.213846  233.892050  238.172338      0.406404   \n",
       "1112  397006      0.630105   23.764715   24.239371   24.751244      0.344838   \n",
       "1113  397007      0.633673   27.650401   26.307009   27.053562      0.239583   \n",
       "1114  397008      0.635646   33.647317   34.603687   35.937386      0.295892   \n",
       "1115  397009      0.873307   28.293539   29.345128   33.002562      0.095912   \n",
       "\n",
       "        color2_R    color2_G    color2_B  color3_ratio    color3_R  \\\n",
       "1111   21.023577   24.031536   28.714972      0.177737   62.144277   \n",
       "1112  242.026831  241.340823  245.811664      0.025057  125.453157   \n",
       "1113   75.057487   94.037051  129.622040      0.126744  206.097693   \n",
       "1114  198.603922    7.386471   13.563333      0.068461  233.768644   \n",
       "1115  240.303279  240.676545  241.539723      0.030781  102.096267   \n",
       "\n",
       "        color3_G    color3_B  \n",
       "1111   79.258053  111.384510  \n",
       "1112  125.100815  126.039715  \n",
       "1113  210.852559  216.266042  \n",
       "1114  231.126271  231.515254  \n",
       "1115  103.807466  105.422397  "
      ]
     },
     "execution_count": 3,
     "metadata": {},
     "output_type": "execute_result"
    }
   ],
   "source": [
    "df_codis_info.tail()"
   ]
  },
  {
   "cell_type": "markdown",
   "metadata": {},
   "source": [
    "### Naive Bayes (Good / Bad)"
   ]
  },
  {
   "cell_type": "code",
   "execution_count": 4,
   "metadata": {
    "collapsed": true
   },
   "outputs": [],
   "source": [
    "ar_codis_RGB = df_codis_info.filter(regex=\"[RGB]\").values"
   ]
  },
  {
   "cell_type": "code",
   "execution_count": 5,
   "metadata": {},
   "outputs": [
    {
     "data": {
      "text/plain": [
       "(1116, 9)"
      ]
     },
     "execution_count": 5,
     "metadata": {},
     "output_type": "execute_result"
    }
   ],
   "source": [
    "ar_codis_RGB.shape"
   ]
  },
  {
   "cell_type": "code",
   "execution_count": 6,
   "metadata": {},
   "outputs": [
    {
     "data": {
      "text/plain": [
       "array([[  19.32861825,   74.59376488,  101.89400857, ...,  225.54908553,\n",
       "         231.38313609,  234.0563475 ],\n",
       "       [ 235.85371309,  237.4992544 ,  243.46704444, ...,  111.74219517,\n",
       "         129.04810524,  134.95169841],\n",
       "       [  29.89821134,   32.72546482,   34.27888915, ...,  242.45129398,\n",
       "         243.41465542,  245.62925269],\n",
       "       ..., \n",
       "       [  27.65040064,   26.30700931,   27.05356241, ...,  206.09769286,\n",
       "         210.85255948,  216.26604182],\n",
       "       [  33.64731654,   34.60368748,   35.93738591, ...,  233.76864407,\n",
       "         231.12627119,  231.51525424],\n",
       "       [  28.29615012,   29.34766653,   33.0050547 , ...,  102.16732283,\n",
       "         103.88188976,  105.49409449]])"
      ]
     },
     "execution_count": 6,
     "metadata": {},
     "output_type": "execute_result"
    }
   ],
   "source": [
    "ar_codis_RGB"
   ]
  },
  {
   "cell_type": "markdown",
   "metadata": {},
   "source": [
    "##### 가짜 데이터 생성 (0~ 255)"
   ]
  },
  {
   "cell_type": "code",
   "execution_count": 5,
   "metadata": {
    "collapsed": true
   },
   "outputs": [],
   "source": [
    "import random"
   ]
  },
  {
   "cell_type": "code",
   "execution_count": 6,
   "metadata": {
    "collapsed": true
   },
   "outputs": [],
   "source": [
    "for _ in range(1116):\n",
    "    fake_data = np.array([[random.randint(0, 256) for _ in range(0, 9)]])\n",
    "    ar_codis_RGB = np.vstack([ar_codis_RGB, fake_data])"
   ]
  },
  {
   "cell_type": "code",
   "execution_count": 7,
   "metadata": {
    "collapsed": true
   },
   "outputs": [],
   "source": [
    "X = ar_codis_RGB"
   ]
  },
  {
   "cell_type": "code",
   "execution_count": 8,
   "metadata": {
    "collapsed": true
   },
   "outputs": [],
   "source": [
    "# target\n",
    "ar_good = np.ones(1116)\n",
    "ar_bad = np.zeros(1116)"
   ]
  },
  {
   "cell_type": "code",
   "execution_count": 9,
   "metadata": {
    "collapsed": true
   },
   "outputs": [],
   "source": [
    "y = np.concatenate([ar_good, ar_bad])"
   ]
  },
  {
   "cell_type": "code",
   "execution_count": 62,
   "metadata": {},
   "outputs": [
    {
     "data": {
      "text/plain": [
       "array([ 1.,  1.,  1., ...,  0.,  0.,  0.])"
      ]
     },
     "execution_count": 62,
     "metadata": {},
     "output_type": "execute_result"
    }
   ],
   "source": [
    "y"
   ]
  },
  {
   "cell_type": "markdown",
   "metadata": {},
   "source": [
    "### MultinomialNB"
   ]
  },
  {
   "cell_type": "code",
   "execution_count": 10,
   "metadata": {
    "collapsed": true
   },
   "outputs": [],
   "source": [
    "from sklearn.naive_bayes import MultinomialNB"
   ]
  },
  {
   "cell_type": "code",
   "execution_count": 13,
   "metadata": {
    "collapsed": true
   },
   "outputs": [],
   "source": [
    "mnb = MultinomialNB()"
   ]
  },
  {
   "cell_type": "code",
   "execution_count": 14,
   "metadata": {},
   "outputs": [
    {
     "data": {
      "text/plain": [
       "MultinomialNB(alpha=1.0, class_prior=None, fit_prior=True)"
      ]
     },
     "execution_count": 14,
     "metadata": {},
     "output_type": "execute_result"
    }
   ],
   "source": [
    "mnb.fit(X, y)"
   ]
  },
  {
   "cell_type": "markdown",
   "metadata": {},
   "source": [
    "##### 성능 확인"
   ]
  },
  {
   "cell_type": "code",
   "execution_count": 16,
   "metadata": {
    "collapsed": true
   },
   "outputs": [],
   "source": [
    "from sklearn.metrics import confusion_matrix\n",
    "from sklearn.metrics import classification_report\n",
    "from sklearn.metrics import roc_curve"
   ]
  },
  {
   "cell_type": "code",
   "execution_count": 16,
   "metadata": {
    "collapsed": true
   },
   "outputs": [],
   "source": [
    "y_pred = mnb.predict(X)"
   ]
  },
  {
   "cell_type": "code",
   "execution_count": 17,
   "metadata": {},
   "outputs": [
    {
     "data": {
      "text/plain": [
       "array([[660, 456],\n",
       "       [486, 630]], dtype=int64)"
      ]
     },
     "execution_count": 17,
     "metadata": {},
     "output_type": "execute_result"
    }
   ],
   "source": [
    "confusion_matrix(y, y_pred)"
   ]
  },
  {
   "cell_type": "markdown",
   "metadata": {},
   "source": [
    "### QDA"
   ]
  },
  {
   "cell_type": "code",
   "execution_count": 11,
   "metadata": {
    "collapsed": true
   },
   "outputs": [],
   "source": [
    "from sklearn.discriminant_analysis import QuadraticDiscriminantAnalysis"
   ]
  },
  {
   "cell_type": "code",
   "execution_count": 12,
   "metadata": {
    "collapsed": true
   },
   "outputs": [],
   "source": [
    "qda = QuadraticDiscriminantAnalysis()"
   ]
  },
  {
   "cell_type": "code",
   "execution_count": 17,
   "metadata": {},
   "outputs": [
    {
     "data": {
      "text/plain": [
       "QuadraticDiscriminantAnalysis(priors=None, reg_param=0.0,\n",
       "               store_covariance=False, store_covariances=None, tol=0.0001)"
      ]
     },
     "execution_count": 17,
     "metadata": {},
     "output_type": "execute_result"
    }
   ],
   "source": [
    "qda.fit(X, y)"
   ]
  },
  {
   "cell_type": "markdown",
   "metadata": {},
   "source": [
    "##### 성능확인"
   ]
  },
  {
   "cell_type": "code",
   "execution_count": null,
   "metadata": {
    "collapsed": true
   },
   "outputs": [],
   "source": []
  },
  {
   "cell_type": "code",
   "execution_count": 18,
   "metadata": {
    "collapsed": true
   },
   "outputs": [],
   "source": [
    "y_pred = qda.predict(X)"
   ]
  },
  {
   "cell_type": "code",
   "execution_count": 60,
   "metadata": {},
   "outputs": [
    {
     "data": {
      "text/plain": [
       "array([[1110,    6],\n",
       "       [  71, 1045]], dtype=int64)"
      ]
     },
     "execution_count": 60,
     "metadata": {},
     "output_type": "execute_result"
    }
   ],
   "source": [
    "confusion_matrix(y, y_pred)"
   ]
  },
  {
   "cell_type": "code",
   "execution_count": 61,
   "metadata": {},
   "outputs": [
    {
     "name": "stdout",
     "output_type": "stream",
     "text": [
      "             precision    recall  f1-score   support\n",
      "\n",
      "        0.0       0.94      0.99      0.97      1116\n",
      "        1.0       0.99      0.94      0.96      1116\n",
      "\n",
      "avg / total       0.97      0.97      0.97      2232\n",
      "\n"
     ]
    }
   ],
   "source": [
    "print(classification_report(y, y_pred))"
   ]
  },
  {
   "cell_type": "markdown",
   "metadata": {},
   "source": [
    "##### cross_valadation"
   ]
  },
  {
   "cell_type": "code",
   "execution_count": 21,
   "metadata": {
    "collapsed": true
   },
   "outputs": [],
   "source": [
    "from sklearn.model_selection import cross_val_score"
   ]
  },
  {
   "cell_type": "code",
   "execution_count": 22,
   "metadata": {},
   "outputs": [
    {
     "data": {
      "text/plain": [
       "0.96549287315823185"
      ]
     },
     "execution_count": 22,
     "metadata": {},
     "output_type": "execute_result"
    }
   ],
   "source": [
    "cross_val_score(qda, X, y, cv=5).mean()"
   ]
  },
  {
   "cell_type": "markdown",
   "metadata": {},
   "source": [
    "##### ROC curve"
   ]
  },
  {
   "cell_type": "code",
   "execution_count": 23,
   "metadata": {},
   "outputs": [
    {
     "data": {
      "text/plain": [
       "array([   6.6842103 ,    8.45306465,   12.83352645, ...,  -85.9512555 ,\n",
       "       -104.76832775, -122.92930814])"
      ]
     },
     "execution_count": 23,
     "metadata": {},
     "output_type": "execute_result"
    }
   ],
   "source": [
    "qda.decision_function(X)"
   ]
  },
  {
   "cell_type": "code",
   "execution_count": 24,
   "metadata": {
    "collapsed": true
   },
   "outputs": [],
   "source": [
    "fpr, tpr, thresholds = roc_curve(y, qda.decision_function(X))"
   ]
  },
  {
   "cell_type": "code",
   "execution_count": 25,
   "metadata": {},
   "outputs": [
    {
     "data": {
      "text/plain": [
       "[<matplotlib.lines.Line2D at 0x2c63535feb8>]"
      ]
     },
     "execution_count": 25,
     "metadata": {},
     "output_type": "execute_result"
    },
    {
     "data": {
      "image/png": "[encoded data removed]",
      "text/plain": [
       "<matplotlib.figure.Figure at 0x2c634fbf2b0>"
      ]
     },
     "metadata": {},
     "output_type": "display_data"
    }
   ],
   "source": [
    "plt.plot(fpr, tpr)"
   ]
  },
  {
   "cell_type": "markdown",
   "metadata": {},
   "source": [
    "### Save model"
   ]
  },
  {
   "cell_type": "code",
   "execution_count": 26,
   "metadata": {
    "collapsed": true
   },
   "outputs": [],
   "source": [
    "import pickle"
   ]
  },
  {
   "cell_type": "code",
   "execution_count": 27,
   "metadata": {
    "collapsed": true
   },
   "outputs": [],
   "source": [
    "with open(\"qda_goodbad.p\", \"wb\") as f:\n",
    "    pickle.dump(qda, f)"
   ]
  },
  {
   "cell_type": "code",
   "execution_count": 32,
   "metadata": {
    "collapsed": true
   },
   "outputs": [],
   "source": [
    "with open(\"qda_goodbad.p\", \"rb\") as f:\n",
    "    qda = pickle.load(f)"
   ]
  },
  {
   "cell_type": "code",
   "execution_count": null,
   "metadata": {
    "collapsed": true
   },
   "outputs": [],
   "source": [
    "qda.pred_prob(X)"
   ]
  },
  {
   "cell_type": "code",
   "execution_count": 28,
   "metadata": {},
   "outputs": [
    {
     "data": {
      "text/plain": [
       "array([[  19.34748397,   74.59897511,  101.8978186 ,  118.26381536,\n",
       "         136.83769852,  161.96238507,  225.59596231,  231.41857335,\n",
       "         234.08371467]])"
      ]
     },
     "execution_count": 28,
     "metadata": {},
     "output_type": "execute_result"
    }
   ],
   "source": [
    "X[0].reshape(1, 9)"
   ]
  },
  {
   "cell_type": "code",
   "execution_count": 4,
   "metadata": {},
   "outputs": [],
   "source": [
    "color1= np.array([19.32861825,   74.59376488,  101.89400857])\n",
    "color2=np.array([118.23544433, 136.80332436,  161.93016993])\n",
    "color3=np.array([225.54908553,  231.38313609, 234.0563475])"
   ]
  },
  {
   "cell_type": "code",
   "execution_count": 30,
   "metadata": {},
   "outputs": [
    {
     "data": {
      "text/plain": [
       "array([  19.32861825,   74.59376488,  101.89400857,  118.23544433,\n",
       "        136.80332436,  161.93016993,  225.54908553,  231.38313609,\n",
       "        234.0563475 ])"
      ]
     },
     "execution_count": 30,
     "metadata": {},
     "output_type": "execute_result"
    }
   ],
   "source": [
    "np.hstack([color1, color2, color3])"
   ]
  },
  {
   "cell_type": "code",
   "execution_count": 40,
   "metadata": {},
   "outputs": [
    {
     "data": {
      "text/plain": [
       "array([ 1.])"
      ]
     },
     "execution_count": 40,
     "metadata": {},
     "output_type": "execute_result"
    }
   ],
   "source": [
    "qda.predict_proba(X[0].reshape(1, 9))"
   ]
  },
  {
   "cell_type": "code",
   "execution_count": 34,
   "metadata": {},
   "outputs": [
    {
     "data": {
      "text/plain": [
       "array([ 1.,  1.,  1., ...,  0.,  0.,  0.])"
      ]
     },
     "execution_count": 34,
     "metadata": {},
     "output_type": "execute_result"
    }
   ],
   "source": [
    "y_pred"
   ]
  },
  {
   "cell_type": "code",
   "execution_count": 1,
   "metadata": {},
   "outputs": [],
   "source": [
    "import pickle\n",
    "import numpy as np\n",
    "from sklearn.discriminant_analysis import QuadraticDiscriminantAnalysis"
   ]
  },
  {
   "cell_type": "code",
   "execution_count": 13,
   "metadata": {},
   "outputs": [],
   "source": [
    "def qda_goodbad(color1, color2, color3):\n",
    "    '''\n",
    "    Predict Good/Bad codis using qda\n",
    "    input :  color1(RGB), color2(RGB), color3(RGB)\n",
    "    output : good probabilities\n",
    "    '''\n",
    "    \n",
    "    # load model\n",
    "    with open(\"model/qda_goodbad.p\", \"rb\") as f:\n",
    "        qda = pickle.load(f)\n",
    "    \n",
    "    # change color\n",
    "    color1 = np.array(color1)\n",
    "    color2 = np.array(color2)\n",
    "    color3 = np.array(color3)\n",
    "    color = np.hstack([color1, color2, color3])\n",
    "    \n",
    "    # predict\n",
    "    prob_good = qda.predict_proba(color.reshape(1, 9))[0]\n",
    "    \n",
    "    return prob_good[1]"
   ]
  },
  {
   "cell_type": "code",
   "execution_count": 14,
   "metadata": {},
   "outputs": [],
   "source": [
    "color1= np.array([19.32861825,   74.59376488,  101.89400857])\n",
    "color2=np.array([118.23544433, 136.80332436,  161.93016993])\n",
    "color3=np.array([225.54908553,  231.38313609, 234.0563475])"
   ]
  },
  {
   "cell_type": "code",
   "execution_count": 15,
   "metadata": {
    "scrolled": true
   },
   "outputs": [
    {
     "data": {
      "text/plain": [
       "0.9987228069348237"
      ]
     },
     "execution_count": 15,
     "metadata": {},
     "output_type": "execute_result"
    }
   ],
   "source": [
    "qda_goodbad(color1, color2, color3)"
   ]
  },
  {
   "cell_type": "code",
   "execution_count": 59,
   "metadata": {},
   "outputs": [
    {
     "name": "stdout",
     "output_type": "stream",
     "text": [
      "0.99875105992\n",
      "0.999786799575\n",
      "0.999997330259\n",
      "0.999941156303\n",
      "0.127225048269\n",
      "0.988662241193\n",
      "0.999790132352\n",
      "0.999999521572\n",
      "0.99998802657\n",
      "0.999909865534\n",
      "0.999981069158\n",
      "0.999913523252\n",
      "0.999983239972\n",
      "0.999998278741\n",
      "0.995813576034\n",
      "0.999992695685\n",
      "0.999883171578\n",
      "0.99999542559\n",
      "0.999962794493\n",
      "0.0118745279277\n",
      "0.99999694697\n",
      "0.99998695861\n",
      "0.999998417128\n",
      "0.999976050902\n",
      "0.999687544358\n",
      "0.999877587943\n",
      "0.999996294453\n",
      "0.999978907896\n",
      "0.993428887574\n",
      "0.999993652899\n",
      "0.999924903265\n",
      "0.99999692714\n",
      "0.999112440755\n",
      "0.999996267197\n",
      "0.99999479912\n",
      "0.999996886799\n",
      "0.999995652154\n",
      "0.999990141477\n",
      "0.999555548563\n",
      "0.99999586098\n",
      "0.99998601238\n",
      "0.999065160838\n",
      "0.999943870657\n",
      "0.999992156134\n",
      "0.99999725116\n",
      "0.999415566645\n",
      "0.999855444263\n",
      "0.999789047502\n",
      "0.999937744982\n",
      "0.0120568488284\n",
      "0.999996367943\n",
      "0.999994399914\n",
      "0.000398920778063\n",
      "0.999995673076\n",
      "0.999936172121\n",
      "0.99962910844\n",
      "0.99998886698\n",
      "0.999977619823\n",
      "0.999990733168\n",
      "0.99991624833\n",
      "0.999994796492\n",
      "0.999996937308\n",
      "0.999991225106\n",
      "0.999996234162\n",
      "0.999996154917\n",
      "0.999997446852\n",
      "0.999996615801\n",
      "0.999874740315\n",
      "0.999997118046\n",
      "0.999951367902\n",
      "0.999788776317\n",
      "0.953046967606\n",
      "0.999991870548\n",
      "0.999998408038\n",
      "0.00657303279527\n",
      "0.999996218842\n",
      "0.999687103179\n",
      "0.999998546587\n",
      "0.999555931239\n",
      "0.999987866298\n",
      "0.999948205316\n",
      "0.999609735762\n",
      "0.999991664278\n",
      "0.999998684343\n",
      "0.999954355273\n",
      "0.999886564661\n",
      "0.999998295836\n",
      "0.999968064036\n",
      "0.726820518525\n",
      "0.999965958074\n",
      "0.99787274055\n",
      "0.999840756414\n",
      "0.998926004851\n",
      "0.999952899041\n",
      "0.999618771157\n",
      "0.00128727087231\n",
      "0.999937410418\n",
      "0.999981138116\n",
      "0.999969452567\n",
      "0.999997768152\n",
      "0.999980621867\n",
      "0.999887431842\n",
      "0.999995783579\n",
      "0.999998299014\n",
      "0.999619627414\n",
      "0.99992253775\n",
      "0.999997150495\n",
      "0.999894285966\n",
      "0.999999015887\n",
      "0.999965955967\n",
      "0.999997362708\n",
      "0.999953334006\n",
      "0.999977648185\n",
      "0.99993034101\n",
      "0.999677029551\n",
      "0.999992081911\n",
      "0.999993407036\n",
      "0.999946715628\n",
      "0.999997936792\n",
      "0.999975995417\n",
      "0.999924735123\n",
      "0.999991329321\n",
      "0.999998056875\n",
      "0.99999639758\n",
      "0.999967699578\n",
      "0.999669362207\n",
      "0.999993679993\n",
      "0.999986060779\n",
      "0.999999186579\n",
      "0.999951987814\n",
      "0.999993264355\n",
      "0.99999861657\n",
      "0.998427688387\n",
      "0.999982054921\n",
      "0.999997273514\n",
      "0.999998106918\n",
      "0.993082212683\n",
      "0.999992018963\n",
      "0.999987556874\n",
      "0.606842673304\n",
      "0.999555939625\n",
      "0.999966334246\n",
      "0.601100435624\n",
      "0.999986539243\n",
      "0.999993199044\n",
      "0.999996893273\n",
      "0.999997346963\n",
      "0.999995883948\n",
      "0.999996870633\n",
      "0.99995825904\n",
      "0.999656941681\n",
      "0.999995450641\n",
      "0.999818514675\n",
      "0.686208993988\n",
      "0.999987425513\n",
      "0.999986034392\n",
      "0.99996636566\n",
      "0.999995541159\n",
      "0.999959201904\n",
      "0.999997438063\n",
      "0.999917305613\n",
      "0.9999952608\n",
      "0.999966121258\n",
      "0.999992135534\n",
      "0.999974351468\n",
      "0.999991905438\n",
      "0.99999790697\n",
      "0.999993426103\n",
      "0.999997369408\n",
      "0.99999661925\n",
      "0.999984819945\n",
      "0.999974264867\n",
      "0.999995728723\n",
      "0.223468845231\n",
      "0.999991334712\n",
      "0.236044212097\n",
      "0.999997320819\n",
      "2.54171086865e-06\n",
      "0.999841217516\n",
      "0.999978676237\n",
      "0.999997214697\n",
      "0.99999605407\n",
      "0.999911060424\n",
      "0.999977184629\n",
      "0.999939765938\n",
      "0.999878962403\n",
      "0.999988221775\n",
      "0.999968329949\n",
      "0.999998971877\n",
      "0.999688253358\n",
      "0.999619940373\n",
      "0.999942021946\n",
      "5.81094161839e-13\n",
      "0.999983296716\n",
      "0.999997031631\n",
      "0.999968502024\n",
      "0.999993649992\n",
      "0.999995541488\n",
      "0.999998693038\n",
      "0.999996679992\n",
      "0.995327556817\n",
      "0.99975022987\n",
      "0.999914784395\n",
      "0.999661530891\n",
      "0.999995464204\n",
      "0.999839563254\n",
      "0.999997876525\n",
      "0.999834796774\n",
      "0.999996209601\n",
      "0.970500545682\n",
      "0.999996896673\n",
      "0.999985867862\n",
      "0.999992438965\n",
      "0.999607021225\n",
      "0.999819928316\n",
      "0.999998149668\n",
      "0.996662938235\n",
      "0.999994676\n",
      "0.999998411273\n",
      "0.999996251934\n",
      "0.999991796085\n",
      "0.999959984646\n",
      "0.999997321799\n",
      "0.999468557951\n",
      "0.999966601801\n",
      "0.999987131493\n",
      "0.999995221213\n",
      "0.999949431324\n",
      "0.999992042455\n",
      "0.999978449698\n",
      "0.999988157313\n",
      "0.999998102789\n",
      "0.999991354391\n",
      "0.999997940288\n",
      "0.999995053385\n",
      "0.999974072814\n",
      "0.999996168963\n",
      "0.999992844664\n",
      "0.999993980871\n",
      "0.999850230476\n",
      "0.999997383277\n",
      "0.999996247547\n",
      "0.999997123873\n",
      "0.999989101311\n",
      "0.999996222934\n",
      "0.999991166805\n",
      "0.99999791869\n",
      "0.999976032324\n",
      "0.998679439942\n",
      "0.999982996093\n",
      "0.99997251443\n",
      "0.999998100077\n",
      "0.999969368912\n",
      "0.999997626762\n",
      "0.999941975245\n",
      "1.55998120301e-08\n",
      "0.999997804214\n",
      "0.999997679583\n",
      "0.999961811954\n",
      "0.999995546763\n",
      "0.999996046044\n",
      "0.999302859734\n",
      "0.999984734847\n",
      "0.999975514571\n",
      "0.999954678938\n",
      "0.999966910474\n",
      "0.999995233084\n",
      "0.999904147031\n",
      "0.99990795455\n",
      "0.999992967073\n",
      "0.999826629042\n",
      "0.999992560597\n",
      "0.999987686551\n",
      "0.999980011626\n",
      "0.999982883595\n",
      "0.999989179596\n",
      "0.999986801247\n",
      "0.999981096088\n",
      "0.999995113195\n",
      "0.999992807213\n",
      "0.999996314561\n",
      "0.200907939865\n",
      "0.0854352235149\n",
      "0.999973758226\n",
      "0.999996934759\n",
      "0.853392883114\n",
      "0.999988058075\n",
      "0.999989358952\n",
      "0.999995518191\n",
      "0.988108476807\n",
      "0.999594354299\n",
      "0.99950719903\n",
      "0.99999428012\n",
      "0.993503250965\n",
      "0.985823880755\n",
      "0.999992973179\n",
      "0.999807496372\n",
      "0.941472540017\n",
      "0.999996629322\n",
      "0.999996485661\n",
      "0.999833755478\n",
      "0.999904695757\n",
      "0.999994428405\n",
      "0.999886651002\n",
      "0.999989986185\n",
      "0.999884198665\n",
      "0.999997197849\n",
      "0.999995472451\n",
      "0.999990256589\n",
      "0.99998562723\n",
      "0.999996455329\n",
      "0.999942497211\n",
      "0.999993408618\n",
      "0.473736197411\n",
      "5.84269737324e-09\n",
      "0.999995244581\n",
      "0.9999850913\n",
      "3.23507217752e-07\n",
      "0.999958867663\n",
      "0.999994254787\n",
      "0.999940342356\n",
      "0.999991609089\n",
      "0.999999201837\n",
      "0.999998347099\n",
      "0.999997910078\n",
      "0.999972923793\n",
      "0.999998477642\n",
      "0.999895770666\n",
      "0.999992882572\n",
      "0.999952166065\n",
      "0.998954843735\n",
      "0.999982361097\n",
      "0.99998148583\n",
      "0.999582393489\n",
      "0.00697277441603\n",
      "0.999989272611\n",
      "0.999984754026\n",
      "0.999665495397\n",
      "0.96086526454\n",
      "0.999084435603\n",
      "0.999997801839\n",
      "0.999995797727\n",
      "0.999560929434\n",
      "0.984348324314\n",
      "0.999997909867\n",
      "0.999995455351\n",
      "0.999981645022\n",
      "0.999992443066\n",
      "0.999994333422\n",
      "0.999991584537\n",
      "0.999991213854\n",
      "0.999996073716\n",
      "0.999513418217\n",
      "0.999148107158\n",
      "0.999957199758\n",
      "0.999995380391\n",
      "0.9999927213\n",
      "0.999979566967\n",
      "0.999991004939\n",
      "0.999985155994\n",
      "0.00342901732222\n",
      "0.999881521592\n",
      "0.999992375195\n",
      "1.12688216818e-10\n",
      "0.999900601738\n",
      "6.46289813655e-06\n",
      "0.999996240644\n",
      "0.999923413637\n",
      "0.999998442961\n",
      "0.999996407137\n",
      "0.999997296714\n",
      "4.72038927588e-08\n",
      "0.999986273673\n",
      "0.999990231864\n",
      "0.999816764353\n",
      "0.999975689435\n",
      "0.0197436340716\n",
      "0.999998036789\n",
      "0.994644415351\n",
      "0.944899518573\n",
      "0.999991984947\n",
      "0.999998036343\n",
      "0.999993615203\n",
      "0.993657991048\n",
      "0.999960881437\n",
      "0.999983102732\n",
      "0.999994185277\n",
      "0.999994794522\n",
      "0.999988411194\n",
      "0.999905827954\n",
      "0.999995183391\n",
      "0.999997233595\n",
      "0.999998082304\n",
      "0.999635359133\n",
      "0.999995239181\n",
      "0.999938224708\n",
      "0.999904229397\n",
      "1.09434300606e-17\n",
      "0.999998356303\n",
      "0.999995244483\n",
      "0.999998181386\n",
      "0.999996174088\n",
      "0.999997000604\n",
      "0.999974983905\n",
      "0.999967268493\n",
      "0.990301897527\n",
      "0.99972715386\n",
      "0.999995581912\n",
      "0.999982073899\n",
      "0.999991796608\n",
      "0.999969643423\n",
      "0.999997200919\n",
      "0.999985429946\n",
      "0.999998265682\n",
      "0.999943985932\n",
      "0.999981874929\n",
      "0.99999450592\n",
      "0.999916303439\n",
      "0.82606576476\n",
      "0.999994305585\n",
      "0.0138480206344\n",
      "0.999985961971\n",
      "3.40776778611e-16\n",
      "0.999977582339\n",
      "0.999994725673\n",
      "0.909085492144\n",
      "0.999998443505\n",
      "0.999996501816\n",
      "0.999952980063\n",
      "0.999323527497\n",
      "0.999980448102\n",
      "0.999968218901\n",
      "0.999983078228\n",
      "0.999960077334\n",
      "0.999995762755\n",
      "0.999171072742\n",
      "0.992396231233\n",
      "0.999840370961\n",
      "0.999993949403\n",
      "0.999995596609\n",
      "0.822032643106\n",
      "0.88442656864\n",
      "0.999995707994\n",
      "0.999997245369\n",
      "0.999974613222\n",
      "0.999997081196\n",
      "0.99998483598\n",
      "0.999979188101\n",
      "0.999973851368\n",
      "0.999988069221\n",
      "0.999991881009\n",
      "0.997898476079\n",
      "0.999903951416\n",
      "0.999996979218\n",
      "0.999997950148\n",
      "0.999996373159\n",
      "0.999998957549\n",
      "0.999995174448\n",
      "0.9999916055\n",
      "0.999875603946\n",
      "0.999992813976\n",
      "0.999996672392\n",
      "0.999997614172\n",
      "0.999994535413\n",
      "0.999996561097\n",
      "0.998723499491\n",
      "0.999996721042\n",
      "1.23752219474e-08\n",
      "0.0978868199472\n",
      "0.999992020293\n",
      "0.965347728403\n",
      "0.999995060024\n",
      "0.99999487539\n",
      "0.999981694406\n",
      "0.999994518838\n",
      "0.999986652039\n",
      "0.997324977273\n",
      "0.99998029549\n",
      "0.999991763712\n",
      "0.999993732803\n",
      "0.997376262706\n",
      "0.999996270008\n",
      "0.000415624042404\n",
      "0.999992053111\n",
      "0.999992544278\n",
      "0.995031514137\n",
      "0.999992803887\n",
      "0.9999864458\n",
      "0.999996585598\n",
      "0.999994298122\n",
      "0.998735011637\n",
      "0.999995913263\n",
      "0.999985335941\n",
      "0.999243399759\n",
      "0.999994983242\n",
      "0.999969076678\n",
      "0.999996478243\n",
      "0.999997381848\n",
      "0.999997446788\n",
      "0.99999887698\n",
      "0.999998797395\n",
      "0.999997627535\n",
      "0.99999132803\n",
      "0.999994922361\n",
      "0.999956765215\n",
      "0.999994922119\n",
      "0.999289207071\n",
      "0.999998482222\n",
      "0.626079135829\n",
      "0.999207838413\n",
      "0.999993437237\n",
      "0.999996381061\n",
      "0.999985229679\n",
      "0.934245484624\n",
      "0.999994455613\n",
      "0.999979779573\n",
      "0.999938544491\n",
      "0.999981239479\n",
      "0.999998882861\n",
      "0.999996459624\n",
      "0.834036677494\n",
      "0.99994908884\n",
      "0.99995787979\n",
      "0.999995806433\n",
      "0.999995053543\n",
      "0.799588708189\n",
      "0.999483326189\n",
      "0.999976586855\n",
      "0.999862355956\n",
      "0.9999873851\n",
      "0.965360743965\n",
      "0.999996180737\n",
      "0.999988414319\n",
      "0.999827436698\n",
      "0.999783170556\n",
      "0.999989347529\n",
      "0.999982933576\n",
      "0.991326564526\n",
      "0.999988859218\n",
      "0.999927494882\n",
      "0.999996069384\n",
      "0.74879160063\n",
      "0.99243942202\n",
      "0.999962215803\n",
      "0.999994350838\n",
      "0.999995627537\n",
      "0.999996266092\n",
      "0.30626937795\n",
      "0.999998482448\n",
      "0.999990633552\n",
      "0.99999194332\n",
      "0.999988605631\n",
      "0.999993775601\n",
      "0.999923780995\n",
      "0.666587269344\n",
      "0.999998488793\n",
      "1.68386290211e-06\n",
      "0.999935962825\n",
      "0.99673122673\n",
      "0.99970857284\n",
      "0.999978092675\n",
      "0.999994204281\n",
      "0.993537652118\n",
      "0.999965071988\n",
      "0.999988300572\n",
      "0.999993091713\n",
      "0.999993667642\n",
      "0.999970523934\n",
      "0.999644963141\n",
      "0.999996846504\n",
      "0.999998417122\n",
      "0.999950496533\n",
      "0.999820423941\n",
      "0.452356089783\n",
      "0.999929492412\n",
      "0.999184068594\n",
      "0.99876411863\n",
      "0.999998609421\n",
      "0.999976918533\n",
      "0.99999817924\n",
      "0.999959650053\n",
      "0.997407978926\n",
      "0.999874772005\n",
      "2.48406215058e-07\n",
      "0.999990723104\n",
      "0.706200161116\n",
      "0.000722505524765\n",
      "0.999999033034\n",
      "0.999986522865\n",
      "0.999998812509\n",
      "0.999992614673\n",
      "0.991451454705\n",
      "0.999984448481\n"
     ]
    },
    {
     "name": "stdout",
     "output_type": "stream",
     "text": [
      "0.424345000911\n",
      "0.0243028186617\n",
      "0.997808373668\n",
      "0.985746214601\n",
      "0.999997871983\n",
      "0.999996919767\n",
      "0.999982392462\n",
      "0.999997338411\n",
      "0.999904185251\n",
      "0.999982721498\n",
      "0.999976721549\n",
      "0.999936922243\n",
      "0.999993368158\n",
      "0.99999434037\n",
      "0.999975511198\n",
      "0.999998534065\n",
      "0.999882727965\n",
      "0.997922039517\n",
      "0.999995948856\n",
      "0.999923928037\n",
      "0.967509754363\n",
      "0.999998403242\n",
      "0.0178180501036\n",
      "0.999998648806\n",
      "0.999995518545\n",
      "0.999986050961\n",
      "0.999947632809\n",
      "0.999945241691\n",
      "0.999984894055\n",
      "0.999979942415\n",
      "0.999969399121\n",
      "0.999995148065\n",
      "0.997623616336\n",
      "0.998680512051\n",
      "0.999927590884\n",
      "0.999986550141\n",
      "0.999987810836\n",
      "0.999997117173\n",
      "0.999799367948\n",
      "0.0291279182381\n",
      "0.999994070675\n",
      "0.999986499933\n",
      "0.999997469086\n",
      "0.999974998429\n",
      "0.999987910267\n",
      "0.999852995981\n",
      "0.967049204221\n",
      "0.999997655523\n",
      "0.999993618874\n",
      "0.999998121935\n",
      "0.999953407558\n",
      "0.999997739023\n",
      "0.999988694504\n",
      "0.999997872863\n",
      "0.999998090156\n",
      "0.999990027837\n",
      "0.999994100901\n",
      "0.999989170994\n",
      "0.999995800344\n",
      "0.999582028966\n",
      "0.999723617029\n",
      "0.999962131333\n",
      "0.999988154558\n",
      "0.999992349917\n",
      "6.77328280183e-09\n",
      "0.999820615791\n",
      "0.99994196049\n",
      "0.999971185261\n",
      "0.999996706125\n",
      "0.999998722827\n",
      "0.999984901831\n",
      "0.99994825654\n",
      "0.99996927026\n",
      "0.999992800722\n",
      "0.999992441967\n",
      "0.997884085758\n",
      "0.999997744847\n",
      "0.999996933231\n",
      "0.999996018203\n",
      "0.999922614172\n",
      "0.99998960929\n",
      "0.999979622687\n",
      "0.999997862031\n",
      "0.999373832613\n",
      "0.999995685655\n",
      "0.999997265328\n",
      "0.99982331703\n",
      "0.999772119572\n",
      "0.999998707771\n",
      "0.999966228313\n",
      "0.112669038129\n",
      "0.999262700354\n",
      "0.138814797462\n",
      "0.301588028929\n",
      "0.999997955177\n",
      "0.999998046985\n",
      "0.999986218362\n",
      "0.999995357363\n",
      "0.999958891103\n",
      "0.999990578005\n",
      "1.05057098596e-15\n",
      "0.999956104821\n",
      "0.999995204054\n",
      "0.999996241561\n",
      "0.999996161235\n",
      "0.999681545486\n",
      "0.999991957958\n",
      "0.999998402684\n",
      "0.999995073429\n",
      "0.999996718442\n",
      "0.999938128374\n",
      "0.999994137068\n",
      "0.00317342691327\n",
      "0.99995399825\n",
      "0.999655047524\n",
      "0.999996912081\n",
      "0.999994621995\n",
      "3.13822085518e-12\n",
      "0.999986738438\n",
      "0.999995965896\n",
      "0.999804070696\n",
      "0.999984547769\n",
      "0.99997794029\n",
      "0.999985558766\n",
      "0.999996047212\n",
      "0.999992923966\n",
      "0.999997291208\n",
      "0.999735713229\n",
      "0.999991997665\n",
      "0.999995836102\n",
      "0.999988084276\n",
      "0.999996409061\n",
      "0.999996676968\n",
      "0.999985106342\n",
      "0.99996734216\n",
      "0.000101389135947\n",
      "0.999988897244\n",
      "0.0333920826856\n",
      "0.999526363761\n",
      "0.999994308656\n",
      "0.999860909123\n",
      "0.999935125822\n",
      "0.999904278969\n",
      "2.19183100937e-16\n",
      "0.999867372842\n",
      "0.999992303254\n",
      "0.999966852003\n",
      "0.999979596195\n",
      "0.999964761305\n",
      "0.999997924233\n",
      "0.999997582113\n",
      "0.999998551504\n",
      "0.999997379533\n",
      "0.885722447143\n",
      "0.999556511128\n",
      "0.000347826185171\n",
      "0.999989604112\n",
      "0.999313600298\n",
      "0.999967748629\n",
      "0.956343559144\n",
      "0.0074663975668\n",
      "0.999965625034\n",
      "0.999998643888\n",
      "0.999997911779\n",
      "0.999961718092\n",
      "0.999460835944\n",
      "0.99999569886\n",
      "0.999995353463\n",
      "0.999973475674\n",
      "0.999999226682\n",
      "0.999999056587\n",
      "0.999942606138\n",
      "0.999996029565\n",
      "0.999967209965\n",
      "0.999961545507\n",
      "0.999983858704\n",
      "0.999998663923\n",
      "0.999997367793\n",
      "0.999996397309\n",
      "0.990744022021\n",
      "0.999997762545\n",
      "0.999997453588\n",
      "0.999995896312\n",
      "0.0311886313231\n",
      "0.999894845536\n",
      "0.99878161986\n",
      "0.999998310708\n",
      "0.998954116663\n",
      "0.999872716789\n",
      "0.999998671095\n",
      "0.999975918295\n",
      "0.999997205475\n",
      "0.999984580379\n",
      "0.9998905219\n",
      "0.999997176419\n",
      "0.999998081927\n",
      "0.999929444144\n",
      "0.999998265253\n",
      "0.999997767285\n",
      "0.00330141718663\n",
      "0.999944922328\n",
      "0.999997181847\n",
      "0.999993584082\n",
      "0.999987583551\n",
      "0.999995466937\n",
      "0.999985713854\n",
      "0.999905625618\n",
      "0.999997851678\n",
      "0.999835564434\n",
      "0.999998836535\n",
      "0.999928960267\n",
      "0.00299753797789\n",
      "0.999998194123\n",
      "0.999984635218\n",
      "0.999983706687\n",
      "0.999997529126\n",
      "0.999985113978\n",
      "0.999982928043\n",
      "0.999992852845\n",
      "3.4874401829e-12\n",
      "0.999902275702\n",
      "1.79177993875e-10\n",
      "0.999994931026\n",
      "0.998771218898\n",
      "0.999856224187\n",
      "0.999997412288\n",
      "0.986714455993\n",
      "0.999996242648\n",
      "0.999998202856\n",
      "0.999998555292\n",
      "0.999995415393\n",
      "0.9999974997\n",
      "0.999938687711\n",
      "0.999974066206\n",
      "0.0434974495244\n",
      "0.999985575059\n",
      "0.999998893423\n",
      "0.999985188298\n",
      "0.999996501658\n",
      "0.997574863228\n",
      "0.999842040592\n",
      "0.433473744914\n",
      "0.989930384642\n",
      "0.999998630255\n",
      "0.999998967333\n",
      "0.840399392612\n",
      "0.999907752847\n",
      "0.999996578894\n",
      "0.999993005926\n",
      "0.999714403191\n",
      "0.99998902284\n",
      "0.999999087773\n",
      "0.999973190912\n",
      "0.9999956096\n",
      "0.99998877835\n",
      "0.999932405197\n",
      "0.999997718446\n",
      "0.999997519502\n",
      "0.999994392745\n",
      "0.999742411759\n",
      "0.999988116604\n",
      "0.999974945815\n",
      "0.999993606722\n",
      "0.999997489476\n",
      "0.999997504887\n",
      "0.992378749739\n",
      "0.997622603079\n",
      "0.999995683603\n",
      "0.999998791473\n",
      "0.280048077146\n",
      "0.999396860494\n",
      "0.999996463753\n",
      "0.999997577668\n",
      "0.999996650177\n",
      "0.999998830583\n",
      "0.999995484221\n",
      "0.999997687167\n",
      "0.999950620429\n",
      "0.999998328395\n",
      "0.985831997921\n",
      "0.999875065393\n",
      "0.930423252367\n",
      "0.999998395413\n",
      "0.999740758557\n",
      "0.999996305871\n",
      "0.999968618043\n",
      "0.999969811501\n",
      "0.999869119528\n",
      "0.999994105585\n",
      "0.999989909887\n",
      "0.999864058891\n",
      "0.999996252304\n",
      "0.99989646555\n",
      "0.999997885222\n",
      "8.06031077064e-10\n",
      "0.999995449333\n",
      "0.999998200493\n",
      "0.999998180449\n",
      "0.999994893462\n",
      "0.999997402936\n",
      "0.999995535127\n",
      "0.999997822285\n",
      "0.999965971895\n",
      "0.999996722233\n",
      "0.999997205398\n",
      "0.999996592526\n",
      "0.999988711375\n",
      "0.999996436696\n",
      "0.999991957714\n",
      "0.688596967192\n",
      "0.999997629664\n",
      "0.999996128943\n",
      "0.881461936251\n",
      "0.99999776088\n",
      "0.308569997409\n",
      "0.999742677808\n",
      "0.999112074823\n",
      "0.999948109088\n",
      "0.999997719035\n",
      "0.999957179031\n",
      "0.999500975313\n",
      "0.99979539152\n",
      "0.99999165906\n",
      "0.999865985746\n",
      "0.999987198077\n",
      "0.999998719267\n",
      "0.999529589526\n",
      "0.999997563532\n",
      "0.999976681545\n",
      "0.999981747462\n",
      "0.999997278452\n",
      "0.99998250245\n",
      "0.999993266494\n",
      "0.999997973698\n",
      "0.999997259088\n",
      "0.999998090487\n",
      "1.38045985817e-15\n",
      "0.999994498407\n",
      "0.999666646042\n",
      "0.99887076955\n",
      "0.987579360536\n",
      "0.999993428847\n",
      "8.03074813105e-12\n",
      "0.999953966444\n",
      "0.999990569955\n",
      "0.999838698532\n",
      "0.999935156932\n",
      "0.999982593667\n",
      "0.999979250512\n",
      "0.999995763469\n",
      "0.999994730981\n",
      "0.99863961488\n",
      "0.999987166542\n",
      "0.999939988484\n",
      "0.999993643402\n",
      "0.999998653666\n",
      "0.999978674273\n",
      "0.0184467808762\n",
      "0.999997101519\n",
      "0.999999057464\n",
      "0.999996270346\n",
      "0.999994865718\n",
      "0.999831985746\n",
      "0.999991264531\n",
      "0.99997634284\n",
      "0.999995787988\n",
      "0.999997969137\n",
      "0.999992784902\n",
      "0.999998081861\n",
      "0.999994698721\n",
      "0.999997387074\n",
      "0.99958706603\n",
      "0.999999047518\n",
      "0.999994743749\n",
      "0.999992005003\n",
      "0.999997255078\n",
      "0.999997456637\n",
      "0.999998843255\n",
      "0.999994564691\n",
      "5.43620500472e-09\n",
      "0.99996993736\n",
      "0.999887291899\n",
      "0.999939823804\n",
      "0.999993860882\n",
      "0.999986171194\n",
      "0.999994852271\n",
      "0.999844501931\n",
      "0.999967731267\n",
      "0.876976602719\n",
      "0.999970962467\n",
      "0.999984435227\n",
      "0.999964468764\n",
      "0.999979550654\n",
      "0.999997609121\n",
      "0.999998212162\n",
      "0.999218364721\n",
      "0.999997431394\n",
      "0.999982183133\n",
      "0.999956535139\n",
      "0.999990409162\n",
      "0.999996894231\n",
      "0.999995059082\n",
      "0.999992812573\n",
      "0.999997194034\n",
      "0.99999553669\n",
      "0.999997765891\n",
      "0.999996882005\n",
      "0.983225473138\n",
      "0.999970981817\n",
      "0.999234288068\n",
      "0.999994415236\n",
      "0.999996543513\n",
      "0.999996955633\n",
      "0.997686211031\n",
      "0.999983983949\n",
      "0.995787432812\n",
      "0.999998461216\n",
      "0.999997472793\n",
      "0.999997876864\n",
      "0.999277580878\n",
      "0.999993084889\n",
      "0.999997927056\n",
      "0.999997688305\n",
      "0.999963252546\n",
      "0.999996552115\n",
      "0.999998104278\n",
      "0.999997373844\n",
      "0.999998169296\n",
      "0.999926923058\n",
      "0.999965013914\n",
      "0.999964523056\n",
      "0.999989994846\n",
      "0.999829366952\n",
      "0.999927813551\n",
      "0.999988737291\n",
      "0.999992184396\n",
      "0.99999600938\n",
      "0.999987423872\n",
      "0.999989206524\n",
      "0.999989038829\n",
      "0.999983254627\n",
      "0.999990582067\n",
      "0.999989247787\n",
      "0.999990636341\n",
      "0.99998847475\n",
      "3.33121357924e-14\n",
      "1.05966550706e-08\n",
      "0.999909111853\n",
      "0.999932305395\n",
      "0.999911415367\n",
      "0.999996093188\n",
      "0.999991443878\n",
      "0.999645025304\n",
      "0.999970519128\n",
      "0.999992343658\n",
      "0.999807020204\n",
      "0.961044336984\n",
      "0.999998781413\n",
      "0.999997680166\n",
      "0.999953456314\n",
      "0.00993012730561\n",
      "4.13771079522e-07\n",
      "0.999970556204\n",
      "0.999988193316\n",
      "0.999997625262\n",
      "0.999983461576\n",
      "0.999959263809\n",
      "0.999954892704\n",
      "0.999866748136\n",
      "0.999983147278\n",
      "3.72696036501e-05\n",
      "0.999990958449\n",
      "0.999997443304\n",
      "0.897551713568\n",
      "0.999997659793\n",
      "0.999997189136\n",
      "0.999968682182\n",
      "0.999997455117\n",
      "0.999997359512\n",
      "0.999992678212\n",
      "0.999997017813\n",
      "0.999980187292\n",
      "0.999992894993\n",
      "0.00808256384485\n",
      "0.999421307943\n",
      "0.999978751983\n",
      "0.999995264379\n",
      "0.999995187382\n",
      "0.999991899017\n",
      "0.895232781167\n",
      "0.999985032886\n",
      "0.999941888598\n",
      "0.999999520541\n",
      "0.999998710158\n",
      "0.999996617881\n",
      "0.999992297299\n",
      "0.999998540594\n",
      "0.994716179704\n",
      "0.999996134978\n",
      "0.999993967999\n",
      "0.99998945536\n",
      "0.999990850937\n",
      "0.977858160531\n",
      "0.999998879652\n",
      "0.999970450506\n",
      "0.999916318596\n",
      "0.999994299628\n",
      "0.999988484711\n",
      "0.99999079832\n",
      "0.999995904349\n",
      "0.925159891536\n",
      "0.999857146147\n",
      "0.999946603145\n",
      "0.999997618001\n",
      "0.999878210484\n",
      "0.0519125610582\n",
      "0.999998790211\n",
      "0.999943215069\n",
      "0.999987754867\n",
      "0.999998841762\n",
      "0.999982500251\n",
      "6.9748233948e-12\n",
      "0.99999825162\n"
     ]
    }
   ],
   "source": [
    "for i in range(1116):\n",
    "    a = df_codis_info.iloc[i].filter(regex = \"color1_[RGB]\").values\n",
    "    b = df_codis_info.iloc[i].filter(regex = \"color2_[RGB]\").values\n",
    "    c = df_codis_info.iloc[i].filter(regex = \"color3_[RGB]\").values\n",
    "    \n",
    "    print(qda_goodbad(a,b,c))\n",
    "    "
   ]
  },
  {
   "cell_type": "code",
   "execution_count": 38,
   "metadata": {
    "collapsed": true
   },
   "outputs": [],
   "source": [
    "color1 = [35, 36, 38]\n",
    "color2 = [27,126, 109]\n",
    "color3 = [209, 207, 201]"
   ]
  },
  {
   "cell_type": "code",
   "execution_count": 58,
   "metadata": {},
   "outputs": [
    {
     "data": {
      "text/plain": [
       "array([  19.34748397,   74.59897511,  101.8978186 ])"
      ]
     },
     "execution_count": 58,
     "metadata": {},
     "output_type": "execute_result"
    }
   ],
   "source": [
    "df_codis_info.iloc[0].filter(regex = \"color1_[RGB]\").values"
   ]
  },
  {
   "cell_type": "code",
   "execution_count": 55,
   "metadata": {},
   "outputs": [],
   "source": [
    "a = df_codis_info[df_codis_info[\"name\"] == 396610].filter(regex = \"color1_[RGB]\").values\n",
    "b = df_codis_info[df_codis_info[\"name\"] == 396610].filter(regex = \"color2_[RGB]\").values`\n",
    "c = df_codis_info[df_codis_info[\"name\"] == 396610].filter(regex = \"color3_[RGB]\").values"
   ]
  },
  {
   "cell_type": "code",
   "execution_count": 56,
   "metadata": {},
   "outputs": [
    {
     "data": {
      "text/plain": [
       "0.043497449524367175"
      ]
     },
     "execution_count": 56,
     "metadata": {},
     "output_type": "execute_result"
    }
   ],
   "source": [
    "qda_goodbad(a,b,c)"
   ]
  },
  {
   "cell_type": "code",
   "execution_count": null,
   "metadata": {
    "collapsed": true
   },
   "outputs": [],
   "source": []
  }
 ],
 "metadata": {
  "kernelspec": {
   "display_name": "Python 3",
   "language": "python",
   "name": "python3"
  },
  "language_info": {
   "codemirror_mode": {
    "name": "ipython",
    "version": 3
   },
   "file_extension": ".py",
   "mimetype": "text/x-python",
   "name": "python",
   "nbconvert_exporter": "python",
   "pygments_lexer": "ipython3",
   "version": "3.6.5"
  }
 },
 "nbformat": 4,
 "nbformat_minor": 2
}
