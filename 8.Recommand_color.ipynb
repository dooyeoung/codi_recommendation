{
 "cells": [
  {
   "cell_type": "code",
   "execution_count": 31,
   "metadata": {},
   "outputs": [],
   "source": [
    "import pandas as pd\n",
    "import numpy as np\n",
    "from utils.imageprocessing import *\n",
    "from sklearn.model_selection import train_test_split\n",
    "\n",
    "%matplotlib inline\n",
    "\n",
    "import warnings\n",
    "warnings.filterwarnings('ignore')"
   ]
  },
  {
   "cell_type": "markdown",
   "metadata": {},
   "source": [
    "### Load data"
   ]
  },
  {
   "cell_type": "code",
   "execution_count": 18,
   "metadata": {},
   "outputs": [],
   "source": [
    "df_codis_color_info =  pd.read_csv(\"data/codis_info.csv\")"
   ]
  },
  {
   "cell_type": "markdown",
   "metadata": {},
   "source": [
    "### Preprocessing"
   ]
  },
  {
   "cell_type": "code",
   "execution_count": 44,
   "metadata": {},
   "outputs": [],
   "source": [
    "color1 = df_codis_color_info.filter(regex = \"color1_[RGB]\").values\n",
    "color2 = df_codis_color_info.filter(regex = \"color2_[RGB]\").values\n",
    "color3 = df_codis_color_info.filter(regex = \"color3_[RGB]\").values"
   ]
  },
  {
   "cell_type": "code",
   "execution_count": 45,
   "metadata": {},
   "outputs": [],
   "source": [
    "# 1순위, 2순위 색상으로 3순위 색상 추천받기\n",
    "X0 = np.concatenate([color1, color2], axis = 1)\n",
    "y = color3"
   ]
  },
  {
   "cell_type": "code",
   "execution_count": 46,
   "metadata": {},
   "outputs": [],
   "source": [
    "# 데이터 수가 워낙 적다\n",
    "X0_train, X0_test, y_train, y_test = train_test_split(X0, y, test_size = 0.001)"
   ]
  },
  {
   "cell_type": "code",
   "execution_count": 47,
   "metadata": {},
   "outputs": [
    {
     "data": {
      "text/plain": [
       "((1114, 6), (2, 6), (1114, 3), (2, 3))"
      ]
     },
     "execution_count": 47,
     "metadata": {},
     "output_type": "execute_result"
    }
   ],
   "source": [
    "X0_train.shape, X0_test.shape, y_train.shape, y_test.shape"
   ]
  },
  {
   "cell_type": "code",
   "execution_count": 48,
   "metadata": {},
   "outputs": [],
   "source": [
    "### change form (sample, timesteps, input_dim)\n",
    "X_train = X0_train.reshape((X0_train.shape[0], 2, 3)) /256\n",
    "X_test = X0_test.reshape((X0_test.shape[0], 2, 3)) /256"
   ]
  },
  {
   "cell_type": "code",
   "execution_count": 49,
   "metadata": {},
   "outputs": [
    {
     "data": {
      "text/plain": [
       "(1114, 2, 3)"
      ]
     },
     "execution_count": 49,
     "metadata": {},
     "output_type": "execute_result"
    }
   ],
   "source": [
    "X_train.shape"
   ]
  },
  {
   "cell_type": "code",
   "execution_count": 50,
   "metadata": {},
   "outputs": [],
   "source": [
    "### change form (sample, timesteps, input_dim)\n",
    "X = X0.reshape((X0.shape[0], 2, 3)) /256\n",
    "y = y"
   ]
  },
  {
   "cell_type": "markdown",
   "metadata": {},
   "source": [
    "### Modeling(RNN)"
   ]
  },
  {
   "cell_type": "code",
   "execution_count": 51,
   "metadata": {},
   "outputs": [],
   "source": [
    "from keras.models import Sequential\n",
    "from keras.layers import SimpleRNN, Dense\n",
    "from keras.layers import TimeDistributed\n",
    "from keras.optimizers import SGD"
   ]
  },
  {
   "cell_type": "code",
   "execution_count": 52,
   "metadata": {},
   "outputs": [],
   "source": [
    "np.random.rand(0)\n",
    "model_RNN = Sequential()\n",
    "model_RNN.add(SimpleRNN(10, input_shape=(2,3)))\n",
    "model_RNN.add(Dense(10, activation=\"relu\"))\n",
    "model_RNN.add(Dense(3, activation=\"linear\"))\n",
    "model_RNN.compile(loss=\"mse\", optimizer=\"adam\")"
   ]
  },
  {
   "cell_type": "code",
   "execution_count": 53,
   "metadata": {},
   "outputs": [],
   "source": [
    "history_RNN = model_RNN.fit(X, y, epochs=100, verbose=0)"
   ]
  },
  {
   "cell_type": "code",
   "execution_count": 54,
   "metadata": {},
   "outputs": [
    {
     "data": {
      "image/png": "[encoded data removed]",
      "text/plain": [
       "<Figure size 432x288 with 1 Axes>"
      ]
     },
     "metadata": {},
     "output_type": "display_data"
    }
   ],
   "source": [
    "plt.plot(history_RNN.history[\"loss\"])\n",
    "plt.title(\"Loss\")\n",
    "plt.show()"
   ]
  },
  {
   "cell_type": "markdown",
   "metadata": {},
   "source": [
    "### 확인"
   ]
  },
  {
   "cell_type": "code",
   "execution_count": 55,
   "metadata": {
    "scrolled": true
   },
   "outputs": [
    {
     "data": {
      "image/png": "[encoded data removed]",
      "text/plain": [
       "<Figure size 144x72 with 2 Axes>"
      ]
     },
     "metadata": {},
     "output_type": "display_data"
    },
    {
     "data": {
      "image/png": "[encoded data removed]",
      "text/plain": [
       "<Figure size 144x72 with 2 Axes>"
      ]
     },
     "metadata": {},
     "output_type": "display_data"
    },
    {
     "data": {
      "image/png": "[encoded data removed]",
      "text/plain": [
       "<Figure size 144x72 with 2 Axes>"
      ]
     },
     "metadata": {},
     "output_type": "display_data"
    },
    {
     "data": {
      "image/png": "[encoded data removed]",
      "text/plain": [
       "<Figure size 144x72 with 2 Axes>"
      ]
     },
     "metadata": {},
     "output_type": "display_data"
    },
    {
     "data": {
      "image/png": "[encoded data removed]",
      "text/plain": [
       "<Figure size 144x72 with 2 Axes>"
      ]
     },
     "metadata": {},
     "output_type": "display_data"
    },
    {
     "data": {
      "image/png": "[encoded data removed]",
      "text/plain": [
       "<Figure size 144x72 with 2 Axes>"
      ]
     },
     "metadata": {},
     "output_type": "display_data"
    },
    {
     "data": {
      "image/png": "[encoded data removed]",
      "text/plain": [
       "<Figure size 144x72 with 2 Axes>"
      ]
     },
     "metadata": {},
     "output_type": "display_data"
    },
    {
     "data": {
      "image/png": "[encoded data removed]",
      "text/plain": [
       "<Figure size 144x72 with 2 Axes>"
      ]
     },
     "metadata": {},
     "output_type": "display_data"
    },
    {
     "data": {
      "image/png": "[encoded data removed]",
      "text/plain": [
       "<Figure size 144x72 with 2 Axes>"
      ]
     },
     "metadata": {},
     "output_type": "display_data"
    },
    {
     "data": {
      "image/png": "[encoded data removed]",
      "text/plain": [
       "<Figure size 144x72 with 2 Axes>"
      ]
     },
     "metadata": {},
     "output_type": "display_data"
    },
    {
     "data": {
      "image/png": "[encoded data removed]",
      "text/plain": [
       "<Figure size 144x72 with 2 Axes>"
      ]
     },
     "metadata": {},
     "output_type": "display_data"
    },
    {
     "data": {
      "image/png": "[encoded data removed]",
      "text/plain": [
       "<Figure size 144x72 with 2 Axes>"
      ]
     },
     "metadata": {},
     "output_type": "display_data"
    },
    {
     "data": {
      "image/png": "[encoded data removed]",
      "text/plain": [
       "<Figure size 144x72 with 2 Axes>"
      ]
     },
     "metadata": {},
     "output_type": "display_data"
    },
    {
     "data": {
      "image/png": "[encoded data removed]",
      "text/plain": [
       "<Figure size 144x72 with 2 Axes>"
      ]
     },
     "metadata": {},
     "output_type": "display_data"
    },
    {
     "data": {
      "image/png": "[encoded data removed]",
      "text/plain": [
       "<Figure size 144x72 with 2 Axes>"
      ]
     },
     "metadata": {},
     "output_type": "display_data"
    },
    {
     "data": {
      "image/png": "[encoded data removed]",
      "text/plain": [
       "<Figure size 144x72 with 2 Axes>"
      ]
     },
     "metadata": {},
     "output_type": "display_data"
    },
    {
     "data": {
      "image/png": "[encoded data removed]",
      "text/plain": [
       "<Figure size 144x72 with 2 Axes>"
      ]
     },
     "metadata": {},
     "output_type": "display_data"
    },
    {
     "data": {
      "image/png": "[encoded data removed]",
      "text/plain": [
       "<Figure size 144x72 with 2 Axes>"
      ]
     },
     "metadata": {},
     "output_type": "display_data"
    },
    {
     "data": {
      "image/png": "[encoded data removed]",
      "text/plain": [
       "<Figure size 144x72 with 2 Axes>"
      ]
     },
     "metadata": {},
     "output_type": "display_data"
    },
    {
     "data": {
      "image/png": "[encoded data removed]",
      "text/plain": [
       "<Figure size 144x72 with 2 Axes>"
      ]
     },
     "metadata": {},
     "output_type": "display_data"
    },
    {
     "data": {
      "image/png": "[encoded data removed]",
      "text/plain": [
       "<Figure size 144x72 with 2 Axes>"
      ]
     },
     "metadata": {},
     "output_type": "display_data"
    },
    {
     "data": {
      "image/png": "[encoded data removed]",
      "text/plain": [
       "<Figure size 144x72 with 2 Axes>"
      ]
     },
     "metadata": {},
     "output_type": "display_data"
    },
    {
     "data": {
      "image/png": "[encoded data removed]",
      "text/plain": [
       "<Figure size 144x72 with 2 Axes>"
      ]
     },
     "metadata": {},
     "output_type": "display_data"
    },
    {
     "data": {
      "image/png": "[encoded data removed]",
      "text/plain": [
       "<Figure size 144x72 with 2 Axes>"
      ]
     },
     "metadata": {},
     "output_type": "display_data"
    },
    {
     "data": {
      "image/png": "[encoded data removed]",
      "text/plain": [
       "<Figure size 144x72 with 2 Axes>"
      ]
     },
     "metadata": {},
     "output_type": "display_data"
    },
    {
     "data": {
      "image/png": "[encoded data removed]",
      "text/plain": [
       "<Figure size 144x72 with 2 Axes>"
      ]
     },
     "metadata": {},
     "output_type": "display_data"
    },
    {
     "data": {
      "image/png": "[encoded data removed]",
      "text/plain": [
       "<Figure size 144x72 with 2 Axes>"
      ]
     },
     "metadata": {},
     "output_type": "display_data"
    },
    {
     "data": {
      "image/png": "[encoded data removed]",
      "text/plain": [
       "<Figure size 144x72 with 2 Axes>"
      ]
     },
     "metadata": {},
     "output_type": "display_data"
    },
    {
     "data": {
      "image/png": "[encoded data removed]",
      "text/plain": [
       "<Figure size 144x72 with 2 Axes>"
      ]
     },
     "metadata": {},
     "output_type": "display_data"
    },
    {
     "data": {
      "image/png": "[encoded data removed]",
      "text/plain": [
       "<Figure size 144x72 with 2 Axes>"
      ]
     },
     "metadata": {},
     "output_type": "display_data"
    }
   ],
   "source": [
    "for idx in range(30):\n",
    "    input_color = np.vstack([color1[idx], color2[idx]])[np.newaxis, :, :]\n",
    "    color_3_pre = model_RNN.predict(input_color)[0]\n",
    "\n",
    "    true = [color1[idx], color2[idx], color3[idx]]\n",
    "    predict = [color1[idx], color2[idx], color_3_pre]\n",
    "    #print(color3[idx])\n",
    "    #print(color_3_pre)\n",
    "    bar_true = plot_colors([0.33, 0.33, 0.33], true, h=50, w=300)\n",
    "    bar_predict = plot_colors([0.33, 0.33, 0.33], predict, h=50, w=300)\n",
    "    \n",
    "    plt.figure(figsize = (2, 1))  \n",
    "\n",
    "    plt.subplot(1, 2, 1)\n",
    "    plt.imshow(bar_true)\n",
    "    plt.axis('off')\n",
    "    plt.subplot(1, 2, 2)\n",
    "    plt.imshow(bar_predict)\n",
    "    plt.axis('off')\n",
    "    plt.show()"
   ]
  },
  {
   "cell_type": "markdown",
   "metadata": {},
   "source": [
    "대부분의 예측 결과과 무채색이다"
   ]
  },
  {
   "cell_type": "markdown",
   "metadata": {},
   "source": [
    "### Modeling(NN)"
   ]
  },
  {
   "cell_type": "code",
   "execution_count": 57,
   "metadata": {},
   "outputs": [],
   "source": [
    "np.random.rand(0)\n",
    "model_NN = Sequential()\n",
    "model_NN.add(Dense(5, input_dim=6, activation = \"relu\"))\n",
    "model_NN.add(Dense(3, activation = \"linear\"))\n",
    "model_NN.compile(loss=\"mse\", optimizer=\"adam\")"
   ]
  },
  {
   "cell_type": "code",
   "execution_count": 58,
   "metadata": {},
   "outputs": [],
   "source": [
    "X = X0/256"
   ]
  },
  {
   "cell_type": "code",
   "execution_count": 59,
   "metadata": {},
   "outputs": [],
   "source": [
    "history_NN = model_NN.fit(X, y, epochs=1000, verbose=0)"
   ]
  },
  {
   "cell_type": "code",
   "execution_count": 60,
   "metadata": {},
   "outputs": [],
   "source": [
    "# 모델저장\n",
    "model_NN.save('model/model_nn.hdf5')"
   ]
  },
  {
   "cell_type": "code",
   "execution_count": 62,
   "metadata": {},
   "outputs": [
    {
     "data": {
      "image/png": "[encoded data removed]",
      "text/plain": [
       "<Figure size 432x288 with 1 Axes>"
      ]
     },
     "metadata": {},
     "output_type": "display_data"
    }
   ],
   "source": [
    "plt.plot(history_NN.history[\"loss\"])\n",
    "plt.title(\"Loss\")\n",
    "plt.show()"
   ]
  },
  {
   "cell_type": "markdown",
   "metadata": {},
   "source": [
    "### 확인"
   ]
  },
  {
   "cell_type": "code",
   "execution_count": 63,
   "metadata": {},
   "outputs": [
    {
     "data": {
      "image/png": "[encoded data removed]",
      "text/plain": [
       "<Figure size 144x72 with 2 Axes>"
      ]
     },
     "metadata": {},
     "output_type": "display_data"
    },
    {
     "data": {
      "image/png": "[encoded data removed]",
      "text/plain": [
       "<Figure size 144x72 with 2 Axes>"
      ]
     },
     "metadata": {},
     "output_type": "display_data"
    },
    {
     "data": {
      "image/png": "[encoded data removed]",
      "text/plain": [
       "<Figure size 144x72 with 2 Axes>"
      ]
     },
     "metadata": {},
     "output_type": "display_data"
    },
    {
     "data": {
      "image/png": "[encoded data removed]",
      "text/plain": [
       "<Figure size 144x72 with 2 Axes>"
      ]
     },
     "metadata": {},
     "output_type": "display_data"
    },
    {
     "data": {
      "image/png": "[encoded data removed]",
      "text/plain": [
       "<Figure size 144x72 with 2 Axes>"
      ]
     },
     "metadata": {},
     "output_type": "display_data"
    },
    {
     "data": {
      "image/png": "[encoded data removed]",
      "text/plain": [
       "<Figure size 144x72 with 2 Axes>"
      ]
     },
     "metadata": {},
     "output_type": "display_data"
    },
    {
     "data": {
      "image/png": "[encoded data removed]",
      "text/plain": [
       "<Figure size 144x72 with 2 Axes>"
      ]
     },
     "metadata": {},
     "output_type": "display_data"
    },
    {
     "data": {
      "image/png": "[encoded data removed]",
      "text/plain": [
       "<Figure size 144x72 with 2 Axes>"
      ]
     },
     "metadata": {},
     "output_type": "display_data"
    },
    {
     "data": {
      "image/png": "[encoded data removed]",
      "text/plain": [
       "<Figure size 144x72 with 2 Axes>"
      ]
     },
     "metadata": {},
     "output_type": "display_data"
    },
    {
     "data": {
      "image/png": "[encoded data removed]",
      "text/plain": [
       "<Figure size 144x72 with 2 Axes>"
      ]
     },
     "metadata": {},
     "output_type": "display_data"
    },
    {
     "data": {
      "image/png": "[encoded data removed]",
      "text/plain": [
       "<Figure size 144x72 with 2 Axes>"
      ]
     },
     "metadata": {},
     "output_type": "display_data"
    },
    {
     "data": {
      "image/png": "[encoded data removed]",
      "text/plain": [
       "<Figure size 144x72 with 2 Axes>"
      ]
     },
     "metadata": {},
     "output_type": "display_data"
    },
    {
     "data": {
      "image/png": "[encoded data removed]",
      "text/plain": [
       "<Figure size 144x72 with 2 Axes>"
      ]
     },
     "metadata": {},
     "output_type": "display_data"
    },
    {
     "data": {
      "image/png": "[encoded data removed]",
      "text/plain": [
       "<Figure size 144x72 with 2 Axes>"
      ]
     },
     "metadata": {},
     "output_type": "display_data"
    },
    {
     "data": {
      "image/png": "[encoded data removed]",
      "text/plain": [
       "<Figure size 144x72 with 2 Axes>"
      ]
     },
     "metadata": {},
     "output_type": "display_data"
    },
    {
     "data": {
      "image/png": "[encoded data removed]",
      "text/plain": [
       "<Figure size 144x72 with 2 Axes>"
      ]
     },
     "metadata": {},
     "output_type": "display_data"
    },
    {
     "data": {
      "image/png": "[encoded data removed]",
      "text/plain": [
       "<Figure size 144x72 with 2 Axes>"
      ]
     },
     "metadata": {},
     "output_type": "display_data"
    },
    {
     "data": {
      "image/png": "[encoded data removed]",
      "text/plain": [
       "<Figure size 144x72 with 2 Axes>"
      ]
     },
     "metadata": {},
     "output_type": "display_data"
    },
    {
     "data": {
      "image/png": "[encoded data removed]",
      "text/plain": [
       "<Figure size 144x72 with 2 Axes>"
      ]
     },
     "metadata": {},
     "output_type": "display_data"
    },
    {
     "data": {
      "image/png": "[encoded data removed]",
      "text/plain": [
       "<Figure size 144x72 with 2 Axes>"
      ]
     },
     "metadata": {},
     "output_type": "display_data"
    }
   ],
   "source": [
    "for idx in range(20):\n",
    "    input_color = np.hstack([color1[idx], color2[idx]]).reshape(1,6) /256\n",
    "    color_3_pre = model_NN.predict(input_color)[0]\n",
    "\n",
    "    true = [color1[idx], color2[idx], color3[idx]]\n",
    "    predict = [color1[idx], color2[idx], color_3_pre]\n",
    "    \n",
    "    bar_true = plot_colors([0.33, 0.33, 0.33], true, h=50, w=300)\n",
    "    bar_predict = plot_colors([0.33, 0.33, 0.33], predict, h=50, w=300)\n",
    "    \n",
    "    plt.figure(figsize = (2, 1))  \n",
    "\n",
    "    plt.subplot(1, 2, 1)\n",
    "    plt.imshow(bar_true)\n",
    "    plt.axis('off')\n",
    "    plt.subplot(1, 2, 2)\n",
    "    plt.imshow(bar_predict)\n",
    "    plt.axis('off')\n",
    "    plt.show()"
   ]
  },
  {
   "cell_type": "markdown",
   "metadata": {},
   "source": [
    "마찬가지로 대부분 무채색이 예측 결과다"
   ]
  },
  {
   "cell_type": "markdown",
   "metadata": {},
   "source": [
    "### ColorMind 사용\n",
    "모델을 이용한 색상 추천은 대부분 무채색이기에 다양한 색상 추천을 위해 Color mind api 사용"
   ]
  },
  {
   "cell_type": "code",
   "execution_count": 65,
   "metadata": {},
   "outputs": [],
   "source": [
    "import requests\n",
    "import json"
   ]
  },
  {
   "cell_type": "code",
   "execution_count": 66,
   "metadata": {},
   "outputs": [],
   "source": [
    "url = \"http://colormind.io/api/\"\n",
    "data = {\n",
    "    'model' : \"default\",\n",
    "    'input' : [[44, 43, 44], [90, 83, 82], \"N\"]\n",
    "}"
   ]
  },
  {
   "cell_type": "code",
   "execution_count": 67,
   "metadata": {},
   "outputs": [
    {
     "data": {
      "image/png": "[encoded data removed]",
      "text/plain": [
       "<Figure size 720x72 with 6 Axes>"
      ]
     },
     "metadata": {},
     "output_type": "display_data"
    },
    {
     "data": {
      "image/png": "[encoded data removed]",
      "text/plain": [
       "<Figure size 720x72 with 6 Axes>"
      ]
     },
     "metadata": {},
     "output_type": "display_data"
    },
    {
     "data": {
      "image/png": "[encoded data removed]",
      "text/plain": [
       "<Figure size 720x72 with 6 Axes>"
      ]
     },
     "metadata": {},
     "output_type": "display_data"
    },
    {
     "data": {
      "image/png": "[encoded data removed]",
      "text/plain": [
       "<Figure size 720x72 with 6 Axes>"
      ]
     },
     "metadata": {},
     "output_type": "display_data"
    },
    {
     "data": {
      "image/png": "[encoded data removed]",
      "text/plain": [
       "<Figure size 720x72 with 6 Axes>"
      ]
     },
     "metadata": {},
     "output_type": "display_data"
    }
   ],
   "source": [
    "for idx in range(5):\n",
    "    input_color = [color1[idx].tolist(), color2[idx].tolist(), \"N\"]\n",
    "    data = {\n",
    "    'model' : \"default\",\n",
    "    'input' : input_color}\n",
    "    \n",
    "    plt.figure(figsize = (10, 1)) \n",
    "    \n",
    "    true = [color1[idx], color2[idx], color3[idx]]\n",
    "    bar_true = plot_colors([0.33, 0.33, 0.33], true, h=50, w=300)\n",
    "    plt.subplot(1, 6, 1)\n",
    "    plt.imshow(bar_true)\n",
    "    plt.axis('off')\n",
    "\n",
    "    for rand_idx in range(5):\n",
    "        response = requests.post(url, data = json.dumps(data))\n",
    "        color_3_pre = np.array(response.json()[\"result\"][2])\n",
    "        predict = [color1[idx], color2[idx], color_3_pre]\n",
    "        bar_predict = plot_colors([0.33, 0.33, 0.33], predict, h=50, w=300)\n",
    "\n",
    "        plt.subplot(1, 6, 2 + rand_idx)\n",
    "        plt.imshow(bar_predict)\n",
    "        plt.axis('off')\n",
    "    plt.show()\n",
    "    "
   ]
  },
  {
   "cell_type": "markdown",
   "metadata": {},
   "source": [
    "### 색깔 추천 (컬러마인드에서 예측한 값과 가까운 값 , 예측한 값, 컬러마인드 나머지1)"
   ]
  },
  {
   "cell_type": "code",
   "execution_count": 77,
   "metadata": {},
   "outputs": [
    {
     "name": "stdout",
     "output_type": "stream",
     "text": [
      "[array([243, 190, 166]), array([173.60344, 171.73236, 173.79567], dtype=float32), array([253, 221, 166])]\n"
     ]
    },
    {
     "data": {
      "image/png": "[encoded data removed]",
      "text/plain": [
       "<Figure size 432x288 with 4 Axes>"
      ]
     },
     "metadata": {},
     "output_type": "display_data"
    }
   ],
   "source": [
    "idx = 0\n",
    "input_color = np.hstack([color1[idx], color2[idx]]).reshape(1,6)\n",
    " \n",
    "# true color values\n",
    "true = [color1[idx], color2[idx], color3[idx]]\n",
    "bar_true = plot_colors([0.33, 0.33, 0.33], true, h=50, w=300)\n",
    "\n",
    "# predict color values using dnn\n",
    "color_3_pre = model_NN.predict(input_color/256)[0]\n",
    "#print(color_3_pre)\n",
    "\n",
    "# 유클리디안 거리를 사용하여 더 비슷한 색상을 찾는다\n",
    "li_similar = []\n",
    "li_color_3_colormind = []\n",
    "request_color = [color1[idx].tolist(), color2[idx].tolist(), \"N\"]\n",
    "#print(request_color)\n",
    "data = {'model' : \"default\",'input' : request_color}\n",
    "for _ in range(3):\n",
    "    response = requests.post(url, data = json.dumps(data))\n",
    "    color_3_colormind = np.array(response.json()[\"result\"][2])\n",
    "    li_similar.append(np.linalg.norm(color_3_pre - color_3_colormind))\n",
    "    li_color_3_colormind.append(color_3_colormind)\n",
    "    \n",
    "# 유사도가 가장 큰 색상 선택\n",
    "li_idx = np.argsort(np.array(li_similar))\n",
    "\n",
    "li_color_3_recom = []\n",
    "# recommend color1\n",
    "li_color_3_recom.append(li_color_3_colormind[li_idx[0]])\n",
    "# recommend color2\n",
    "li_color_3_recom.append(color_3_pre)\n",
    "# recommend color3\n",
    "li_color_3_recom.append(li_color_3_colormind[li_idx[1]])\n",
    "\n",
    "\n",
    "# draw color bar\n",
    "plt.subplot(1, 4, 1)\n",
    "plt.imshow(bar_true)\n",
    "plt.axis('off')\n",
    "bar_true = plot_colors([0.33, 0.33, 0.33], true, h=50, w=300)\n",
    "for recom_idx in range(3):\n",
    "    recom = [color1[idx], color2[idx],  li_color_3_recom[recom_idx]]\n",
    "    bar_recom = plot_colors([0.33, 0.33, 0.33], recom, h=50, w=300)\n",
    "    plt.subplot(1, 4, 2+recom_idx)\n",
    "    plt.imshow(bar_recom)\n",
    "    plt.title('predict {}'.format(recom_idx))\n",
    "    plt.axis('off')\n",
    "\n",
    "#print(true)\n",
    "print(li_color_3_recom)\n",
    "# predict = [color1[idx], color2[idx], color_3_pre]\n",
    "# bar_predict = plot_colors([0.33, 0.33, 0.33], predict, h=50, w=300)"
   ]
  },
  {
   "cell_type": "code",
   "execution_count": null,
   "metadata": {},
   "outputs": [],
   "source": []
  },
  {
   "cell_type": "code",
   "execution_count": 80,
   "metadata": {},
   "outputs": [],
   "source": [
    "from keras.models import load_model\n",
    "import pandas as pd\n",
    "import numpy as np\n",
    "import requests\n",
    "import urllib\n",
    "import json"
   ]
  },
  {
   "cell_type": "code",
   "execution_count": 81,
   "metadata": {},
   "outputs": [],
   "source": [
    "def get_hex(r, g, b):\n",
    "    return '#%02x%02x%02x' % ( r, g, b)\n",
    "def get_hex(color): \n",
    "    return '#%02x%02x%02x' % ( color[0], color[1], color[2])\n",
    "def recommand_color(color1, color2):\n",
    "    '''\n",
    "    recommand 3 colors\n",
    "    input : main color1(RGB), sub color2(RGB)\n",
    "    output : \n",
    "    recommand color1(RGB, nearest colormind from predict), \n",
    "    recommand color2(RGB, predict), \n",
    "    recommand color3(RGB, second colormind from predict)\n",
    "    '''\n",
    "    # 2*3 -> 1,6\n",
    "    input_color = np.hstack([color1, color2]).reshape(1,6)\n",
    " \n",
    "    # predict color values using dnn\n",
    "    model = load_model(\"model/model_nn.hdf5\")\n",
    "    color_3_pre = model.predict(input_color/256)[0]\n",
    "    \n",
    "    # get color values using colormind \n",
    "    li_similar = []\n",
    "    li_color_3_colormind = []\n",
    "    request_color = [color1, color2, \"N\"] \n",
    "    data = {'model' : \"default\",'input' : request_color}\n",
    "    url = 'http://colormind.io/api/'\n",
    "    for _ in range(3):\n",
    "        response = requests.post(url, data = json.dumps(data))\n",
    "        color_3_colormind = np.array(response.json()[\"result\"][2])\n",
    "        li_similar.append(np.linalg.norm(color_3_pre - color_3_colormind))\n",
    "        li_color_3_colormind.append(color_3_colormind)\n",
    "\n",
    "    li_idx = np.argsort(np.array(li_similar))\n",
    "    \n",
    "    c1 = get_hex(li_color_3_colormind[li_idx[0]])\n",
    "    c2 = get_hex(color_3_pre.astype(int))\n",
    "    c3 = get_hex(li_color_3_colormind[li_idx[1]])\n",
    "   \n",
    "    return c1, c2, c3"
   ]
  },
  {
   "cell_type": "code",
   "execution_count": 82,
   "metadata": {},
   "outputs": [
    {
     "data": {
      "text/plain": [
       "('#f7ea9d', '#adabad', '#f6dc56')"
      ]
     },
     "execution_count": 82,
     "metadata": {},
     "output_type": "execute_result"
    }
   ],
   "source": [
    "recommand_color([19.32861825, 74.59376488, 101.89400857], [118.23544433, 136.80332436, 161.93016993])"
   ]
  },
  {
   "cell_type": "code",
   "execution_count": null,
   "metadata": {},
   "outputs": [],
   "source": []
  }
 ],
 "metadata": {
  "kernelspec": {
   "display_name": "Python 3",
   "language": "python",
   "name": "python3"
  },
  "language_info": {
   "codemirror_mode": {
    "name": "ipython",
    "version": 3
   },
   "file_extension": ".py",
   "mimetype": "text/x-python",
   "name": "python",
   "nbconvert_exporter": "python",
   "pygments_lexer": "ipython3",
   "version": "3.6.5"
  }
 },
 "nbformat": 4,
 "nbformat_minor": 2
}
