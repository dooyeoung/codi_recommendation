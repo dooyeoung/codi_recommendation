{
 "cells": [
  {
   "cell_type": "code",
   "execution_count": 87,
   "metadata": {},
   "outputs": [],
   "source": [
    "import pandas as pd\n",
    "import cv2\n",
    "from utils.imageprocessing import *"
   ]
  },
  {
   "cell_type": "code",
   "execution_count": 88,
   "metadata": {},
   "outputs": [],
   "source": [
    "df_codis_info = pd.read_csv(\"data/codis_info.csv\")"
   ]
  },
  {
   "cell_type": "code",
   "execution_count": 89,
   "metadata": {},
   "outputs": [
    {
     "data": {
      "text/html": [
       "<div>\n",
       "<style>\n",
       "    .dataframe thead tr:only-child th {\n",
       "        text-align: right;\n",
       "    }\n",
       "\n",
       "    .dataframe thead th {\n",
       "        text-align: left;\n",
       "    }\n",
       "\n",
       "    .dataframe tbody tr th {\n",
       "        vertical-align: top;\n",
       "    }\n",
       "</style>\n",
       "<table border=\"1\" class=\"dataframe\">\n",
       "  <thead>\n",
       "    <tr style=\"text-align: right;\">\n",
       "      <th></th>\n",
       "      <th>name</th>\n",
       "      <th>color1_ratio</th>\n",
       "      <th>color1_R</th>\n",
       "      <th>color1_G</th>\n",
       "      <th>color1_B</th>\n",
       "      <th>color2_ratio</th>\n",
       "      <th>color2_R</th>\n",
       "      <th>color2_G</th>\n",
       "      <th>color2_B</th>\n",
       "      <th>color3_ratio</th>\n",
       "      <th>color3_R</th>\n",
       "      <th>color3_G</th>\n",
       "      <th>color3_B</th>\n",
       "    </tr>\n",
       "  </thead>\n",
       "  <tbody>\n",
       "    <tr>\n",
       "      <th>0</th>\n",
       "      <td>395456</td>\n",
       "      <td>0.552068</td>\n",
       "      <td>19.347484</td>\n",
       "      <td>74.598975</td>\n",
       "      <td>101.897819</td>\n",
       "      <td>0.333003</td>\n",
       "      <td>118.263815</td>\n",
       "      <td>136.837699</td>\n",
       "      <td>161.962385</td>\n",
       "      <td>0.114928</td>\n",
       "      <td>225.595962</td>\n",
       "      <td>231.418573</td>\n",
       "      <td>234.083715</td>\n",
       "    </tr>\n",
       "    <tr>\n",
       "      <th>1</th>\n",
       "      <td>395457</td>\n",
       "      <td>0.366889</td>\n",
       "      <td>235.853713</td>\n",
       "      <td>237.499254</td>\n",
       "      <td>243.467044</td>\n",
       "      <td>0.354360</td>\n",
       "      <td>9.325768</td>\n",
       "      <td>49.415161</td>\n",
       "      <td>111.804539</td>\n",
       "      <td>0.278750</td>\n",
       "      <td>111.723454</td>\n",
       "      <td>129.031600</td>\n",
       "      <td>134.944259</td>\n",
       "    </tr>\n",
       "    <tr>\n",
       "      <th>2</th>\n",
       "      <td>395458</td>\n",
       "      <td>0.478984</td>\n",
       "      <td>29.888510</td>\n",
       "      <td>32.705910</td>\n",
       "      <td>34.252413</td>\n",
       "      <td>0.327304</td>\n",
       "      <td>91.135019</td>\n",
       "      <td>114.749914</td>\n",
       "      <td>136.079119</td>\n",
       "      <td>0.193712</td>\n",
       "      <td>242.427326</td>\n",
       "      <td>243.395930</td>\n",
       "      <td>245.615988</td>\n",
       "    </tr>\n",
       "    <tr>\n",
       "      <th>3</th>\n",
       "      <td>395459</td>\n",
       "      <td>0.454407</td>\n",
       "      <td>251.017751</td>\n",
       "      <td>250.918482</td>\n",
       "      <td>250.725811</td>\n",
       "      <td>0.333933</td>\n",
       "      <td>39.257884</td>\n",
       "      <td>44.032468</td>\n",
       "      <td>34.898356</td>\n",
       "      <td>0.211660</td>\n",
       "      <td>98.930366</td>\n",
       "      <td>98.529972</td>\n",
       "      <td>67.635901</td>\n",
       "    </tr>\n",
       "    <tr>\n",
       "      <th>4</th>\n",
       "      <td>395460</td>\n",
       "      <td>0.438566</td>\n",
       "      <td>125.796515</td>\n",
       "      <td>27.693648</td>\n",
       "      <td>34.216343</td>\n",
       "      <td>0.397761</td>\n",
       "      <td>49.884847</td>\n",
       "      <td>48.377934</td>\n",
       "      <td>50.190314</td>\n",
       "      <td>0.163673</td>\n",
       "      <td>228.921261</td>\n",
       "      <td>229.310303</td>\n",
       "      <td>230.060820</td>\n",
       "    </tr>\n",
       "  </tbody>\n",
       "</table>\n",
       "</div>"
      ],
      "text/plain": [
       "     name  color1_ratio    color1_R    color1_G    color1_B  color2_ratio  \\\n",
       "0  395456      0.552068   19.347484   74.598975  101.897819      0.333003   \n",
       "1  395457      0.366889  235.853713  237.499254  243.467044      0.354360   \n",
       "2  395458      0.478984   29.888510   32.705910   34.252413      0.327304   \n",
       "3  395459      0.454407  251.017751  250.918482  250.725811      0.333933   \n",
       "4  395460      0.438566  125.796515   27.693648   34.216343      0.397761   \n",
       "\n",
       "     color2_R    color2_G    color2_B  color3_ratio    color3_R    color3_G  \\\n",
       "0  118.263815  136.837699  161.962385      0.114928  225.595962  231.418573   \n",
       "1    9.325768   49.415161  111.804539      0.278750  111.723454  129.031600   \n",
       "2   91.135019  114.749914  136.079119      0.193712  242.427326  243.395930   \n",
       "3   39.257884   44.032468   34.898356      0.211660   98.930366   98.529972   \n",
       "4   49.884847   48.377934   50.190314      0.163673  228.921261  229.310303   \n",
       "\n",
       "     color3_B  \n",
       "0  234.083715  \n",
       "1  134.944259  \n",
       "2  245.615988  \n",
       "3   67.635901  \n",
       "4  230.060820  "
      ]
     },
     "execution_count": 89,
     "metadata": {},
     "output_type": "execute_result"
    }
   ],
   "source": [
    "df_codis_info.head()"
   ]
  },
  {
   "cell_type": "code",
   "execution_count": 90,
   "metadata": {},
   "outputs": [
    {
     "data": {
      "text/plain": [
       "(19, 74, 101, 118, 136, 161, 225, 231, 234)"
      ]
     },
     "execution_count": 90,
     "metadata": {},
     "output_type": "execute_result"
    }
   ],
   "source": [
    "19, 74, 101, 118, 136, 161, 225, 231, 234"
   ]
  },
  {
   "cell_type": "markdown",
   "metadata": {},
   "source": [
    "### KNN_codis"
   ]
  },
  {
   "cell_type": "code",
   "execution_count": 133,
   "metadata": {},
   "outputs": [],
   "source": [
    "def KNN_codis(color1, color2, color3, df_codis_info, debug=False):\n",
    "    df_codis_rgb = df_codis_info.filter(regex=\"[RGB]\")\n",
    "    \n",
    "    color1 = np.array(color1)\n",
    "    color2 = np.array(color2)\n",
    "    color3 = np.array(color3)\n",
    "    color = np.concatenate([color1, color2, color3])\n",
    "    \n",
    "    eucliDist = np.linalg.norm(df_codis_rgb - color, axis = 1)\n",
    "    min_idx = np.argsort(eucliDist)[0]\n",
    "    similar_codis_id = df_codis_info[\"name\"][min_idx]\n",
    "    \n",
    "    codis_color = df_codis_rgb.iloc[min_idx].values\n",
    "    \n",
    "    if debug == True:\n",
    "        print(similar_codis_id)\n",
    "        print(color)\n",
    "        print(codis_color)\n",
    "        bar1 = plot_colors([0.33, 0.33, 0.33], color.reshape(3,3))\n",
    "        bar2 = plot_colors([0.33, 0.33, 0.33], codis_color.reshape(3,3))\n",
    "        plt.imshow(bar1)\n",
    "        plt.axis(\"off\")\n",
    "        plt.show()\n",
    "        \n",
    "        plt.imshow(bar2)\n",
    "        plt.axis(\"off\")\n",
    "        plt.show()\n",
    "        \n",
    "        img_path = \"data/codis/\" + str(similar_codis_id) + \".jpg\"\n",
    "        image = cv2.imread(img_path)\n",
    "        image = cv2.cvtColor(image, cv2.COLOR_BGR2RGB)\n",
    "        plt.imshow(image)\n",
    "        plt.axis(\"off\")\n",
    "        plt.show()\n",
    "        \n",
    "        "
   ]
  },
  {
   "cell_type": "code",
   "execution_count": 138,
   "metadata": {},
   "outputs": [
    {
     "name": "stdout",
     "output_type": "stream",
     "text": [
      "396307\n",
      "[100   0 100 255 255 255   0 100 100]\n",
      "[  27.98119522   30.96924303   36.65418327  237.4918739   237.63226943\n",
      "  241.00058743   45.83897485   60.80174081   89.92649903]\n"
     ]
    },
    {
     "data": {
      "image/png": "[encoded data removed]",
      "text/plain": [
       "<matplotlib.figure.Figure at 0x160515d1b38>"
      ]
     },
     "metadata": {},
     "output_type": "display_data"
    },
    {
     "data": {
      "image/png": "[encoded data removed]",
      "text/plain": [
       "<matplotlib.figure.Figure at 0x1605107c6d8>"
      ]
     },
     "metadata": {},
     "output_type": "display_data"
    },
    {
     "data": {
      "image/png": "[encoded data removed]",
      "text/plain": [
       "<matplotlib.figure.Figure at 0x160514659b0>"
      ]
     },
     "metadata": {},
     "output_type": "display_data"
    }
   ],
   "source": [
    "KNN_codis([100, 0, 100], [255, 255, 255], [0, 100, 100], df_codis_info, debug=True)"
   ]
  },
  {
   "cell_type": "code",
   "execution_count": null,
   "metadata": {},
   "outputs": [],
   "source": []
  }
 ],
 "metadata": {
  "kernelspec": {
   "display_name": "Python 3",
   "language": "python",
   "name": "python3"
  },
  "language_info": {
   "codemirror_mode": {
    "name": "ipython",
    "version": 3
   },
   "file_extension": ".py",
   "mimetype": "text/x-python",
   "name": "python",
   "nbconvert_exporter": "python",
   "pygments_lexer": "ipython3",
   "version": "3.6.3"
  }
 },
 "nbformat": 4,
 "nbformat_minor": 2
}
