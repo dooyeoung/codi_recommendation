{
 "cells": [
  {
   "cell_type": "code",
   "execution_count": 29,
   "metadata": {},
   "outputs": [],
   "source": [
    "import pandas as pd\n",
    "import cv2\n",
    "from utils.imageprocessing import *\n",
    "%matplotlib inline"
   ]
  },
  {
   "cell_type": "code",
   "execution_count": 30,
   "metadata": {},
   "outputs": [],
   "source": [
    "df_codis_info = pd.read_csv(\"data/codis_info.csv\")"
   ]
  },
  {
   "cell_type": "code",
   "execution_count": 31,
   "metadata": {},
   "outputs": [
    {
     "data": {
      "text/html": [
       "<div>\n",
       "<style scoped>\n",
       "    .dataframe tbody tr th:only-of-type {\n",
       "        vertical-align: middle;\n",
       "    }\n",
       "\n",
       "    .dataframe tbody tr th {\n",
       "        vertical-align: top;\n",
       "    }\n",
       "\n",
       "    .dataframe thead th {\n",
       "        text-align: right;\n",
       "    }\n",
       "</style>\n",
       "<table border=\"1\" class=\"dataframe\">\n",
       "  <thead>\n",
       "    <tr style=\"text-align: right;\">\n",
       "      <th></th>\n",
       "      <th>name</th>\n",
       "      <th>color1_ratio</th>\n",
       "      <th>color1_R</th>\n",
       "      <th>color1_G</th>\n",
       "      <th>color1_B</th>\n",
       "      <th>color1_H</th>\n",
       "      <th>color1_S</th>\n",
       "      <th>color1_V</th>\n",
       "      <th>color2_ratio</th>\n",
       "      <th>color2_R</th>\n",
       "      <th>...</th>\n",
       "      <th>color2_H</th>\n",
       "      <th>color2_S</th>\n",
       "      <th>color2_V</th>\n",
       "      <th>color3_ratio</th>\n",
       "      <th>color3_R</th>\n",
       "      <th>color3_G</th>\n",
       "      <th>color3_B</th>\n",
       "      <th>color3_H</th>\n",
       "      <th>color3_S</th>\n",
       "      <th>color3_V</th>\n",
       "    </tr>\n",
       "  </thead>\n",
       "  <tbody>\n",
       "    <tr>\n",
       "      <th>0</th>\n",
       "      <td>395456</td>\n",
       "      <td>0.551991</td>\n",
       "      <td>19.320905</td>\n",
       "      <td>74.595451</td>\n",
       "      <td>101.896916</td>\n",
       "      <td>199.837334</td>\n",
       "      <td>0.810388</td>\n",
       "      <td>0.399596</td>\n",
       "      <td>0.333034</td>\n",
       "      <td>118.239044</td>\n",
       "      <td>...</td>\n",
       "      <td>214.511815</td>\n",
       "      <td>0.269768</td>\n",
       "      <td>0.634980</td>\n",
       "      <td>0.114975</td>\n",
       "      <td>225.549086</td>\n",
       "      <td>231.383136</td>\n",
       "      <td>234.056347</td>\n",
       "      <td>198.853620</td>\n",
       "      <td>0.036347</td>\n",
       "      <td>0.917868</td>\n",
       "    </tr>\n",
       "    <tr>\n",
       "      <th>1</th>\n",
       "      <td>395457</td>\n",
       "      <td>0.366889</td>\n",
       "      <td>235.853713</td>\n",
       "      <td>237.499254</td>\n",
       "      <td>243.467044</td>\n",
       "      <td>227.031633</td>\n",
       "      <td>0.031270</td>\n",
       "      <td>0.954773</td>\n",
       "      <td>0.354360</td>\n",
       "      <td>9.342645</td>\n",
       "      <td>...</td>\n",
       "      <td>216.527696</td>\n",
       "      <td>0.916439</td>\n",
       "      <td>0.438454</td>\n",
       "      <td>0.278750</td>\n",
       "      <td>111.742195</td>\n",
       "      <td>129.048105</td>\n",
       "      <td>134.951698</td>\n",
       "      <td>195.261662</td>\n",
       "      <td>0.171984</td>\n",
       "      <td>0.529222</td>\n",
       "    </tr>\n",
       "    <tr>\n",
       "      <th>2</th>\n",
       "      <td>395458</td>\n",
       "      <td>0.479153</td>\n",
       "      <td>29.906952</td>\n",
       "      <td>32.739913</td>\n",
       "      <td>34.298083</td>\n",
       "      <td>201.290686</td>\n",
       "      <td>0.128028</td>\n",
       "      <td>0.134502</td>\n",
       "      <td>0.327135</td>\n",
       "      <td>91.206920</td>\n",
       "      <td>...</td>\n",
       "      <td>208.477727</td>\n",
       "      <td>0.330124</td>\n",
       "      <td>0.533941</td>\n",
       "      <td>0.193712</td>\n",
       "      <td>242.472949</td>\n",
       "      <td>243.433101</td>\n",
       "      <td>245.646015</td>\n",
       "      <td>221.844349</td>\n",
       "      <td>0.012917</td>\n",
       "      <td>0.963318</td>\n",
       "    </tr>\n",
       "    <tr>\n",
       "      <th>3</th>\n",
       "      <td>395459</td>\n",
       "      <td>0.454407</td>\n",
       "      <td>251.017751</td>\n",
       "      <td>250.918482</td>\n",
       "      <td>250.725811</td>\n",
       "      <td>39.598121</td>\n",
       "      <td>0.001163</td>\n",
       "      <td>0.984383</td>\n",
       "      <td>0.334314</td>\n",
       "      <td>39.300630</td>\n",
       "      <td>...</td>\n",
       "      <td>91.225767</td>\n",
       "      <td>0.207809</td>\n",
       "      <td>0.172809</td>\n",
       "      <td>0.211279</td>\n",
       "      <td>98.980089</td>\n",
       "      <td>98.583512</td>\n",
       "      <td>67.683561</td>\n",
       "      <td>59.239704</td>\n",
       "      <td>0.316190</td>\n",
       "      <td>0.388157</td>\n",
       "    </tr>\n",
       "    <tr>\n",
       "      <th>4</th>\n",
       "      <td>395460</td>\n",
       "      <td>0.438510</td>\n",
       "      <td>125.794521</td>\n",
       "      <td>27.660428</td>\n",
       "      <td>34.185092</td>\n",
       "      <td>356.010766</td>\n",
       "      <td>0.780114</td>\n",
       "      <td>0.493312</td>\n",
       "      <td>0.397817</td>\n",
       "      <td>49.913950</td>\n",
       "      <td>...</td>\n",
       "      <td>289.895157</td>\n",
       "      <td>0.036079</td>\n",
       "      <td>0.196938</td>\n",
       "      <td>0.163673</td>\n",
       "      <td>228.921261</td>\n",
       "      <td>229.310303</td>\n",
       "      <td>230.060820</td>\n",
       "      <td>219.516178</td>\n",
       "      <td>0.004953</td>\n",
       "      <td>0.902199</td>\n",
       "    </tr>\n",
       "  </tbody>\n",
       "</table>\n",
       "<p>5 rows × 22 columns</p>\n",
       "</div>"
      ],
      "text/plain": [
       "     name  color1_ratio    color1_R    color1_G    color1_B    color1_H  \\\n",
       "0  395456      0.551991   19.320905   74.595451  101.896916  199.837334   \n",
       "1  395457      0.366889  235.853713  237.499254  243.467044  227.031633   \n",
       "2  395458      0.479153   29.906952   32.739913   34.298083  201.290686   \n",
       "3  395459      0.454407  251.017751  250.918482  250.725811   39.598121   \n",
       "4  395460      0.438510  125.794521   27.660428   34.185092  356.010766   \n",
       "\n",
       "   color1_S  color1_V  color2_ratio    color2_R    ...       color2_H  \\\n",
       "0  0.810388  0.399596      0.333034  118.239044    ...     214.511815   \n",
       "1  0.031270  0.954773      0.354360    9.342645    ...     216.527696   \n",
       "2  0.128028  0.134502      0.327135   91.206920    ...     208.477727   \n",
       "3  0.001163  0.984383      0.334314   39.300630    ...      91.225767   \n",
       "4  0.780114  0.493312      0.397817   49.913950    ...     289.895157   \n",
       "\n",
       "   color2_S  color2_V  color3_ratio    color3_R    color3_G    color3_B  \\\n",
       "0  0.269768  0.634980      0.114975  225.549086  231.383136  234.056347   \n",
       "1  0.916439  0.438454      0.278750  111.742195  129.048105  134.951698   \n",
       "2  0.330124  0.533941      0.193712  242.472949  243.433101  245.646015   \n",
       "3  0.207809  0.172809      0.211279   98.980089   98.583512   67.683561   \n",
       "4  0.036079  0.196938      0.163673  228.921261  229.310303  230.060820   \n",
       "\n",
       "     color3_H  color3_S  color3_V  \n",
       "0  198.853620  0.036347  0.917868  \n",
       "1  195.261662  0.171984  0.529222  \n",
       "2  221.844349  0.012917  0.963318  \n",
       "3   59.239704  0.316190  0.388157  \n",
       "4  219.516178  0.004953  0.902199  \n",
       "\n",
       "[5 rows x 22 columns]"
      ]
     },
     "execution_count": 31,
     "metadata": {},
     "output_type": "execute_result"
    }
   ],
   "source": [
    "df_codis_info.head()"
   ]
  },
  {
   "cell_type": "code",
   "execution_count": 32,
   "metadata": {},
   "outputs": [
    {
     "data": {
      "text/plain": [
       "(19, 74, 101, 118, 136, 161, 225, 231, 234)"
      ]
     },
     "execution_count": 32,
     "metadata": {},
     "output_type": "execute_result"
    }
   ],
   "source": [
    "19, 74, 101, 118, 136, 161, 225, 231, 234"
   ]
  },
  {
   "cell_type": "markdown",
   "metadata": {},
   "source": [
    "### KNN_codis"
   ]
  },
  {
   "cell_type": "code",
   "execution_count": 33,
   "metadata": {},
   "outputs": [],
   "source": [
    "def KNN_codis(color1, color2, color3, df_codis_info, debug=False):\n",
    "    df_codis_rgb = df_codis_info.filter(regex=\"[RGB]\")\n",
    "    \n",
    "    color1 = np.array(color1)\n",
    "    color2 = np.array(color2)\n",
    "    color3 = np.array(color3)\n",
    "    color = np.concatenate([color1, color2, color3])\n",
    "    \n",
    "    # 유클리디안 거리 구하기\n",
    "    eucliDist = np.linalg.norm(df_codis_rgb - color, axis = 1)\n",
    "    \n",
    "    # 가장 가까운 색상 구하기\n",
    "    min_idx = np.argsort(eucliDist)[0]\n",
    "    similar_codis_id = df_codis_info[\"name\"][min_idx]\n",
    "    \n",
    "    codis_color = df_codis_rgb.iloc[min_idx].values\n",
    "    \n",
    "    if debug == True:\n",
    "        print(similar_codis_id)\n",
    "        print(color)\n",
    "        print(codis_color)\n",
    "        bar1 = plot_colors([0.33, 0.33, 0.33], color.reshape(3,3))\n",
    "        bar2 = plot_colors([0.33, 0.33, 0.33], codis_color.reshape(3,3))\n",
    "        plt.imshow(bar1)\n",
    "        plt.axis(\"off\")\n",
    "        plt.show()\n",
    "        \n",
    "        plt.imshow(bar2)\n",
    "        plt.axis(\"off\")\n",
    "        plt.show()\n",
    "        \n",
    "        img_path = \"image/img/codis/\" + str(similar_codis_id) + \".jpg\"\n",
    "        image = cv2.imread(img_path)\n",
    "        image = cv2.cvtColor(image, cv2.COLOR_BGR2RGB)\n",
    "        plt.imshow(image)\n",
    "        plt.axis(\"off\")\n",
    "        plt.show()\n",
    "        \n",
    "        "
   ]
  },
  {
   "cell_type": "code",
   "execution_count": 34,
   "metadata": {},
   "outputs": [
    {
     "name": "stdout",
     "output_type": "stream",
     "text": [
      "396307\n",
      "[100   0 100 255 255 255   0 100 100]\n",
      "[ 27.98474141  30.89061998  36.40266624 237.45664514 237.59816011\n",
      " 240.96731259  45.31867612  60.2572104   89.37021277]\n"
     ]
    },
    {
     "data": {
      "image/png": "[encoded data removed]",
      "text/plain": [
       "<Figure size 432x288 with 1 Axes>"
      ]
     },
     "metadata": {},
     "output_type": "display_data"
    },
    {
     "data": {
      "image/png": "[encoded data removed]",
      "text/plain": [
       "<Figure size 432x288 with 1 Axes>"
      ]
     },
     "metadata": {},
     "output_type": "display_data"
    },
    {
     "data": {
      "image/png": "[encoded data removed]",
      "text/plain": [
       "<Figure size 432x288 with 1 Axes>"
      ]
     },
     "metadata": {},
     "output_type": "display_data"
    }
   ],
   "source": [
    "KNN_codis([100, 0, 100], [255, 255, 255], [0, 100, 100], df_codis_info, debug=True)"
   ]
  },
  {
   "cell_type": "markdown",
   "metadata": {},
   "source": [
    "가장 가까운 비슷한 색상을 구했지만 무채색이 아닌경우에는 성능이 좋지않다."
   ]
  }
 ],
 "metadata": {
  "kernelspec": {
   "display_name": "Python 3",
   "language": "python",
   "name": "python3"
  },
  "language_info": {
   "codemirror_mode": {
    "name": "ipython",
    "version": 3
   },
   "file_extension": ".py",
   "mimetype": "text/x-python",
   "name": "python",
   "nbconvert_exporter": "python",
   "pygments_lexer": "ipython3",
   "version": "3.6.5"
  }
 },
 "nbformat": 4,
 "nbformat_minor": 2
}
